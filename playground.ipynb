{
 "cells": [
  {
   "cell_type": "code",
   "execution_count": null,
   "metadata": {},
   "outputs": [],
   "source": [
    "import os\n",
    "import random\n",
    "import numpy as np\n",
    "import pandas as pd\n",
    "from tqdm import tqdm\n",
    "import tensorflow as tf\n",
    "import tensorflow_addons as tfa\n",
    "from model import DeeplabV3Plus\n",
    "from superresolution_scripts.superresolution import Superresolution\n",
    "from superresolution_scripts.optimizer import Optimizer\n",
    "from utils import *\n",
    "from superresolution_scripts.superres_utils import list_precomputed_data_paths, load_SR_data, normalize_coefficients, threshold_image, get_img_paths, filter_images_by_class\n",
    "os.environ[\"CUDA_VISIBLE_DEVICES\"] = \"0\""
   ]
  },
  {
   "cell_type": "code",
   "execution_count": null,
   "metadata": {},
   "outputs": [],
   "source": [
    "SEED = 1234\n",
    "\n",
    "np.random.seed(SEED)\n",
    "tf.random.set_seed(SEED)"
   ]
  },
  {
   "cell_type": "code",
   "execution_count": null,
   "metadata": {},
   "outputs": [],
   "source": [
    "IMG_SIZE = (512, 512)\n",
    "FEATURE_SIZE = (128, 128)\n",
    "NUM_AUG = 100\n",
    "CLASS_ID = 16\n",
    "NUM_SAMPLES = 5\n",
    "\n",
    "MODE = \"argmax\"\n",
    "MODEL_BACKBONE = \"xception\"\n",
    "USE_VALIDATION = True\n",
    "SAVE_SLICE_OUTPUT = False\n",
    "\n",
    "DATA_DIR = os.path.join(os.getcwd(), \"data\")\n",
    "PASCAL_ROOT = os.path.join(DATA_DIR, \"dataset_root\", \"VOCdevkit\", \"VOC2012\")\n",
    "IMGS_PATH = os.path.join(PASCAL_ROOT, \"JPEGImages\")\n",
    "\n",
    "SUPERRES_ROOT = os.path.join(DATA_DIR, \"superres_root\")\n",
    "AUGMENTED_COPIES_ROOT = os.path.join(SUPERRES_ROOT, \"augmented_copies\")\n",
    "PRECOMPUTED_OUTPUT_DIR = os.path.join(\n",
    "    AUGMENTED_COPIES_ROOT, f\"{MODEL_BACKBONE}_{MODE}_{NUM_AUG}{'_validation' if USE_VALIDATION else ''}\")\n",
    "STANDARD_OUTPUT_ROOT = os.path.join(SUPERRES_ROOT, \"standard_output\")\n",
    "STANDARD_OUTPUT_DIR = os.path.join(\n",
    "    STANDARD_OUTPUT_ROOT, f\"{MODEL_BACKBONE}_{CLASS_ID}{'_validation' if USE_VALIDATION else ''}\")\n",
    "SUPERRES_OUTPUT_DIR = os.path.join(\n",
    "    SUPERRES_ROOT, f\"superres_output_{MODE}{'_validation' if USE_VALIDATION else ''}\")"
   ]
  },
  {
   "cell_type": "code",
   "execution_count": null,
   "metadata": {},
   "outputs": [],
   "source": [
    "TEST_FOLDER = os.path.join(os.getcwd(), \"test_folder\")\n",
    "test_image_path = os.path.join(IMGS_PATH, \"2007_000528.jpg\")\n",
    "# test_image_path = os.path.join(IMGS_PATH, \"2010_004327.jpg\")\n",
    "\n",
    "\n",
    "# image_list_path = os.path.join(DATA_DIR, \"augmented_file_lists\",\n",
    "#                                 f\"{'valaug' if USE_VALIDATION else 'trainaug'}.txt\")\n",
    "# image_paths = get_img_paths(\n",
    "#     image_list_path, IMGS_PATH, is_png=False, sort=True)\n",
    "# test_image_path = random.choice(image_paths)\n",
    "# print(test_image_path)\n",
    "image = load_image(test_image_path, image_size=IMG_SIZE, normalize=True)"
   ]
  },
  {
   "cell_type": "code",
   "execution_count": null,
   "metadata": {},
   "outputs": [],
   "source": [
    "angle_max = 0.15\n",
    "shift_max = 80\n",
    "num_aug = 100"
   ]
  },
  {
   "cell_type": "code",
   "execution_count": null,
   "metadata": {},
   "outputs": [],
   "source": [
    "batched_images = tf.tile(tf.expand_dims(image, axis=0), [num_aug, 1, 1, 1])\n",
    "# angles = np.random.uniform(-angle_max, angle_max, num_aug)\n",
    "\n",
    "angles = np.random.uniform(-angle_max, angle_max, num_aug)\n",
    "shifts = np.random.uniform(-shift_max, shift_max, (num_aug, 2))\n",
    "# First sample is not augmented\n",
    "angles[0] = 0\n",
    "shifts[0] = np.array([0, 0])\n",
    "angles = angles.astype(\"float32\")\n",
    "shifts = shifts.astype(\"float32\")\n",
    "\n",
    "rotated_images = tfa.image.rotate(batched_images, angles, interpolation=\"bilinear\")\n",
    "augmented_images = tfa.image.translate(rotated_images, shifts, interpolation=\"bilinear\")"
   ]
  },
  {
   "cell_type": "code",
   "execution_count": null,
   "metadata": {},
   "outputs": [],
   "source": [
    "for i, image in enumerate(augmented_images):\n",
    "    tf.keras.utils.save_img(f\"{TEST_FOLDER}/augmented_images/{i}_class.png\", image, scale=True)"
   ]
  },
  {
   "cell_type": "code",
   "execution_count": null,
   "metadata": {},
   "outputs": [],
   "source": [
    "model = DeeplabV3Plus(\n",
    "        input_shape=(512, 512, 3),\n",
    "        classes=21,\n",
    "        OS=16,\n",
    "        last_activation=None,\n",
    "        load_weights=True,\n",
    "        backbone=MODEL_BACKBONE,\n",
    "        alpha=1.).build_model(final_upsample=True)\n",
    "\n",
    "predictions = model.predict(augmented_images)"
   ]
  },
  {
   "cell_type": "code",
   "execution_count": null,
   "metadata": {},
   "outputs": [],
   "source": [
    "segmentation_masks = np.array([create_mask(mask).numpy() for mask in predictions])\n",
    "augmented_images = np.array([image.numpy() for image in augmented_images])"
   ]
  },
  {
   "cell_type": "code",
   "execution_count": null,
   "metadata": {},
   "outputs": [],
   "source": [
    "plt.imshow(tf.image.resize(segmentation_masks[0], IMG_SIZE), cmap=\"gray\")\n",
    "plt.axis(\"off\")\n",
    "plt.show()"
   ]
  },
  {
   "cell_type": "code",
   "execution_count": null,
   "metadata": {},
   "outputs": [],
   "source": [
    "from matplotlib.colors import LinearSegmentedColormap, BoundaryNorm\n",
    "from matplotlib.colorbar import ColorbarBase\n",
    "\n",
    "cmap = plt.cm.jet\n",
    "cmaplist = [cmap(i) for i in range(cmap.N)]\n",
    "cmaplist[0] = (0, 0, 0, 1.0)\n",
    "# create the new map\n",
    "cmap = LinearSegmentedColormap.from_list('Custom cmap', cmaplist, cmap.N)\n",
    "# define the bins and normalize\n",
    "bounds = np.linspace(0, 20, 21)\n",
    "norm = BoundaryNorm(bounds, cmap.N)"
   ]
  },
  {
   "cell_type": "code",
   "execution_count": null,
   "metadata": {},
   "outputs": [],
   "source": [
    "fig = plt.figure(figsize=(15,8))\n",
    "# fig = plt.figure()\n",
    "\n",
    "for i in range(len(augmented_images)):\n",
    "        plt.subplot(2, 4, i + 1)\n",
    "        plt.imshow(augmented_images[i])\n",
    "        plt.axis('off')\n",
    "\n",
    "for k in range(len(segmentation_masks)):\n",
    "        plt.subplot(2, 4, 5 + k)\n",
    "        plt.imshow(augmented_images[k])\n",
    "        plt.imshow(segmentation_masks[k], cmap=cmap, norm=norm, alpha=1, interpolation=\"nearest\")\n",
    "        plt.axis(\"off\")\n",
    "\n",
    "# ax2 = fig.add_axes([0.95, 0.1, 0.03, 0.8])\n",
    "# cb = ColorbarBase(ax2, cmap=cmap, norm=norm,\n",
    "#     spacing='proportional', ticks=bounds, boundaries=bounds, format='%1i')\n",
    "\n",
    "plt.tight_layout()\n",
    "plt.show()"
   ]
  },
  {
   "cell_type": "code",
   "execution_count": null,
   "metadata": {},
   "outputs": [],
   "source": [
    "filename_16 = \"2008_002379\"\n",
    "original_image_path_16 = os.path.join(IMGS_PATH, f\"{filename_16}.jpg\")\n",
    "gt_image_path_16 = os.path.join(PASCAL_ROOT, \"SegmentationClassAug\", f\"{filename_16}.png\")\n",
    "standard_image_path_16 = os.path.join(STANDARD_OUTPUT_DIR, f\"{filename_16}.png\")\n",
    "superres_image_path_16 = os.path.join(SUPERRES_OUTPUT_DIR, \"aug_SR\", f\"{filename_16}_aug_SR.png\")\n",
    "\n",
    "filename_4 = \"2008_001260\"\n",
    "original_image_path_4 = os.path.join(IMGS_PATH, f\"{filename_4}.jpg\")\n",
    "gt_image_path_4 = os.path.join(PASCAL_ROOT, \"SegmentationClassAug\", f\"{filename_4}.png\")\n",
    "standard_image_path_4 = os.path.join(\"/home/nicoloa97/DeepLabV3Plus-Augmented-SuperResolution/data/superres_root/standard_output/xception_4_validation\", f\"{filename_4}.png\")\n",
    "superres_image_path_4 = os.path.join(SUPERRES_OUTPUT_DIR, \"aug_SR\", f\"{filename_4}_aug_SR.png\")\n",
    "\n",
    "original_image_16 = load_image(original_image_path_16, image_size=IMG_SIZE, normalize=True).numpy()\n",
    "gt_image_16 = load_image(gt_image_path_16, image_size=IMG_SIZE, normalize=False, is_png=True, resize_method=\"nearest\").numpy()\n",
    "gt_image_16[gt_image_16 != CLASS_ID] = 0.0\n",
    "standard_image_16 = load_image(standard_image_path_16, image_size=IMG_SIZE, normalize=False).numpy()\n",
    "superres_image_16 = load_image(superres_image_path_16, image_size=IMG_SIZE, normalize=False).numpy()\n",
    "superres_image_16[superres_image_16 == 255] = CLASS_ID\n",
    "\n",
    "original_image_4 = load_image(original_image_path_4, image_size=IMG_SIZE, normalize=True).numpy()\n",
    "gt_image_4 = load_image(gt_image_path_4, image_size=IMG_SIZE, normalize=False, is_png=True, resize_method=\"nearest\").numpy()\n",
    "gt_image_4[gt_image_4 != 4] = 0.0\n",
    "standard_image_4 = load_image(standard_image_path_4, image_size=IMG_SIZE, normalize=False).numpy()\n",
    "superres_image_4 = load_image(superres_image_path_4, image_size=IMG_SIZE, normalize=False).numpy()\n",
    "superres_image_4[superres_image_4 == 255] = CLASS_ID"
   ]
  },
  {
   "cell_type": "code",
   "execution_count": null,
   "metadata": {},
   "outputs": [],
   "source": [
    "fig = plt.figure(figsize=(15,8))\n",
    "plt.subplot(2, 4, 1)\n",
    "plt.imshow(original_image_16)\n",
    "plt.axis(\"off\")\n",
    "plt.subplot(2, 4, 2)\n",
    "plt.imshow(gt_image_16, cmap=\"gray\")\n",
    "plt.axis(\"off\")\n",
    "plt.subplot(2, 4, 3)\n",
    "plt.imshow(standard_image_16)\n",
    "plt.axis(\"off\")\n",
    "plt.subplot(2, 4, 4)\n",
    "plt.imshow(superres_image_16)\n",
    "plt.axis(\"off\")\n",
    "\n",
    "plt.subplot(2, 4, 5)\n",
    "plt.imshow(original_image_4)\n",
    "plt.axis(\"off\")\n",
    "plt.subplot(2, 4, 6)\n",
    "plt.imshow(gt_image_4, cmap=\"gray\")\n",
    "plt.axis(\"off\")\n",
    "plt.subplot(2, 4, 7)\n",
    "plt.imshow(standard_image_4)\n",
    "plt.axis(\"off\")\n",
    "plt.subplot(2, 4, 8)\n",
    "plt.imshow(superres_image_4)\n",
    "plt.axis(\"off\")\n",
    "\n",
    "# plt.imshow(segmentation_masks[k], cmap=cmap, norm=norm, alpha=1, interpolation=\"nearest\")\n",
    "plt.tight_layout()"
   ]
  }
 ],
 "metadata": {
  "kernelspec": {
   "display_name": "Python 3.8.15 ('venv38': venv)",
   "language": "python",
   "name": "python3"
  },
  "language_info": {
   "codemirror_mode": {
    "name": "ipython",
    "version": 3
   },
   "file_extension": ".py",
   "mimetype": "text/x-python",
   "name": "python",
   "nbconvert_exporter": "python",
   "pygments_lexer": "ipython3",
   "version": "3.8.15"
  },
  "orig_nbformat": 4,
  "vscode": {
   "interpreter": {
    "hash": "475ae36d3f1652f0752efb619578b7a4687dd826eecdfd447188c8fb7138b929"
   }
  }
 },
 "nbformat": 4,
 "nbformat_minor": 2
}
