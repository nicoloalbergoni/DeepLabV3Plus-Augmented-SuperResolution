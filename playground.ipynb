{
 "cells": [
  {
   "cell_type": "code",
   "execution_count": 1,
   "metadata": {},
   "outputs": [],
   "source": [
    "import os\n",
    "import numpy as np\n",
    "import pandas as pd\n",
    "from tqdm import tqdm\n",
    "import tensorflow as tf\n",
    "from superresolution_scripts.superresolution import Superresolution\n",
    "from superresolution_scripts.optimizer import Optimizer\n",
    "from utils import load_image, compute_IoU, Mean_IOU, single_class_IOU\n",
    "from superresolution_scripts.superres_utils import list_precomputed_data_paths, load_SR_data, normalize_coefficients, threshold_image, get_img_paths, filter_images_by_class\n"
   ]
  },
  {
   "cell_type": "code",
   "execution_count": 2,
   "metadata": {},
   "outputs": [],
   "source": [
    "IMG_SIZE = (512, 512)\n",
    "FEATURE_SIZE = (128, 128)\n",
    "NUM_AUG = 100\n",
    "CLASS_ID = 8\n",
    "NUM_SAMPLES = 5\n",
    "\n",
    "MODE = \"argmax\"\n",
    "MODEL_BACKBONE = \"xception\"\n",
    "USE_VALIDATION = False\n",
    "SAVE_SLICE_OUTPUT = False\n",
    "\n",
    "DATA_DIR = os.path.join(os.getcwd(), \"data\")\n",
    "PASCAL_ROOT = os.path.join(DATA_DIR, \"dataset_root\", \"VOCdevkit\", \"VOC2012\")\n",
    "IMGS_PATH = os.path.join(PASCAL_ROOT, \"JPEGImages\")\n",
    "\n",
    "SUPERRES_ROOT = os.path.join(DATA_DIR, \"superres_root\")\n",
    "AUGMENTED_COPIES_ROOT = os.path.join(SUPERRES_ROOT, \"augmented_copies\")\n",
    "PRECOMPUTED_OUTPUT_DIR = os.path.join(\n",
    "    AUGMENTED_COPIES_ROOT, f\"{MODEL_BACKBONE}_{MODE}_{NUM_AUG}{'_validation' if USE_VALIDATION else ''}\")\n",
    "STANDARD_OUTPUT_ROOT = os.path.join(SUPERRES_ROOT, \"standard_output\")\n",
    "STANDARD_OUTPUT_DIR = os.path.join(\n",
    "    STANDARD_OUTPUT_ROOT, f\"{MODEL_BACKBONE}{'_validation' if USE_VALIDATION else ''}\")\n",
    "SUPERRES_OUTPUT_DIR = os.path.join(\n",
    "    SUPERRES_ROOT, f\"superres_output{'_validation' if USE_VALIDATION else ''}\")"
   ]
  },
  {
   "cell_type": "code",
   "execution_count": 3,
   "metadata": {},
   "outputs": [],
   "source": [
    "paths = []\n",
    "\n",
    "for path, subdirs, files in os.walk(STANDARD_OUTPUT_DIR):\n",
    "    for filename in files:\n",
    "        paths.append(os.path.join(path, filename))\n",
    "\n",
    "\n",
    "paths = sorted(paths, key=lambda p: int(os.path.basename(p).split('.')[0]))\n",
    "paths = paths[:NUM_SAMPLES]"
   ]
  },
  {
   "cell_type": "code",
   "execution_count": 4,
   "metadata": {},
   "outputs": [],
   "source": [
    "def test_IoU(y_true, y_pred, classes):\n",
    "    y_true_squeeze = tf.squeeze(y_true)\n",
    "    y_pred_squeeze = tf.squeeze(y_pred)\n",
    "    # classes = [0, CLASS_ID]  # Only check in background and given class\n",
    "    # y_true_squeeze = tf.where(y_true_squeeze != class_id, 0, y_true_squeeze)\n",
    "\n",
    "    ious = []\n",
    "    for i in classes:\n",
    "        true_labels = tf.equal(y_true_squeeze, i)\n",
    "        pred_labels = tf.equal(y_pred_squeeze, i)\n",
    "        inter = tf.cast(true_labels & pred_labels, tf.int32)\n",
    "        union = tf.cast(true_labels | pred_labels, tf.int32)\n",
    "\n",
    "        iou = tf.reduce_sum(inter) / tf.reduce_sum(union)\n",
    "        ious.append(iou)\n",
    "        print(f\"test-{i}-{iou}\")\n",
    "\n",
    "    ious = tf.stack(ious)\n",
    "    legal_labels = ~tf.math.is_nan(ious)\n",
    "    ious = tf.gather(ious, indices=tf.where(legal_labels))\n",
    "\n",
    "    return tf.reduce_mean(ious)"
   ]
  },
  {
   "cell_type": "code",
   "execution_count": 5,
   "metadata": {},
   "outputs": [],
   "source": [
    "def tf_count(t, val):\n",
    "    elements_equal_to_value = tf.equal(t, val)\n",
    "    as_ints = tf.cast(elements_equal_to_value, tf.int32)\n",
    "    count = tf.reduce_sum(as_ints)\n",
    "    return count"
   ]
  },
  {
   "cell_type": "code",
   "execution_count": 6,
   "metadata": {},
   "outputs": [
    {
     "name": "stdout",
     "output_type": "stream",
     "text": [
      "2007_000528.png\n",
      "void-5992\n",
      "standard-0-0.9639189304266371\n",
      "standard-8-0.7630180658873539\n",
      "test-0-0.9628178098551774\n",
      "test-8-0.7630180658873539\n",
      "2007_000549.png\n",
      "void-4785\n",
      "standard-0-0.9366122013301584\n",
      "standard-8-0.9760869789676926\n",
      "test-0-0.9307924762765477\n",
      "test-8-0.9760869789676926\n",
      "2007_000876.png\n",
      "void-9567\n",
      "standard-0-0.8707235828255767\n",
      "standard-8-0.8107324777202163\n",
      "test-0-0.8840933015679538\n",
      "test-8-0.8107324777202163\n",
      "2007_001185.png\n",
      "void-10014\n",
      "standard-0-0.9777708826526312\n",
      "standard-8-0.15813143769041055\n",
      "test-0-0.5735530346305575\n",
      "test-8-0.15813143769041055\n",
      "2007_001825.png\n",
      "void-15271\n",
      "standard-0-0.8520903479236812\n",
      "standard-8-0.6043061063640799\n",
      "test-0-0.4123531662250436\n",
      "test-8-0.6043061063640799\n"
     ]
    }
   ],
   "source": [
    "for k, path in enumerate(paths):\n",
    "    filename = path.split('\\\\')[-1]\n",
    "\n",
    "    ground_truth_path = os.path.join(PASCAL_ROOT, \"SegmentationClassAug\", filename)\n",
    "    ground_truth = load_image(ground_truth_path, image_size=IMG_SIZE, normalize=False,\n",
    "                                  is_png=True, resize_method=\"nearest\")\n",
    "\n",
    "    standard_mask_path = os.path.join(STANDARD_OUTPUT_DIR, filename)\n",
    "    standard_mask = load_image(standard_mask_path, image_size=IMG_SIZE, normalize=False, is_png=True,\n",
    "                                   resize_method=\"nearest\")\n",
    "\n",
    "    ground_truth = tf.reshape(ground_truth, (IMG_SIZE[0] * IMG_SIZE[1], 1))\n",
    "    standard_mask = tf.reshape(standard_mask, (IMG_SIZE[0] * IMG_SIZE[1], 1))\n",
    "    \n",
    "    # m_iou = Mean_IOU(ground_truth, standard_mask)\n",
    "    print(filename)\n",
    "    s_iou = single_class_IOU(ground_truth, standard_mask, class_id=CLASS_ID)\n",
    "    t_iou = test_IoU(ground_truth, standard_mask, classes=[0, CLASS_ID])\n",
    "    # print(f\"{s_iou}-{t_iou}\")\n"
   ]
  },
  {
   "cell_type": "markdown",
   "metadata": {},
   "source": [
    "# Sweep Data"
   ]
  },
  {
   "cell_type": "code",
   "execution_count": null,
   "metadata": {},
   "outputs": [],
   "source": []
  }
 ],
 "metadata": {
  "kernelspec": {
   "display_name": "Python 3.9.9 ('venv': venv)",
   "language": "python",
   "name": "python3"
  },
  "language_info": {
   "codemirror_mode": {
    "name": "ipython",
    "version": 3
   },
   "file_extension": ".py",
   "mimetype": "text/x-python",
   "name": "python",
   "nbconvert_exporter": "python",
   "pygments_lexer": "ipython3",
   "version": "3.9.9"
  },
  "orig_nbformat": 4,
  "vscode": {
   "interpreter": {
    "hash": "ba500faddcc9554b324f305821f72413859f05c2553c05f9f097395c92febb2d"
   }
  }
 },
 "nbformat": 4,
 "nbformat_minor": 2
}
