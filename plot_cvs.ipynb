{
   "cells": [
      {
         "cell_type": "code",
         "execution_count": null,
         "metadata": {},
         "outputs": [],
         "source": [
            "import os\n",
            "import numpy as np\n",
            "import pandas as pd\n",
            "from mpl_toolkits import mplot3d\n",
            "from matplotlib import pyplot as plt\n",
            "import plotly.express as px\n",
            "import plotly.graph_objects as go"
         ]
      },
      {
         "cell_type": "code",
         "execution_count": null,
         "metadata": {},
         "outputs": [],
         "source": [
            "ROOT_FOLDER = os.path.join(os.getcwd(), \"plot_data\")"
         ]
      },
      {
         "cell_type": "markdown",
         "metadata": {},
         "source": [
            "# Robustness"
         ]
      },
      {
         "cell_type": "code",
         "execution_count": null,
         "metadata": {},
         "outputs": [],
         "source": [
            "FILENAME = \"robustness_350_class_all_small.csv\"\n",
            "FOLDER_PATH = os.path.join(ROOT_FOLDER, \"robustness_data\")\n",
            "CSV_PATH = os.path.join(FOLDER_PATH, FILENAME)\n",
            "\n",
            "df = pd.read_csv(CSV_PATH)\n",
            "total_shift = np.add(np.abs(df[\"Shift_X\"]), np.abs(df[\"Shift_Y\"]))"
         ]
      },
      {
         "cell_type": "code",
         "execution_count": null,
         "metadata": {},
         "outputs": [],
         "source": [
            "max_row = df.iloc[df['mIoU'].idxmax()]\n",
            "hline_str = f\"mIoU: {max_row['mIoU']}, Shift: {max_row['Shift_X']},{max_row['Shift_Y']}\"\n",
            "print(f\"Best record: {max_row}\")\n",
            "\n",
            "min_iou = df['mIoU'].min()\n",
            "max_iou = df['mIoU'].max()"
         ]
      },
      {
         "cell_type": "code",
         "execution_count": null,
         "metadata": {},
         "outputs": [],
         "source": [
            "fig = px.scatter_3d(df, x='Angle', y=total_shift, z='mIoU',\n",
            "              color='mIoU', width=1200, height=800, labels={\"y\":\"Total Shift\", \"Angle\": \"Angle (rad)\"}, range_color=[min_iou, max_iou])\n",
            "\n",
            "fig.update_layout(title=\"Augmentation Robustness - All classes\")\n",
            "fig.update_xaxes(tickvals=df[\"Angle\"])\n",
            "fig.update_coloraxes(cmin=min_iou, cmax=max_iou)\n",
            "fig.show()"
         ]
      },
      {
         "cell_type": "code",
         "execution_count": null,
         "metadata": {},
         "outputs": [],
         "source": [
            "fig = px.scatter(df, x=\"Angle\", y=\"mIoU\", color=total_shift,\n",
            "                 width=1200, height=600, labels={\"color\":\"Total Shift\", \"Angle\": \"Angle (rad)\"})\n",
            "fig.update_xaxes(tickvals=df[\"Angle\"])\n",
            "fig.update_layout(title=\"Augmentation Robustness - All classes\")\n",
            "fig.show()"
         ]
      },
      {
         "cell_type": "markdown",
         "metadata": {},
         "source": [
            "# Threshold Plots"
         ]
      },
      {
         "cell_type": "code",
         "execution_count": null,
         "metadata": {},
         "outputs": [],
         "source": [
            "FILENAME = \"th_argmax_500.csv\"\n",
            "FOLDER_PATH = os.path.join(ROOT_FOLDER, \"threshold_data\")\n",
            "CSV_PATH = os.path.join(FOLDER_PATH, FILENAME)\n",
            "\n",
            "df = pd.read_csv(CSV_PATH)\n",
            "th_val_perc = df[\"Th_Value\"] * 100"
         ]
      },
      {
         "cell_type": "code",
         "execution_count": null,
         "metadata": {},
         "outputs": [],
         "source": [
            "max_row = df.iloc[df['IoU'].idxmax()]\n",
            "hline_str = f\"IoU: {np.round(max_row['IoU'], 3)}, Th_Values: {max_row['Th_Value']}\"\n",
            "print(f\"Best record: {max_row}\")"
         ]
      },
      {
         "cell_type": "code",
         "execution_count": null,
         "metadata": {},
         "outputs": [],
         "source": [
            "fig = px.line(df, x=th_val_perc, y=\"IoU\", width=1200, height=600, markers=True, labels={\"x\": \"Th. Value (%)\"})\n",
            "fig.update_xaxes(tickvals=th_val_perc)\n",
            "fig.add_trace(go.Scatter(x=[max_row['Th_Value'] * 100], y=[max_row['IoU']], mode = 'markers',\n",
            "                         marker_symbol = 'star',\n",
            "                         marker_size = 15,\n",
            "                         showlegend=False))\n",
            "# fig.update_layout(title=\"Best threshold value for Slice Var mode\")\n",
            "fig.show()"
         ]
      },
      {
         "cell_type": "markdown",
         "metadata": {},
         "source": [
            "# Sweep plot"
         ]
      },
      {
         "cell_type": "code",
         "execution_count": null,
         "metadata": {},
         "outputs": [],
         "source": [
            "FILENAME = \"argmax_no_norm_l1.csv\"\n",
            "FOLDER_PATH = os.path.join(ROOT_FOLDER, \"sweep_data\")\n",
            "CSV_PATH = os.path.join(FOLDER_PATH, FILENAME)\n",
            "\n",
            "df = pd.read_csv(CSV_PATH)\n",
            "avg_iou_single = df[\"aug_iou_single\"]"
         ]
      },
      {
         "cell_type": "code",
         "execution_count": null,
         "metadata": {},
         "outputs": [],
         "source": [
            "max_row = df.iloc[df['aug_iou_single'].idxmax()]\n",
            "print(max_row)"
         ]
      },
      {
         "cell_type": "code",
         "execution_count": null,
         "metadata": {},
         "outputs": [],
         "source": [
            "fig = px.scatter_3d(df, x='lambda_L1', y='lambda_L2', z='lambda_tv',\n",
            "              color='aug_iou_single', width=1200, height=800,\n",
            "              labels={\"lambda_L1\": \"\\u03B3 (L1)\", \"lambda_L2\": \"\\u03BC (L2)\", \"lambda_tv\": \"\\u03BB (TV)\", \"aug_iou_single\": \"Avg. IoU\"})\n",
            "# fig.update_coloraxes(cmin=avg_iou_single.min(), cmax=avg_iou_single.max(), colorbar=dict(tick0=avg_iou_single.min(), dtick=0.001))\n",
            "fig.show()"
         ]
      },
      {
         "cell_type": "code",
         "execution_count": null,
         "metadata": {},
         "outputs": [],
         "source": [
            "fig = px.scatter(df, x=\"lambda_L1\", y=\"aug_iou_single\", color=\"aug_iou_single\",\n",
            "                 width=1200, height=600, labels={\"lambda_L1\": \"\\u03B3 (L1)\", \"aug_iou_single\": \"Avg. IoU\"})\n",
            "fig.update_coloraxes(showscale=False)\n",
            "fig.show()"
         ]
      },
      {
         "cell_type": "code",
         "execution_count": null,
         "metadata": {},
         "outputs": [],
         "source": [
            "FILENAME = \"slice_var_no_norm_no_l1.csv\"\n",
            "FOLDER_PATH = os.path.join(ROOT_FOLDER, \"sweep_data\")\n",
            "CSV_PATH = os.path.join(FOLDER_PATH, FILENAME)\n",
            "\n",
            "df = pd.read_csv(CSV_PATH)\n",
            "avg_iou_single= df[\"aug_iou_single\"]"
         ]
      },
      {
         "cell_type": "code",
         "execution_count": null,
         "metadata": {},
         "outputs": [],
         "source": [
            "fig = px.scatter(df, x=\"lambda_L2\", y=\"lambda_tv\", color=\"aug_iou_single\",\n",
            "                 width=1200, height=600, labels={})\n",
            "fig.update_layout()\n",
            "fig.show()"
         ]
      },
      {
         "cell_type": "markdown",
         "metadata": {},
         "source": [
            "# Final Evaluations"
         ]
      },
      {
         "cell_type": "code",
         "execution_count": 132,
         "metadata": {},
         "outputs": [],
         "source": [
            "FILENAME = \"slice_max_validation_final.csv\"\n",
            "CSV_PATH = os.path.join(ROOT_FOLDER, FILENAME)\n",
            "\n",
            "df = pd.read_csv(CSV_PATH)"
         ]
      },
      {
         "cell_type": "code",
         "execution_count": 133,
         "metadata": {},
         "outputs": [
            {
               "data": {
                  "application/vnd.plotly.v1+json": {
                     "config": {
                        "plotlyServerURL": "https://plot.ly"
                     },
                     "data": [
                        {
                           "marker": {
                              "color": "indianred"
                           },
                           "name": "ASR",
                           "text": [
                              0.5,
                              0.15,
                              0.5,
                              0.39,
                              0.41,
                              0.65,
                              0.43,
                              0.73,
                              0.26,
                              0.63,
                              0.43,
                              0.67,
                              0.54,
                              0.47,
                              0.47,
                              0.25,
                              0.59,
                              0.54,
                              0.66,
                              0.44
                           ],
                           "textposition": "auto",
                           "type": "bar",
                           "x": [
                              "Class 1",
                              "Class 2",
                              "Class 3",
                              "Class 4",
                              "Class 5",
                              "Class 6",
                              "Class 7",
                              "Class 8",
                              "Class 9",
                              "Class 10",
                              "Class 11",
                              "Class 12",
                              "Class 13",
                              "Class 14",
                              "Class 15",
                              "Class 16",
                              "Class 17",
                              "Class 18",
                              "Class 19",
                              "Class 20"
                           ],
                           "y": [
                              0.499904832083066,
                              0.1473547400517899,
                              0.5021433701843621,
                              0.390401013818747,
                              0.4071761299131682,
                              0.650983382285683,
                              0.4309369323691244,
                              0.7278804097578988,
                              0.2588365128017295,
                              0.6250385557116551,
                              0.4250464212348708,
                              0.6725679738556153,
                              0.5415942554060057,
                              0.4744831973675125,
                              0.4656204319486038,
                              0.2485453552754855,
                              0.5938147644698303,
                              0.5376814560023676,
                              0.6597496603461688,
                              0.4382682204403049
                           ]
                        },
                        {
                           "marker": {
                              "color": "lightsalmon"
                           },
                           "name": "Standard",
                           "text": [
                              0.72,
                              0.33,
                              0.69,
                              0.67,
                              0.51,
                              0.84,
                              0.66,
                              0.82,
                              0.47,
                              0.79,
                              0.75,
                              0.79,
                              0.73,
                              0.74,
                              0.68,
                              0.36,
                              0.71,
                              0.71,
                              0.83,
                              0.69
                           ],
                           "textposition": "auto",
                           "type": "bar",
                           "x": [
                              "Class 1",
                              "Class 2",
                              "Class 3",
                              "Class 4",
                              "Class 5",
                              "Class 6",
                              "Class 7",
                              "Class 8",
                              "Class 9",
                              "Class 10",
                              "Class 11",
                              "Class 12",
                              "Class 13",
                              "Class 14",
                              "Class 15",
                              "Class 16",
                              "Class 17",
                              "Class 18",
                              "Class 19",
                              "Class 20"
                           ],
                           "y": [
                              0.7213731369891841,
                              0.3256461533052655,
                              0.6930651223474132,
                              0.6744897473623767,
                              0.5131331328412173,
                              0.8390214899809919,
                              0.6613088298221018,
                              0.8198791585009366,
                              0.4688099009966978,
                              0.787113249956955,
                              0.7525643060676082,
                              0.7926730937162204,
                              0.7343926447357907,
                              0.7360043297410678,
                              0.6768657320541706,
                              0.3629361000139799,
                              0.7053171770696247,
                              0.7138288145812529,
                              0.8299925145727914,
                              0.6931108504260007
                           ]
                        }
                     ],
                     "layout": {
                        "bargap": 0.05,
                        "barmode": "group",
                        "legend": {
                           "orientation": "h",
                           "x": 1,
                           "xanchor": "right",
                           "y": 1.02,
                           "yanchor": "bottom"
                        },
                        "template": {
                           "data": {
                              "bar": [
                                 {
                                    "error_x": {
                                       "color": "#2a3f5f"
                                    },
                                    "error_y": {
                                       "color": "#2a3f5f"
                                    },
                                    "marker": {
                                       "line": {
                                          "color": "#E5ECF6",
                                          "width": 0.5
                                       },
                                       "pattern": {
                                          "fillmode": "overlay",
                                          "size": 10,
                                          "solidity": 0.2
                                       }
                                    },
                                    "type": "bar"
                                 }
                              ],
                              "barpolar": [
                                 {
                                    "marker": {
                                       "line": {
                                          "color": "#E5ECF6",
                                          "width": 0.5
                                       },
                                       "pattern": {
                                          "fillmode": "overlay",
                                          "size": 10,
                                          "solidity": 0.2
                                       }
                                    },
                                    "type": "barpolar"
                                 }
                              ],
                              "carpet": [
                                 {
                                    "aaxis": {
                                       "endlinecolor": "#2a3f5f",
                                       "gridcolor": "white",
                                       "linecolor": "white",
                                       "minorgridcolor": "white",
                                       "startlinecolor": "#2a3f5f"
                                    },
                                    "baxis": {
                                       "endlinecolor": "#2a3f5f",
                                       "gridcolor": "white",
                                       "linecolor": "white",
                                       "minorgridcolor": "white",
                                       "startlinecolor": "#2a3f5f"
                                    },
                                    "type": "carpet"
                                 }
                              ],
                              "choropleth": [
                                 {
                                    "colorbar": {
                                       "outlinewidth": 0,
                                       "ticks": ""
                                    },
                                    "type": "choropleth"
                                 }
                              ],
                              "contour": [
                                 {
                                    "colorbar": {
                                       "outlinewidth": 0,
                                       "ticks": ""
                                    },
                                    "colorscale": [
                                       [
                                          0,
                                          "#0d0887"
                                       ],
                                       [
                                          0.1111111111111111,
                                          "#46039f"
                                       ],
                                       [
                                          0.2222222222222222,
                                          "#7201a8"
                                       ],
                                       [
                                          0.3333333333333333,
                                          "#9c179e"
                                       ],
                                       [
                                          0.4444444444444444,
                                          "#bd3786"
                                       ],
                                       [
                                          0.5555555555555556,
                                          "#d8576b"
                                       ],
                                       [
                                          0.6666666666666666,
                                          "#ed7953"
                                       ],
                                       [
                                          0.7777777777777778,
                                          "#fb9f3a"
                                       ],
                                       [
                                          0.8888888888888888,
                                          "#fdca26"
                                       ],
                                       [
                                          1,
                                          "#f0f921"
                                       ]
                                    ],
                                    "type": "contour"
                                 }
                              ],
                              "contourcarpet": [
                                 {
                                    "colorbar": {
                                       "outlinewidth": 0,
                                       "ticks": ""
                                    },
                                    "type": "contourcarpet"
                                 }
                              ],
                              "heatmap": [
                                 {
                                    "colorbar": {
                                       "outlinewidth": 0,
                                       "ticks": ""
                                    },
                                    "colorscale": [
                                       [
                                          0,
                                          "#0d0887"
                                       ],
                                       [
                                          0.1111111111111111,
                                          "#46039f"
                                       ],
                                       [
                                          0.2222222222222222,
                                          "#7201a8"
                                       ],
                                       [
                                          0.3333333333333333,
                                          "#9c179e"
                                       ],
                                       [
                                          0.4444444444444444,
                                          "#bd3786"
                                       ],
                                       [
                                          0.5555555555555556,
                                          "#d8576b"
                                       ],
                                       [
                                          0.6666666666666666,
                                          "#ed7953"
                                       ],
                                       [
                                          0.7777777777777778,
                                          "#fb9f3a"
                                       ],
                                       [
                                          0.8888888888888888,
                                          "#fdca26"
                                       ],
                                       [
                                          1,
                                          "#f0f921"
                                       ]
                                    ],
                                    "type": "heatmap"
                                 }
                              ],
                              "heatmapgl": [
                                 {
                                    "colorbar": {
                                       "outlinewidth": 0,
                                       "ticks": ""
                                    },
                                    "colorscale": [
                                       [
                                          0,
                                          "#0d0887"
                                       ],
                                       [
                                          0.1111111111111111,
                                          "#46039f"
                                       ],
                                       [
                                          0.2222222222222222,
                                          "#7201a8"
                                       ],
                                       [
                                          0.3333333333333333,
                                          "#9c179e"
                                       ],
                                       [
                                          0.4444444444444444,
                                          "#bd3786"
                                       ],
                                       [
                                          0.5555555555555556,
                                          "#d8576b"
                                       ],
                                       [
                                          0.6666666666666666,
                                          "#ed7953"
                                       ],
                                       [
                                          0.7777777777777778,
                                          "#fb9f3a"
                                       ],
                                       [
                                          0.8888888888888888,
                                          "#fdca26"
                                       ],
                                       [
                                          1,
                                          "#f0f921"
                                       ]
                                    ],
                                    "type": "heatmapgl"
                                 }
                              ],
                              "histogram": [
                                 {
                                    "marker": {
                                       "pattern": {
                                          "fillmode": "overlay",
                                          "size": 10,
                                          "solidity": 0.2
                                       }
                                    },
                                    "type": "histogram"
                                 }
                              ],
                              "histogram2d": [
                                 {
                                    "colorbar": {
                                       "outlinewidth": 0,
                                       "ticks": ""
                                    },
                                    "colorscale": [
                                       [
                                          0,
                                          "#0d0887"
                                       ],
                                       [
                                          0.1111111111111111,
                                          "#46039f"
                                       ],
                                       [
                                          0.2222222222222222,
                                          "#7201a8"
                                       ],
                                       [
                                          0.3333333333333333,
                                          "#9c179e"
                                       ],
                                       [
                                          0.4444444444444444,
                                          "#bd3786"
                                       ],
                                       [
                                          0.5555555555555556,
                                          "#d8576b"
                                       ],
                                       [
                                          0.6666666666666666,
                                          "#ed7953"
                                       ],
                                       [
                                          0.7777777777777778,
                                          "#fb9f3a"
                                       ],
                                       [
                                          0.8888888888888888,
                                          "#fdca26"
                                       ],
                                       [
                                          1,
                                          "#f0f921"
                                       ]
                                    ],
                                    "type": "histogram2d"
                                 }
                              ],
                              "histogram2dcontour": [
                                 {
                                    "colorbar": {
                                       "outlinewidth": 0,
                                       "ticks": ""
                                    },
                                    "colorscale": [
                                       [
                                          0,
                                          "#0d0887"
                                       ],
                                       [
                                          0.1111111111111111,
                                          "#46039f"
                                       ],
                                       [
                                          0.2222222222222222,
                                          "#7201a8"
                                       ],
                                       [
                                          0.3333333333333333,
                                          "#9c179e"
                                       ],
                                       [
                                          0.4444444444444444,
                                          "#bd3786"
                                       ],
                                       [
                                          0.5555555555555556,
                                          "#d8576b"
                                       ],
                                       [
                                          0.6666666666666666,
                                          "#ed7953"
                                       ],
                                       [
                                          0.7777777777777778,
                                          "#fb9f3a"
                                       ],
                                       [
                                          0.8888888888888888,
                                          "#fdca26"
                                       ],
                                       [
                                          1,
                                          "#f0f921"
                                       ]
                                    ],
                                    "type": "histogram2dcontour"
                                 }
                              ],
                              "mesh3d": [
                                 {
                                    "colorbar": {
                                       "outlinewidth": 0,
                                       "ticks": ""
                                    },
                                    "type": "mesh3d"
                                 }
                              ],
                              "parcoords": [
                                 {
                                    "line": {
                                       "colorbar": {
                                          "outlinewidth": 0,
                                          "ticks": ""
                                       }
                                    },
                                    "type": "parcoords"
                                 }
                              ],
                              "pie": [
                                 {
                                    "automargin": true,
                                    "type": "pie"
                                 }
                              ],
                              "scatter": [
                                 {
                                    "fillpattern": {
                                       "fillmode": "overlay",
                                       "size": 10,
                                       "solidity": 0.2
                                    },
                                    "type": "scatter"
                                 }
                              ],
                              "scatter3d": [
                                 {
                                    "line": {
                                       "colorbar": {
                                          "outlinewidth": 0,
                                          "ticks": ""
                                       }
                                    },
                                    "marker": {
                                       "colorbar": {
                                          "outlinewidth": 0,
                                          "ticks": ""
                                       }
                                    },
                                    "type": "scatter3d"
                                 }
                              ],
                              "scattercarpet": [
                                 {
                                    "marker": {
                                       "colorbar": {
                                          "outlinewidth": 0,
                                          "ticks": ""
                                       }
                                    },
                                    "type": "scattercarpet"
                                 }
                              ],
                              "scattergeo": [
                                 {
                                    "marker": {
                                       "colorbar": {
                                          "outlinewidth": 0,
                                          "ticks": ""
                                       }
                                    },
                                    "type": "scattergeo"
                                 }
                              ],
                              "scattergl": [
                                 {
                                    "marker": {
                                       "colorbar": {
                                          "outlinewidth": 0,
                                          "ticks": ""
                                       }
                                    },
                                    "type": "scattergl"
                                 }
                              ],
                              "scattermapbox": [
                                 {
                                    "marker": {
                                       "colorbar": {
                                          "outlinewidth": 0,
                                          "ticks": ""
                                       }
                                    },
                                    "type": "scattermapbox"
                                 }
                              ],
                              "scatterpolar": [
                                 {
                                    "marker": {
                                       "colorbar": {
                                          "outlinewidth": 0,
                                          "ticks": ""
                                       }
                                    },
                                    "type": "scatterpolar"
                                 }
                              ],
                              "scatterpolargl": [
                                 {
                                    "marker": {
                                       "colorbar": {
                                          "outlinewidth": 0,
                                          "ticks": ""
                                       }
                                    },
                                    "type": "scatterpolargl"
                                 }
                              ],
                              "scatterternary": [
                                 {
                                    "marker": {
                                       "colorbar": {
                                          "outlinewidth": 0,
                                          "ticks": ""
                                       }
                                    },
                                    "type": "scatterternary"
                                 }
                              ],
                              "surface": [
                                 {
                                    "colorbar": {
                                       "outlinewidth": 0,
                                       "ticks": ""
                                    },
                                    "colorscale": [
                                       [
                                          0,
                                          "#0d0887"
                                       ],
                                       [
                                          0.1111111111111111,
                                          "#46039f"
                                       ],
                                       [
                                          0.2222222222222222,
                                          "#7201a8"
                                       ],
                                       [
                                          0.3333333333333333,
                                          "#9c179e"
                                       ],
                                       [
                                          0.4444444444444444,
                                          "#bd3786"
                                       ],
                                       [
                                          0.5555555555555556,
                                          "#d8576b"
                                       ],
                                       [
                                          0.6666666666666666,
                                          "#ed7953"
                                       ],
                                       [
                                          0.7777777777777778,
                                          "#fb9f3a"
                                       ],
                                       [
                                          0.8888888888888888,
                                          "#fdca26"
                                       ],
                                       [
                                          1,
                                          "#f0f921"
                                       ]
                                    ],
                                    "type": "surface"
                                 }
                              ],
                              "table": [
                                 {
                                    "cells": {
                                       "fill": {
                                          "color": "#EBF0F8"
                                       },
                                       "line": {
                                          "color": "white"
                                       }
                                    },
                                    "header": {
                                       "fill": {
                                          "color": "#C8D4E3"
                                       },
                                       "line": {
                                          "color": "white"
                                       }
                                    },
                                    "type": "table"
                                 }
                              ]
                           },
                           "layout": {
                              "annotationdefaults": {
                                 "arrowcolor": "#2a3f5f",
                                 "arrowhead": 0,
                                 "arrowwidth": 1
                              },
                              "autotypenumbers": "strict",
                              "coloraxis": {
                                 "colorbar": {
                                    "outlinewidth": 0,
                                    "ticks": ""
                                 }
                              },
                              "colorscale": {
                                 "diverging": [
                                    [
                                       0,
                                       "#8e0152"
                                    ],
                                    [
                                       0.1,
                                       "#c51b7d"
                                    ],
                                    [
                                       0.2,
                                       "#de77ae"
                                    ],
                                    [
                                       0.3,
                                       "#f1b6da"
                                    ],
                                    [
                                       0.4,
                                       "#fde0ef"
                                    ],
                                    [
                                       0.5,
                                       "#f7f7f7"
                                    ],
                                    [
                                       0.6,
                                       "#e6f5d0"
                                    ],
                                    [
                                       0.7,
                                       "#b8e186"
                                    ],
                                    [
                                       0.8,
                                       "#7fbc41"
                                    ],
                                    [
                                       0.9,
                                       "#4d9221"
                                    ],
                                    [
                                       1,
                                       "#276419"
                                    ]
                                 ],
                                 "sequential": [
                                    [
                                       0,
                                       "#0d0887"
                                    ],
                                    [
                                       0.1111111111111111,
                                       "#46039f"
                                    ],
                                    [
                                       0.2222222222222222,
                                       "#7201a8"
                                    ],
                                    [
                                       0.3333333333333333,
                                       "#9c179e"
                                    ],
                                    [
                                       0.4444444444444444,
                                       "#bd3786"
                                    ],
                                    [
                                       0.5555555555555556,
                                       "#d8576b"
                                    ],
                                    [
                                       0.6666666666666666,
                                       "#ed7953"
                                    ],
                                    [
                                       0.7777777777777778,
                                       "#fb9f3a"
                                    ],
                                    [
                                       0.8888888888888888,
                                       "#fdca26"
                                    ],
                                    [
                                       1,
                                       "#f0f921"
                                    ]
                                 ],
                                 "sequentialminus": [
                                    [
                                       0,
                                       "#0d0887"
                                    ],
                                    [
                                       0.1111111111111111,
                                       "#46039f"
                                    ],
                                    [
                                       0.2222222222222222,
                                       "#7201a8"
                                    ],
                                    [
                                       0.3333333333333333,
                                       "#9c179e"
                                    ],
                                    [
                                       0.4444444444444444,
                                       "#bd3786"
                                    ],
                                    [
                                       0.5555555555555556,
                                       "#d8576b"
                                    ],
                                    [
                                       0.6666666666666666,
                                       "#ed7953"
                                    ],
                                    [
                                       0.7777777777777778,
                                       "#fb9f3a"
                                    ],
                                    [
                                       0.8888888888888888,
                                       "#fdca26"
                                    ],
                                    [
                                       1,
                                       "#f0f921"
                                    ]
                                 ]
                              },
                              "colorway": [
                                 "#636efa",
                                 "#EF553B",
                                 "#00cc96",
                                 "#ab63fa",
                                 "#FFA15A",
                                 "#19d3f3",
                                 "#FF6692",
                                 "#B6E880",
                                 "#FF97FF",
                                 "#FECB52"
                              ],
                              "font": {
                                 "color": "#2a3f5f"
                              },
                              "geo": {
                                 "bgcolor": "white",
                                 "lakecolor": "white",
                                 "landcolor": "#E5ECF6",
                                 "showlakes": true,
                                 "showland": true,
                                 "subunitcolor": "white"
                              },
                              "hoverlabel": {
                                 "align": "left"
                              },
                              "hovermode": "closest",
                              "mapbox": {
                                 "style": "light"
                              },
                              "paper_bgcolor": "white",
                              "plot_bgcolor": "#E5ECF6",
                              "polar": {
                                 "angularaxis": {
                                    "gridcolor": "white",
                                    "linecolor": "white",
                                    "ticks": ""
                                 },
                                 "bgcolor": "#E5ECF6",
                                 "radialaxis": {
                                    "gridcolor": "white",
                                    "linecolor": "white",
                                    "ticks": ""
                                 }
                              },
                              "scene": {
                                 "xaxis": {
                                    "backgroundcolor": "#E5ECF6",
                                    "gridcolor": "white",
                                    "gridwidth": 2,
                                    "linecolor": "white",
                                    "showbackground": true,
                                    "ticks": "",
                                    "zerolinecolor": "white"
                                 },
                                 "yaxis": {
                                    "backgroundcolor": "#E5ECF6",
                                    "gridcolor": "white",
                                    "gridwidth": 2,
                                    "linecolor": "white",
                                    "showbackground": true,
                                    "ticks": "",
                                    "zerolinecolor": "white"
                                 },
                                 "zaxis": {
                                    "backgroundcolor": "#E5ECF6",
                                    "gridcolor": "white",
                                    "gridwidth": 2,
                                    "linecolor": "white",
                                    "showbackground": true,
                                    "ticks": "",
                                    "zerolinecolor": "white"
                                 }
                              },
                              "shapedefaults": {
                                 "line": {
                                    "color": "#2a3f5f"
                                 }
                              },
                              "ternary": {
                                 "aaxis": {
                                    "gridcolor": "white",
                                    "linecolor": "white",
                                    "ticks": ""
                                 },
                                 "baxis": {
                                    "gridcolor": "white",
                                    "linecolor": "white",
                                    "ticks": ""
                                 },
                                 "bgcolor": "#E5ECF6",
                                 "caxis": {
                                    "gridcolor": "white",
                                    "linecolor": "white",
                                    "ticks": ""
                                 }
                              },
                              "title": {
                                 "x": 0.05
                              },
                              "xaxis": {
                                 "automargin": true,
                                 "gridcolor": "white",
                                 "linecolor": "white",
                                 "ticks": "",
                                 "title": {
                                    "standoff": 15
                                 },
                                 "zerolinecolor": "white",
                                 "zerolinewidth": 2
                              },
                              "yaxis": {
                                 "automargin": true,
                                 "gridcolor": "white",
                                 "linecolor": "white",
                                 "ticks": "",
                                 "title": {
                                    "standoff": 15
                                 },
                                 "zerolinecolor": "white",
                                 "zerolinewidth": 2
                              }
                           }
                        },
                        "width": 1600,
                        "xaxis": {
                           "title": {
                              "text": "Class ID"
                           },
                           "type": "category"
                        },
                        "yaxis": {
                           "title": {
                              "text": "IoU"
                           }
                        }
                     }
                  }
               },
               "metadata": {},
               "output_type": "display_data"
            }
         ],
         "source": [
            "# df = df[::-1]\n",
            "# index = np.arange(1, 21)\n",
            "name = df[\"Name\"]\n",
            "aug_single = df[\"aug_iou_single\"]\n",
            "standard_single = df[\"standard_iou_single\"]\n",
            "mean_iou = df[\"mean_iou\"]\n",
            "max_iou = df[\"max_iou\"]\n",
            "\n",
            "aug_single_avg = aug_single.mean()\n",
            "std_single_avg = standard_single.mean()\n",
            "\n",
            "fig = go.Figure()\n",
            "fig.add_trace(go.Bar(\n",
            "    x=name,\n",
            "    y=aug_single,\n",
            "    name=\"ASR\",\n",
            "    marker_color='indianred',\n",
            "    text=round(aug_single, 2),\n",
            "    textposition='auto'\n",
            "))\n",
            "fig.add_trace(go.Bar(\n",
            "    x=name,\n",
            "    y=standard_single,\n",
            "    name=\"Standard\",\n",
            "    marker_color='lightsalmon',\n",
            "    text=round(standard_single, 2),\n",
            "    textposition='auto'\n",
            "))\n",
            "\n",
            "# Here we modify the tickangle of the xaxis, resulting in rotated labels.\n",
            "fig.update_layout(barmode='group', xaxis = {'type' : 'category'}, xaxis_title=\"Class ID\", yaxis_title=\"IoU\", bargap=0.05, width=1600)\n",
            "# fig.add_hline(y=std_single_avg, annotation_text=\"Avg. Standard IoU\", line_dash=\"dot\")\n",
            "# fig.add_hline(y=aug_single_avg, annotation_text=\"Avg. ASR IoU\", line_dash=\"dot\")\n",
            "fig.update_layout(legend=dict(\n",
            "    orientation=\"h\",\n",
            "    yanchor=\"bottom\",\n",
            "    y=1.02,\n",
            "    xanchor=\"right\",\n",
            "    x=1\n",
            "))\n",
            "fig.show()"
         ]
      },
      {
         "cell_type": "code",
         "execution_count": 134,
         "metadata": {},
         "outputs": [],
         "source": [
            "aug_single_avg = aug_single.mean()\n",
            "std_single_avg = standard_single.mean()"
         ]
      },
      {
         "cell_type": "code",
         "execution_count": 135,
         "metadata": {},
         "outputs": [
            {
               "name": "stdout",
               "output_type": "stream",
               "text": [
                  "-19.017489348788292\n"
               ]
            }
         ],
         "source": [
            "diff = aug_single - standard_single\n",
            "avg = np.mean(diff)\n",
            "\n",
            "print(avg * 100)"
         ]
      },
      {
         "cell_type": "code",
         "execution_count": 136,
         "metadata": {},
         "outputs": [
            {
               "name": "stdout",
               "output_type": "stream",
               "text": [
                  "-19.295992468865567\n"
               ]
            }
         ],
         "source": [
            "diff_mean = mean_iou - standard_single\n",
            "print(np.mean(diff_mean) * 100)"
         ]
      },
      {
         "cell_type": "code",
         "execution_count": 137,
         "metadata": {},
         "outputs": [
            {
               "name": "stdout",
               "output_type": "stream",
               "text": [
                  "-21.694074686095295\n"
               ]
            }
         ],
         "source": [
            "diff_max = max_iou - standard_single\n",
            "print(np.mean(diff_max) * 100)"
         ]
      },
      {
         "cell_type": "markdown",
         "metadata": {},
         "source": [
            "# Random Tests"
         ]
      },
      {
         "cell_type": "code",
         "execution_count": null,
         "metadata": {},
         "outputs": [],
         "source": [
            "FILENAME = \"argmax_500_sweep_all.csv\"\n",
            "CSV_PATH = os.path.join(ROOT_FOLDER, FILENAME)\n",
            "\n",
            "df = pd.read_csv(CSV_PATH)"
         ]
      },
      {
         "cell_type": "code",
         "execution_count": null,
         "metadata": {},
         "outputs": [],
         "source": [
            "dropout_perc = df[\"copy_dropout\"] * 100"
         ]
      },
      {
         "cell_type": "code",
         "execution_count": null,
         "metadata": {},
         "outputs": [],
         "source": [
            "fig = px.scatter(df, x=dropout_perc, y=\"avg_aug_SR_iou\", color=\"use_BTV\",                \n",
            "                 width=1200, height=600, labels={\"x\":\"Copy dropout (%)\", \"avg_aug_SR_iou\":\"avg. mIoU\", \"use_BTV\":\"BTV\"})\n",
            "fig.update_layout(title=\"Sample tuner runs for copy dropout and BTV - Class 8 + background\")\n",
            "fig.show()"
         ]
      }
   ],
   "metadata": {
      "kernelspec": {
         "display_name": "venv",
         "language": "python",
         "name": "python3"
      },
      "language_info": {
         "codemirror_mode": {
            "name": "ipython",
            "version": 3
         },
         "file_extension": ".py",
         "mimetype": "text/x-python",
         "name": "python",
         "nbconvert_exporter": "python",
         "pygments_lexer": "ipython3",
         "version": "3.9.9 (tags/v3.9.9:ccb0e6a, Nov 15 2021, 18:08:50) [MSC v.1929 64 bit (AMD64)]"
      },
      "orig_nbformat": 4,
      "vscode": {
         "interpreter": {
            "hash": "ba500faddcc9554b324f305821f72413859f05c2553c05f9f097395c92febb2d"
         }
      }
   },
   "nbformat": 4,
   "nbformat_minor": 2
}
