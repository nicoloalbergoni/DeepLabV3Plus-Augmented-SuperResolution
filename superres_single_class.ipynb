{
 "cells": [
  {
   "cell_type": "code",
   "execution_count": 1,
   "metadata": {
    "collapsed": true
   },
   "outputs": [],
   "source": [
    "import os\n",
    "import random\n",
    "import numpy as np\n",
    "import tensorflow as tf\n",
    "import tensorflow_addons as tfa\n",
    "from matplotlib import pyplot as plt\n",
    "from superresolution import Superresolution\n",
    "from utils import get_img_paths, load_image, create_mask, plot_prediction\n",
    "from model import DeeplabV3Plus\n",
    "from tqdm import tqdm"
   ]
  },
  {
   "cell_type": "code",
   "execution_count": 2,
   "outputs": [],
   "source": [
    "BASE_DIR = os.getcwd()\n",
    "DATA_DIR = os.path.join(BASE_DIR, \"data\")\n",
    "PASCAL_ROOT = os.path.join(DATA_DIR, \"VOCdevkit\", \"VOC2012\")\n",
    "IMGS_PATH = os.path.join(PASCAL_ROOT, \"JPEGImages\")\n",
    "\n",
    "precomputed_dest_root = os.path.join(DATA_DIR, \"precomputed_features\")\n",
    "if not os.path.exists(precomputed_dest_root):\n",
    "    os.mkdir(precomputed_dest_root)\n",
    "\n",
    "SEED = np.random.randint(0, 1000)\n",
    "IMG_SIZE = (512, 512)\n",
    "BATCH_SIZE = 64\n",
    "BUFFER_SIZE = 1000\n",
    "EPOCHS = 30\n",
    "CLASSES = 21\n",
    "RESHAPE_MASKS = True\n",
    "NUM_AUG = 50\n",
    "CLASS_ID = 8 # Cat class"
   ],
   "metadata": {
    "collapsed": false,
    "pycharm": {
     "name": "#%%\n"
    }
   }
  },
  {
   "cell_type": "code",
   "execution_count": 3,
   "outputs": [],
   "source": [
    "def filter_by_class(img_paths, class_id, image_size=(512, 512)):\n",
    "    \"\"\"\n",
    "    Given a list of image paths, return the images that contain the given class id in the respective mask\n",
    "\n",
    "    Args:\n",
    "        img_paths: List of image paths to check\n",
    "        class_id: Class id used for filering\n",
    "        image_size: Size of the image used to load and resize the image\n",
    "\n",
    "    Returns: A dictionary whose keys are the image filename and values are the actual images\n",
    "\n",
    "    \"\"\"\n",
    "    images_dict = {}\n",
    "    for img_path in img_paths:\n",
    "        image_name = os.path.splitext(os.path.basename(img_path))[0]\n",
    "        mask_path = img_path.replace(\"JPEGImages\", \"SegmentationClassAug\").replace(\"jpg\", \"png\")\n",
    "        mask = load_image(mask_path, image_size=image_size, normalize=False, is_png=True, resize_method=\"nearest\")\n",
    "        if np.any(mask == class_id):\n",
    "            image = load_image(img_path, image_size=IMG_SIZE, normalize=True)\n",
    "            images_dict[image_name] = image\n",
    "\n",
    "    print(f\"Valid images: {len(images_dict)} (Initial:  {len(img_paths)})\")\n",
    "    return images_dict"
   ],
   "metadata": {
    "collapsed": false,
    "pycharm": {
     "name": "#%%\n"
    }
   }
  },
  {
   "cell_type": "code",
   "execution_count": 4,
   "outputs": [
    {
     "name": "stdout",
     "output_type": "stream",
     "text": [
      "Valid images: 19 (Initial:  150)\n"
     ]
    }
   ],
   "source": [
    "image_list_path = os.path.join(DATA_DIR, \"augmented_file_lists\", \"valaug.txt\")\n",
    "image_paths = get_img_paths(image_list_path, IMGS_PATH)[:150]\n",
    "images_dict = filter_by_class(image_paths, class_id=8)\n",
    "\n",
    "valid_filenames = list(images_dict.keys())\n",
    "\n",
    "model_no_upsample = DeeplabV3Plus(\n",
    "    input_shape=(512, 512, 3),\n",
    "    classes=21,\n",
    "    OS=16,\n",
    "    last_activation=None,\n",
    "    load_weights=True,\n",
    "    backbone=\"mobilenet\",\n",
    "    alpha=1.).build_model(final_upsample=False)\n",
    "\n",
    "model_standard = DeeplabV3Plus(\n",
    "    input_shape=(512, 512, 3),\n",
    "    classes=21,\n",
    "    OS=16,\n",
    "    last_activation=None,\n",
    "    load_weights=True,\n",
    "    backbone=\"mobilenet\",\n",
    "    alpha=1.).build_model(final_upsample=True)"
   ],
   "metadata": {
    "collapsed": false,
    "pycharm": {
     "name": "#%%\n"
    }
   }
  },
  {
   "cell_type": "markdown",
   "source": [
    "# Save standard output for comparison"
   ],
   "metadata": {
    "collapsed": false,
    "pycharm": {
     "name": "#%% md\n"
    }
   }
  },
  {
   "cell_type": "code",
   "execution_count": 5,
   "outputs": [],
   "source": [
    "def get_prediction(model, input_image):\n",
    "\n",
    "    prediction = model.predict(input_image[tf.newaxis, ...])\n",
    "    mask = create_mask(prediction[0])\n",
    "\n",
    "    return mask\n",
    "\n",
    "def save_standard_output(image_dict, model, standard_out_folder, filter_class_id=None):\n",
    "    standard_masks = {}\n",
    "    if not os.path.exists(standard_out_folder):\n",
    "        os.mkdir(standard_out_folder)\n",
    "\n",
    "    for key in tqdm(image_dict):\n",
    "        standard_mask = get_prediction(model, image_dict[key])\n",
    "        if filter_class_id is not None:\n",
    "            standard_mask = tf.where(standard_mask == filter_class_id, standard_mask, 0) # Set to 0 all predictions different from the given class\n",
    "        tf.keras.utils.save_img(f\"{standard_out_folder}/{key}.png\", standard_mask, scale=False)\n",
    "        standard_masks[key] = standard_mask\n",
    "    return standard_masks"
   ],
   "metadata": {
    "collapsed": false,
    "pycharm": {
     "name": "#%%\n"
    }
   }
  },
  {
   "cell_type": "code",
   "execution_count": 6,
   "outputs": [
    {
     "name": "stderr",
     "output_type": "stream",
     "text": [
      "100%|██████████| 19/19 [00:06<00:00,  2.98it/s]\n"
     ]
    }
   ],
   "source": [
    "standard_out_folder = os.path.join(DATA_DIR, \"standard_output\")\n",
    "standard_masks_dict = save_standard_output(images_dict, model_standard, standard_out_folder, filter_class_id=CLASS_ID)"
   ],
   "metadata": {
    "collapsed": false,
    "pycharm": {
     "name": "#%%\n"
    }
   }
  },
  {
   "cell_type": "markdown",
   "source": [
    "# Precompute Augmented Output Features"
   ],
   "metadata": {
    "collapsed": false
   }
  },
  {
   "cell_type": "code",
   "execution_count": 7,
   "outputs": [],
   "source": [
    "def augment_images(batched_images, angles, shifts):\n",
    "\n",
    "    rotated_images = tfa.image.rotate(batched_images, angles, interpolation=\"bilinear\")\n",
    "    translated_images = tfa.image.translate(rotated_images, shifts, interpolation=\"bilinear\")\n",
    "\n",
    "    return translated_images\n",
    "\n",
    "\n",
    "def save_augmented_features(model, images_array, dest_folder, filter_class_id=None):\n",
    "    if not os.path.exists(dest_folder):\n",
    "        os.mkdir(dest_folder)\n",
    "\n",
    "    predictions = model.predict(images_array, batch_size=2)\n",
    "\n",
    "    for i, prediction in enumerate(predictions):\n",
    "        mask = create_mask(prediction)\n",
    "        if filter_class_id is not None:\n",
    "            mask = tf.where(mask == filter_class_id, mask, 0) # Set to 0 all predictions different from the given class\n",
    "\n",
    "\n",
    "        #mask_npy = mask.numpy()\n",
    "        #mask_scaled = ((mask_npy - mask_npy.min()) * (1/(mask_npy.max() - mask_npy.min()) * 255)).astype('uint8')\n",
    "\n",
    "        tf.keras.utils.save_img(f\"{dest_folder}/{i}.png\", mask, scale=True)\n",
    "\n",
    "    return predictions\n",
    "\n",
    "\n",
    "def precompute_augmented_features(image_filenames, dest_root_folder, model, class_id=None, num_aug=100, angle_max=0.5, shift_max=30):\n",
    "    for filename in tqdm(image_filenames):\n",
    "        image_path = os.path.join(IMGS_PATH, f\"{filename}.jpg\")\n",
    "        image = load_image(image_path, image_size=(512, 512), normalize=True)\n",
    "        batched_image = tf.tile(tf.expand_dims(image, axis=0), [num_aug, 1, 1, 1])  # Size [num_aug, 512, 512, 3]\n",
    "        angles = np.random.uniform(-angle_max, angle_max, num_aug)\n",
    "        shifts = np.random.uniform(-shift_max, shift_max, (num_aug, 2))\n",
    "        # First sample is not augmented\n",
    "        angles[0] = 0\n",
    "        shifts[0] = np.array([0, 0])\n",
    "        angles = angles.astype(\"float32\")\n",
    "        shifts = shifts.astype(\"float32\")\n",
    "\n",
    "        augmented_images = augment_images(batched_image, angles, shifts)\n",
    "\n",
    "        dest_folder = os.path.join(dest_root_folder, filename)\n",
    "\n",
    "        save_augmented_features(model, augmented_images, dest_folder=dest_folder, filter_class_id=class_id)\n",
    "        np.save(os.path.join(dest_folder, f\"{filename}_angles\"), angles)\n",
    "        np.save(os.path.join(dest_folder, f\"{filename}_shifts\"), shifts)"
   ],
   "metadata": {
    "collapsed": false,
    "pycharm": {
     "name": "#%%\n"
    }
   }
  },
  {
   "cell_type": "code",
   "execution_count": 8,
   "outputs": [
    {
     "name": "stderr",
     "output_type": "stream",
     "text": [
      "100%|██████████| 19/19 [01:20<00:00,  4.23s/it]\n"
     ]
    }
   ],
   "source": [
    "angle_max = 0.5  # in radians\n",
    "shift_max = 30\n",
    "\n",
    "precompute_augmented_features(valid_filenames, precomputed_dest_root, model_no_upsample, class_id=CLASS_ID, num_aug=NUM_AUG,\n",
    "                              angle_max=angle_max, shift_max=shift_max)"
   ],
   "metadata": {
    "collapsed": false,
    "pycharm": {
     "name": "#%%\n"
    }
   }
  },
  {
   "cell_type": "markdown",
   "source": [
    "# Compute Super-Resolution Output"
   ],
   "metadata": {
    "collapsed": false,
    "pycharm": {
     "name": "#%% md\n"
    }
   }
  },
  {
   "cell_type": "code",
   "execution_count": 11,
   "outputs": [],
   "source": [
    "def load_images(img_folder):\n",
    "    images = []\n",
    "    # Sort images based on their filename which is an integer indicating the augmented copy number\n",
    "    image_list = sorted([name.replace(\".png\", \"\") for name in os.listdir(img_folder) if \".npy\" not in name], key=int)\n",
    "\n",
    "    for img_name in image_list:\n",
    "        if \".npy\" in img_name:\n",
    "            continue\n",
    "        image = load_image(os.path.join(img_folder, f\"{img_name}.png\"), normalize=False, is_png=True)\n",
    "        images.append(image)\n",
    "\n",
    "    return images\n",
    "\n",
    "\n",
    "def get_precomputed_folders_path(root_dir, num_aug=100):\n",
    "    valid_folders = []\n",
    "    for path in os.listdir(root_dir):\n",
    "        full_path = os.path.join(root_dir, path)\n",
    "        if len(os.listdir(full_path)) == (num_aug + 2):\n",
    "            valid_folders.append(full_path)\n",
    "        else:\n",
    "            print(f\"Skipped folder named {path} as it is not valid\")\n",
    "\n",
    "    return valid_folders\n",
    "\n",
    "\n",
    "def compute_save_final_output(superresolution_obj, image_filenames, precomputed_root_dir, output_folder, num_aug=100):\n",
    "\n",
    "    superres_masks = {}\n",
    "    losses = {}\n",
    "\n",
    "    if not os.path.exists(output_folder):\n",
    "        os.mkdir(output_folder)\n",
    "\n",
    "    for filename in tqdm(image_filenames):\n",
    "        precomputed_folder_path = os.path.join(precomputed_root_dir, filename)\n",
    "\n",
    "        if not len(os.listdir(precomputed_folder_path)) == (num_aug + 2):\n",
    "            print(f\"Skipped folder named {filename} as it is not valid\")\n",
    "            continue\n",
    "\n",
    "        augmented_images = tf.stack(load_images(precomputed_folder_path))\n",
    "        max_values = np.max(augmented_images, axis=(1, 2, 3), keepdims=True)\n",
    "        max_values[max_values == 0.] = 1.\n",
    "        augmented_images = augmented_images / max_values # TODO: Testing only\n",
    "        augmented_images = tf.cast(augmented_images, tf.float32)\n",
    "\n",
    "        base_name = os.path.basename(os.path.normpath(precomputed_folder_path))\n",
    "        angles = np.load(os.path.join(precomputed_folder_path, f\"{base_name}_angles.npy\"))\n",
    "        shifts = np.load(os.path.join(precomputed_folder_path, f\"{base_name}_shifts.npy\"))\n",
    "        target_image, loss = superresolution_obj.compute_output(augmented_images, angles, shifts)\n",
    "        target_image = target_image[0]\n",
    "\n",
    "        #target_image_npy = target_image[0].numpy()\n",
    "        #target_image_scaled = ((target_image_npy - target_image_npy.min()) * (1/(target_image_npy.max() - target_image_npy.min()) * 255)).astype('uint8')\n",
    "\n",
    "        tf.keras.utils.save_img(f\"{output_folder}/{base_name}.png\", target_image, scale=True)\n",
    "\n",
    "        superres_masks[base_name] = target_image\n",
    "        losses[base_name] = loss\n",
    "\n",
    "    return superres_masks, losses"
   ],
   "metadata": {
    "collapsed": false,
    "pycharm": {
     "name": "#%%\n"
    }
   }
  },
  {
   "cell_type": "code",
   "execution_count": 12,
   "outputs": [
    {
     "name": "stderr",
     "output_type": "stream",
     "text": [
      "  0%|          | 0/19 [00:00<?, ?it/s]"
     ]
    },
    {
     "name": "stdout",
     "output_type": "stream",
     "text": [
      "1/400 -- loss = 40348.0\n",
      "11/400 -- loss = 39563.8125\n",
      "21/400 -- loss = 38789.5078125\n",
      "31/400 -- loss = 38026.50390625\n",
      "41/400 -- loss = 37274.140625\n",
      "51/400 -- loss = 36533.7734375\n",
      "61/400 -- loss = 35806.30859375\n",
      "71/400 -- loss = 35092.35546875\n",
      "81/400 -- loss = 34391.73046875\n",
      "91/400 -- loss = 33704.05078125\n",
      "101/400 -- loss = 33029.05859375\n",
      "111/400 -- loss = 32366.548828125\n",
      "121/400 -- loss = 31716.228515625\n",
      "131/400 -- loss = 31077.95703125\n",
      "141/400 -- loss = 30451.5\n",
      "151/400 -- loss = 29836.623046875\n",
      "161/400 -- loss = 29233.189453125\n",
      "171/400 -- loss = 28641.0078125\n",
      "181/400 -- loss = 28059.87109375\n",
      "191/400 -- loss = 27489.6171875\n",
      "201/400 -- loss = 26930.056640625\n",
      "211/400 -- loss = 26381.033203125\n",
      "221/400 -- loss = 25842.412109375\n",
      "231/400 -- loss = 25313.9453125\n",
      "241/400 -- loss = 24795.529296875\n",
      "251/400 -- loss = 24287.001953125\n",
      "261/400 -- loss = 23788.201171875\n",
      "271/400 -- loss = 23298.974609375\n",
      "281/400 -- loss = 22819.208984375\n",
      "291/400 -- loss = 22348.720703125\n",
      "301/400 -- loss = 21887.373046875\n",
      "311/400 -- loss = 21435.013671875\n",
      "321/400 -- loss = 20991.51953125\n",
      "331/400 -- loss = 20556.74609375\n",
      "341/400 -- loss = 20130.578125\n",
      "351/400 -- loss = 19712.857421875\n",
      "361/400 -- loss = 19303.47265625\n",
      "371/400 -- loss = 18902.298828125\n",
      "381/400 -- loss = 18509.21875\n",
      "391/400 -- loss = 18124.072265625\n"
     ]
    },
    {
     "name": "stderr",
     "output_type": "stream",
     "text": [
      "  5%|▌         | 1/19 [00:17<05:10, 17.26s/it]"
     ]
    },
    {
     "name": "stdout",
     "output_type": "stream",
     "text": [
      "400/400 -- loss = 17784.142578125\n",
      "1/400 -- loss = 17677.0\n",
      "11/400 -- loss = 17350.291015625\n",
      "21/400 -- loss = 17028.458984375\n",
      "31/400 -- loss = 16714.6015625\n",
      "41/400 -- loss = 16409.578125\n",
      "51/400 -- loss = 16114.033203125\n",
      "61/400 -- loss = 15828.2939453125\n",
      "71/400 -- loss = 15552.0830078125\n",
      "81/400 -- loss = 15285.091796875\n",
      "91/400 -- loss = 15025.703125\n",
      "101/400 -- loss = 14774.8505859375\n",
      "111/400 -- loss = 14533.0078125\n",
      "121/400 -- loss = 14299.8046875\n",
      "131/400 -- loss = 14074.919921875\n",
      "141/400 -- loss = 13858.0\n",
      "151/400 -- loss = 13648.7353515625\n",
      "161/400 -- loss = 13446.96484375\n",
      "171/400 -- loss = 13252.4033203125\n",
      "181/400 -- loss = 13064.81640625\n",
      "191/400 -- loss = 12883.9716796875\n",
      "201/400 -- loss = 12709.7060546875\n",
      "211/400 -- loss = 12541.7373046875\n",
      "221/400 -- loss = 12379.91015625\n",
      "231/400 -- loss = 12224.0224609375\n",
      "241/400 -- loss = 12073.8408203125\n",
      "251/400 -- loss = 11929.197265625\n",
      "261/400 -- loss = 11789.953125\n",
      "271/400 -- loss = 11655.8701171875\n",
      "281/400 -- loss = 11526.8017578125\n",
      "291/400 -- loss = 11402.5322265625\n",
      "301/400 -- loss = 11282.935546875\n",
      "311/400 -- loss = 11167.85546875\n",
      "321/400 -- loss = 11057.1025390625\n",
      "331/400 -- loss = 10950.587890625\n",
      "341/400 -- loss = 10848.10546875\n",
      "351/400 -- loss = 10749.49609375\n",
      "361/400 -- loss = 10654.67578125\n",
      "371/400 -- loss = 10563.4931640625\n",
      "381/400 -- loss = 10475.822265625\n",
      "391/400 -- loss = 10391.4990234375\n"
     ]
    },
    {
     "name": "stderr",
     "output_type": "stream",
     "text": [
      " 11%|█         | 2/19 [00:32<04:37, 16.31s/it]"
     ]
    },
    {
     "name": "stdout",
     "output_type": "stream",
     "text": [
      "400/400 -- loss = 10318.373046875\n",
      "1/400 -- loss = 43483.0\n",
      "11/400 -- loss = 42633.42578125\n",
      "21/400 -- loss = 41793.8046875\n",
      "31/400 -- loss = 40965.671875\n",
      "41/400 -- loss = 40149.1328125\n",
      "51/400 -- loss = 39344.15234375\n",
      "61/400 -- loss = 38550.15625\n",
      "71/400 -- loss = 37768.74609375\n",
      "81/400 -- loss = 37000.171875\n",
      "91/400 -- loss = 36244.31640625\n",
      "101/400 -- loss = 35500.9921875\n",
      "111/400 -- loss = 34769.890625\n",
      "121/400 -- loss = 34050.90625\n",
      "131/400 -- loss = 33343.91796875\n",
      "141/400 -- loss = 32648.716796875\n",
      "151/400 -- loss = 31965.150390625\n",
      "161/400 -- loss = 31293.14453125\n",
      "171/400 -- loss = 30632.548828125\n",
      "181/400 -- loss = 29983.17578125\n",
      "191/400 -- loss = 29344.9765625\n",
      "201/400 -- loss = 28717.763671875\n",
      "211/400 -- loss = 28101.423828125\n",
      "221/400 -- loss = 27495.83984375\n",
      "231/400 -- loss = 26900.8359375\n",
      "241/400 -- loss = 26316.369140625\n",
      "251/400 -- loss = 25742.24609375\n",
      "261/400 -- loss = 25178.34765625\n",
      "271/400 -- loss = 24624.57421875\n",
      "281/400 -- loss = 24080.796875\n",
      "291/400 -- loss = 23546.83984375\n",
      "301/400 -- loss = 23022.6796875\n",
      "311/400 -- loss = 22508.12109375\n",
      "321/400 -- loss = 22003.07421875\n",
      "331/400 -- loss = 21507.396484375\n",
      "341/400 -- loss = 21020.982421875\n",
      "351/400 -- loss = 20543.685546875\n",
      "361/400 -- loss = 20075.45703125\n",
      "371/400 -- loss = 19616.0859375\n",
      "381/400 -- loss = 19165.55859375\n",
      "391/400 -- loss = 18723.6953125\n"
     ]
    },
    {
     "name": "stderr",
     "output_type": "stream",
     "text": [
      " 16%|█▌        | 3/19 [00:49<04:19, 16.25s/it]"
     ]
    },
    {
     "name": "stdout",
     "output_type": "stream",
     "text": [
      "400/400 -- loss = 18333.333984375\n",
      "1/400 -- loss = 13948.0\n",
      "11/400 -- loss = 13677.1181640625\n",
      "21/400 -- loss = 13409.369140625\n",
      "31/400 -- loss = 13145.73046875\n",
      "41/400 -- loss = 12886.505859375\n",
      "51/400 -- loss = 12630.7041015625\n",
      "61/400 -- loss = 12377.8876953125\n",
      "71/400 -- loss = 12128.1875\n",
      "81/400 -- loss = 11881.7255859375\n",
      "91/400 -- loss = 11639.8173828125\n",
      "101/400 -- loss = 11402.3046875\n",
      "111/400 -- loss = 11169.0673828125\n",
      "121/400 -- loss = 10939.9560546875\n",
      "131/400 -- loss = 10714.8134765625\n",
      "141/400 -- loss = 10493.6220703125\n",
      "151/400 -- loss = 10276.2314453125\n",
      "161/400 -- loss = 10062.6640625\n",
      "171/400 -- loss = 9852.806640625\n",
      "181/400 -- loss = 9646.6220703125\n",
      "191/400 -- loss = 9444.08203125\n",
      "201/400 -- loss = 9245.1083984375\n",
      "211/400 -- loss = 9049.7412109375\n",
      "221/400 -- loss = 8857.802734375\n",
      "231/400 -- loss = 8669.3798828125\n",
      "241/400 -- loss = 8484.2763671875\n",
      "251/400 -- loss = 8302.5654296875\n",
      "261/400 -- loss = 8124.14208984375\n",
      "271/400 -- loss = 7949.01123046875\n",
      "281/400 -- loss = 7777.11083984375\n",
      "291/400 -- loss = 7608.361328125\n",
      "301/400 -- loss = 7442.76611328125\n",
      "311/400 -- loss = 7280.240234375\n",
      "321/400 -- loss = 7120.798828125\n",
      "331/400 -- loss = 6964.345703125\n",
      "341/400 -- loss = 6810.873046875\n",
      "351/400 -- loss = 6660.3408203125\n",
      "361/400 -- loss = 6512.70654296875\n",
      "371/400 -- loss = 6367.9111328125\n",
      "381/400 -- loss = 6225.94384765625\n",
      "391/400 -- loss = 6086.77978515625\n"
     ]
    },
    {
     "name": "stderr",
     "output_type": "stream",
     "text": [
      " 21%|██        | 4/19 [01:05<04:05, 16.35s/it]"
     ]
    },
    {
     "name": "stdout",
     "output_type": "stream",
     "text": [
      "400/400 -- loss = 5963.8193359375\n",
      "1/400 -- loss = 40192.0\n",
      "11/400 -- loss = 39406.67578125\n",
      "21/400 -- loss = 38629.95703125\n",
      "31/400 -- loss = 37863.671875\n",
      "41/400 -- loss = 37107.84375\n",
      "51/400 -- loss = 36363.64453125\n",
      "61/400 -- loss = 35630.54296875\n",
      "71/400 -- loss = 34908.859375\n",
      "81/400 -- loss = 34199.24609375\n",
      "91/400 -- loss = 33501.6875\n",
      "101/400 -- loss = 32815.9453125\n",
      "111/400 -- loss = 32141.7109375\n",
      "121/400 -- loss = 31478.888671875\n",
      "131/400 -- loss = 30827.306640625\n",
      "141/400 -- loss = 30186.76953125\n",
      "151/400 -- loss = 29557.216796875\n",
      "161/400 -- loss = 28938.427734375\n",
      "171/400 -- loss = 28330.326171875\n",
      "181/400 -- loss = 27732.734375\n",
      "191/400 -- loss = 27145.537109375\n",
      "201/400 -- loss = 26568.609375\n",
      "211/400 -- loss = 26001.83203125\n",
      "221/400 -- loss = 25445.056640625\n",
      "231/400 -- loss = 24898.189453125\n",
      "241/400 -- loss = 24361.056640625\n",
      "251/400 -- loss = 23833.568359375\n",
      "261/400 -- loss = 23315.572265625\n",
      "271/400 -- loss = 22807.0\n",
      "281/400 -- loss = 22307.66796875\n",
      "291/400 -- loss = 21817.515625\n",
      "301/400 -- loss = 21336.388671875\n",
      "311/400 -- loss = 20864.1328125\n",
      "321/400 -- loss = 20400.720703125\n",
      "331/400 -- loss = 19946.0\n",
      "341/400 -- loss = 19499.80859375\n",
      "351/400 -- loss = 19062.08203125\n",
      "361/400 -- loss = 18632.724609375\n",
      "371/400 -- loss = 18211.576171875\n",
      "381/400 -- loss = 17798.578125\n",
      "391/400 -- loss = 17393.5625\n"
     ]
    },
    {
     "name": "stderr",
     "output_type": "stream",
     "text": [
      " 26%|██▋       | 5/19 [01:21<03:47, 16.23s/it]"
     ]
    },
    {
     "name": "stdout",
     "output_type": "stream",
     "text": [
      "400/400 -- loss = 17035.833984375\n",
      "1/400 -- loss = 38300.0\n",
      "11/400 -- loss = 37552.55859375\n",
      "21/400 -- loss = 36813.68359375\n",
      "31/400 -- loss = 36083.83984375\n",
      "41/400 -- loss = 35363.6875\n",
      "51/400 -- loss = 34654.46875\n",
      "61/400 -- loss = 33956.6953125\n",
      "71/400 -- loss = 33270.35546875\n",
      "81/400 -- loss = 32595.283203125\n",
      "91/400 -- loss = 31931.455078125\n",
      "101/400 -- loss = 31278.8828125\n",
      "111/400 -- loss = 30637.443359375\n",
      "121/400 -- loss = 30006.98828125\n",
      "131/400 -- loss = 29387.373046875\n",
      "141/400 -- loss = 28778.45703125\n",
      "151/400 -- loss = 28180.044921875\n",
      "161/400 -- loss = 27592.037109375\n",
      "171/400 -- loss = 27014.3203125\n",
      "181/400 -- loss = 26446.765625\n",
      "191/400 -- loss = 25889.23828125\n",
      "201/400 -- loss = 25341.583984375\n",
      "211/400 -- loss = 24803.75390625\n",
      "221/400 -- loss = 24275.560546875\n",
      "231/400 -- loss = 23756.912109375\n",
      "241/400 -- loss = 23247.669921875\n",
      "251/400 -- loss = 22747.75390625\n",
      "261/400 -- loss = 22257.01171875\n",
      "271/400 -- loss = 21775.32421875\n",
      "281/400 -- loss = 21302.609375\n",
      "291/400 -- loss = 20838.73046875\n",
      "301/400 -- loss = 20383.5703125\n",
      "311/400 -- loss = 19936.986328125\n",
      "321/400 -- loss = 19498.9140625\n",
      "331/400 -- loss = 19069.2265625\n",
      "341/400 -- loss = 18647.796875\n",
      "351/400 -- loss = 18234.544921875\n",
      "361/400 -- loss = 17829.34375\n",
      "371/400 -- loss = 17432.078125\n",
      "381/400 -- loss = 17042.6484375\n",
      "391/400 -- loss = 16660.93359375\n"
     ]
    },
    {
     "name": "stderr",
     "output_type": "stream",
     "text": [
      " 32%|███▏      | 6/19 [01:37<03:29, 16.13s/it]"
     ]
    },
    {
     "name": "stdout",
     "output_type": "stream",
     "text": [
      "400/400 -- loss = 16323.8994140625\n",
      "1/400 -- loss = 81021.0\n",
      "11/400 -- loss = 79434.4765625\n",
      "21/400 -- loss = 77865.4375\n",
      "31/400 -- loss = 76317.640625\n",
      "41/400 -- loss = 74791.46875\n",
      "51/400 -- loss = 73288.5390625\n",
      "61/400 -- loss = 71809.6328125\n",
      "71/400 -- loss = 70354.828125\n",
      "81/400 -- loss = 68924.015625\n",
      "91/400 -- loss = 67516.9453125\n",
      "101/400 -- loss = 66133.3125\n",
      "111/400 -- loss = 64772.83984375\n",
      "121/400 -- loss = 63435.16796875\n",
      "131/400 -- loss = 62120.1328125\n",
      "141/400 -- loss = 60827.42578125\n",
      "151/400 -- loss = 59556.78125\n",
      "161/400 -- loss = 58307.94921875\n",
      "171/400 -- loss = 57080.640625\n",
      "181/400 -- loss = 55874.60546875\n",
      "191/400 -- loss = 54689.63671875\n",
      "201/400 -- loss = 53525.4140625\n",
      "211/400 -- loss = 52381.703125\n",
      "221/400 -- loss = 51258.30859375\n",
      "231/400 -- loss = 50154.90234375\n",
      "241/400 -- loss = 49071.28125\n",
      "251/400 -- loss = 48007.17578125\n",
      "261/400 -- loss = 46962.3359375\n",
      "271/400 -- loss = 45936.58984375\n",
      "281/400 -- loss = 44929.6015625\n",
      "291/400 -- loss = 43941.203125\n",
      "301/400 -- loss = 42971.11328125\n",
      "311/400 -- loss = 42019.12109375\n",
      "321/400 -- loss = 41084.99609375\n",
      "331/400 -- loss = 40168.4765625\n",
      "341/400 -- loss = 39269.3671875\n",
      "351/400 -- loss = 38387.40625\n",
      "361/400 -- loss = 37522.3828125\n",
      "371/400 -- loss = 36674.07421875\n",
      "381/400 -- loss = 35842.25390625\n",
      "391/400 -- loss = 35026.6875\n"
     ]
    },
    {
     "name": "stderr",
     "output_type": "stream",
     "text": [
      " 37%|███▋      | 7/19 [01:53<03:12, 16.05s/it]"
     ]
    },
    {
     "name": "stdout",
     "output_type": "stream",
     "text": [
      "400/400 -- loss = 34306.4140625\n",
      "1/400 -- loss = 35585.0\n",
      "11/400 -- loss = 34902.06640625\n",
      "21/400 -- loss = 34224.30078125\n",
      "31/400 -- loss = 33554.2578125\n",
      "41/400 -- loss = 32896.4921875\n",
      "51/400 -- loss = 32251.2890625\n",
      "61/400 -- loss = 31617.974609375\n",
      "71/400 -- loss = 30997.333984375\n",
      "81/400 -- loss = 30388.994140625\n",
      "91/400 -- loss = 29792.697265625\n",
      "101/400 -- loss = 29208.15234375\n",
      "111/400 -- loss = 28635.181640625\n",
      "121/400 -- loss = 28073.529296875\n",
      "131/400 -- loss = 27522.986328125\n",
      "141/400 -- loss = 26983.40234375\n",
      "151/400 -- loss = 26454.556640625\n",
      "161/400 -- loss = 25936.212890625\n",
      "171/400 -- loss = 25428.267578125\n",
      "181/400 -- loss = 24930.51953125\n",
      "191/400 -- loss = 24442.771484375\n",
      "201/400 -- loss = 23964.84765625\n",
      "211/400 -- loss = 23496.623046875\n",
      "221/400 -- loss = 23037.916015625\n",
      "231/400 -- loss = 22588.564453125\n",
      "241/400 -- loss = 22148.431640625\n",
      "251/400 -- loss = 21717.3671875\n",
      "261/400 -- loss = 21295.181640625\n",
      "271/400 -- loss = 20881.76171875\n",
      "281/400 -- loss = 20476.95703125\n",
      "291/400 -- loss = 20080.623046875\n",
      "301/400 -- loss = 19692.625\n",
      "311/400 -- loss = 19312.806640625\n",
      "321/400 -- loss = 18941.02734375\n",
      "331/400 -- loss = 18577.205078125\n",
      "341/400 -- loss = 18221.154296875\n",
      "351/400 -- loss = 17872.771484375\n",
      "361/400 -- loss = 17531.931640625\n",
      "371/400 -- loss = 17198.478515625\n",
      "381/400 -- loss = 16872.28515625\n",
      "391/400 -- loss = 16553.291015625\n"
     ]
    },
    {
     "name": "stderr",
     "output_type": "stream",
     "text": [
      " 42%|████▏     | 8/19 [02:09<02:55, 15.98s/it]"
     ]
    },
    {
     "name": "stdout",
     "output_type": "stream",
     "text": [
      "400/400 -- loss = 16272.185546875\n",
      "1/400 -- loss = 24505.0\n",
      "11/400 -- loss = 24029.681640625\n",
      "21/400 -- loss = 23558.556640625\n",
      "31/400 -- loss = 23093.861328125\n",
      "41/400 -- loss = 22635.80078125\n",
      "51/400 -- loss = 22184.384765625\n",
      "61/400 -- loss = 21738.974609375\n",
      "71/400 -- loss = 21300.6328125\n",
      "81/400 -- loss = 20870.18359375\n",
      "91/400 -- loss = 20447.375\n",
      "101/400 -- loss = 20031.90234375\n",
      "111/400 -- loss = 19623.646484375\n",
      "121/400 -- loss = 19222.498046875\n",
      "131/400 -- loss = 18828.26953125\n",
      "141/400 -- loss = 18440.931640625\n",
      "151/400 -- loss = 18060.326171875\n",
      "161/400 -- loss = 17686.423828125\n",
      "171/400 -- loss = 17319.107421875\n",
      "181/400 -- loss = 16958.275390625\n",
      "191/400 -- loss = 16603.830078125\n",
      "201/400 -- loss = 16255.7041015625\n",
      "211/400 -- loss = 15913.8369140625\n",
      "221/400 -- loss = 15578.11328125\n",
      "231/400 -- loss = 15248.4794921875\n",
      "241/400 -- loss = 14924.8125\n",
      "251/400 -- loss = 14607.06640625\n",
      "261/400 -- loss = 14295.16015625\n",
      "271/400 -- loss = 13989.0146484375\n",
      "281/400 -- loss = 13688.5595703125\n",
      "291/400 -- loss = 13393.6904296875\n",
      "301/400 -- loss = 13104.3701171875\n",
      "311/400 -- loss = 12820.4912109375\n",
      "321/400 -- loss = 12541.982421875\n",
      "331/400 -- loss = 12268.81640625\n",
      "341/400 -- loss = 12000.865234375\n",
      "351/400 -- loss = 11738.0859375\n",
      "361/400 -- loss = 11480.3916015625\n",
      "371/400 -- loss = 11227.7421875\n",
      "381/400 -- loss = 10980.048828125\n",
      "391/400 -- loss = 10737.2001953125\n"
     ]
    },
    {
     "name": "stderr",
     "output_type": "stream",
     "text": [
      " 47%|████▋     | 9/19 [02:24<02:37, 15.70s/it]"
     ]
    },
    {
     "name": "stdout",
     "output_type": "stream",
     "text": [
      "400/400 -- loss = 10522.796875\n",
      "1/400 -- loss = 15275.0\n",
      "11/400 -- loss = 14989.8828125\n",
      "21/400 -- loss = 14707.8310546875\n",
      "31/400 -- loss = 14431.5654296875\n",
      "41/400 -- loss = 14162.01953125\n",
      "51/400 -- loss = 13899.4287109375\n",
      "61/400 -- loss = 13642.23046875\n",
      "71/400 -- loss = 13390.5517578125\n",
      "81/400 -- loss = 13145.55078125\n",
      "91/400 -- loss = 12907.3203125\n",
      "101/400 -- loss = 12675.634765625\n",
      "111/400 -- loss = 12450.3037109375\n",
      "121/400 -- loss = 12231.0703125\n",
      "131/400 -- loss = 12017.7294921875\n",
      "141/400 -- loss = 11810.1591796875\n",
      "151/400 -- loss = 11608.1904296875\n",
      "161/400 -- loss = 11411.662109375\n",
      "171/400 -- loss = 11220.4658203125\n",
      "181/400 -- loss = 11034.439453125\n",
      "191/400 -- loss = 10853.4794921875\n",
      "201/400 -- loss = 10677.466796875\n",
      "211/400 -- loss = 10506.2841796875\n",
      "221/400 -- loss = 10339.76171875\n",
      "231/400 -- loss = 10177.876953125\n",
      "241/400 -- loss = 10020.435546875\n",
      "251/400 -- loss = 9867.384765625\n",
      "261/400 -- loss = 9718.603515625\n",
      "271/400 -- loss = 9573.9912109375\n",
      "281/400 -- loss = 9433.447265625\n",
      "291/400 -- loss = 9296.8876953125\n",
      "301/400 -- loss = 9164.16796875\n",
      "311/400 -- loss = 9035.2578125\n",
      "321/400 -- loss = 8910.05078125\n",
      "331/400 -- loss = 8788.4384765625\n",
      "341/400 -- loss = 8670.31640625\n",
      "351/400 -- loss = 8555.6298828125\n",
      "361/400 -- loss = 8444.2744140625\n",
      "371/400 -- loss = 8336.189453125\n",
      "381/400 -- loss = 8231.2939453125\n",
      "391/400 -- loss = 8129.5322265625\n"
     ]
    },
    {
     "name": "stderr",
     "output_type": "stream",
     "text": [
      " 53%|█████▎    | 10/19 [02:39<02:20, 15.57s/it]"
     ]
    },
    {
     "name": "stdout",
     "output_type": "stream",
     "text": [
      "400/400 -- loss = 8040.50732421875\n",
      "1/400 -- loss = 33248.0\n",
      "11/400 -- loss = 32601.6953125\n",
      "21/400 -- loss = 31962.57421875\n",
      "31/400 -- loss = 31330.5625\n",
      "41/400 -- loss = 30707.296875\n",
      "51/400 -- loss = 30093.484375\n",
      "61/400 -- loss = 29489.810546875\n",
      "71/400 -- loss = 28896.681640625\n",
      "81/400 -- loss = 28314.072265625\n",
      "91/400 -- loss = 27741.67578125\n",
      "101/400 -- loss = 27179.318359375\n",
      "111/400 -- loss = 26626.888671875\n",
      "121/400 -- loss = 26084.1640625\n",
      "131/400 -- loss = 25551.01953125\n",
      "141/400 -- loss = 25027.32421875\n",
      "151/400 -- loss = 24512.990234375\n",
      "161/400 -- loss = 24007.861328125\n",
      "171/400 -- loss = 23511.794921875\n",
      "181/400 -- loss = 23024.685546875\n",
      "191/400 -- loss = 22546.416015625\n",
      "201/400 -- loss = 22076.83984375\n",
      "211/400 -- loss = 21615.8671875\n",
      "221/400 -- loss = 21163.400390625\n",
      "231/400 -- loss = 20719.28515625\n",
      "241/400 -- loss = 20283.427734375\n",
      "251/400 -- loss = 19855.693359375\n",
      "261/400 -- loss = 19436.009765625\n",
      "271/400 -- loss = 19024.216796875\n",
      "281/400 -- loss = 18620.283203125\n",
      "291/400 -- loss = 18224.0\n",
      "301/400 -- loss = 17835.326171875\n",
      "311/400 -- loss = 17454.134765625\n",
      "321/400 -- loss = 17080.33984375\n",
      "331/400 -- loss = 16713.82421875\n",
      "341/400 -- loss = 16354.5087890625\n",
      "351/400 -- loss = 16002.240234375\n",
      "361/400 -- loss = 15656.958984375\n",
      "371/400 -- loss = 15318.546875\n",
      "381/400 -- loss = 14986.908203125\n",
      "391/400 -- loss = 14661.966796875\n"
     ]
    },
    {
     "name": "stderr",
     "output_type": "stream",
     "text": [
      " 58%|█████▊    | 11/19 [02:54<02:03, 15.48s/it]"
     ]
    },
    {
     "name": "stdout",
     "output_type": "stream",
     "text": [
      "400/400 -- loss = 14375.1494140625\n",
      "1/400 -- loss = 7937.0\n",
      "11/400 -- loss = 7786.2841796875\n",
      "21/400 -- loss = 7638.3623046875\n",
      "31/400 -- loss = 7493.52734375\n",
      "41/400 -- loss = 7351.6611328125\n",
      "51/400 -- loss = 7212.98583984375\n",
      "61/400 -- loss = 7077.28466796875\n",
      "71/400 -- loss = 6945.25537109375\n",
      "81/400 -- loss = 6816.7578125\n",
      "91/400 -- loss = 6690.86083984375\n",
      "101/400 -- loss = 6567.2666015625\n",
      "111/400 -- loss = 6447.2568359375\n",
      "121/400 -- loss = 6330.8994140625\n",
      "131/400 -- loss = 6217.88671875\n",
      "141/400 -- loss = 6108.10546875\n",
      "151/400 -- loss = 6001.45556640625\n",
      "161/400 -- loss = 5897.8173828125\n",
      "171/400 -- loss = 5797.11962890625\n",
      "181/400 -- loss = 5699.322265625\n",
      "191/400 -- loss = 5604.28369140625\n",
      "201/400 -- loss = 5512.021484375\n",
      "211/400 -- loss = 5422.41455078125\n",
      "221/400 -- loss = 5335.443359375\n",
      "231/400 -- loss = 5250.99267578125\n",
      "241/400 -- loss = 5169.03369140625\n",
      "251/400 -- loss = 5089.49853515625\n",
      "261/400 -- loss = 5012.3447265625\n",
      "271/400 -- loss = 4937.46630859375\n",
      "281/400 -- loss = 4864.869140625\n",
      "291/400 -- loss = 4794.44970703125\n",
      "301/400 -- loss = 4726.18896484375\n",
      "311/400 -- loss = 4660.00732421875\n",
      "321/400 -- loss = 4595.85400390625\n",
      "331/400 -- loss = 4533.65234375\n",
      "341/400 -- loss = 4473.40673828125\n",
      "351/400 -- loss = 4415.05419921875\n",
      "361/400 -- loss = 4358.4833984375\n",
      "371/400 -- loss = 4303.728515625\n",
      "381/400 -- loss = 4250.685546875\n",
      "391/400 -- loss = 4199.31689453125\n"
     ]
    },
    {
     "name": "stderr",
     "output_type": "stream",
     "text": [
      " 63%|██████▎   | 12/19 [03:10<01:47, 15.42s/it]"
     ]
    },
    {
     "name": "stdout",
     "output_type": "stream",
     "text": [
      "400/400 -- loss = 4154.5087890625\n",
      "1/400 -- loss = 45289.0\n",
      "11/400 -- loss = 44403.2890625\n",
      "21/400 -- loss = 43527.87890625\n",
      "31/400 -- loss = 42664.109375\n",
      "41/400 -- loss = 41812.48046875\n",
      "51/400 -- loss = 40973.28515625\n",
      "61/400 -- loss = 40147.33984375\n",
      "71/400 -- loss = 39333.45703125\n",
      "81/400 -- loss = 38532.5390625\n",
      "91/400 -- loss = 37745.01171875\n",
      "101/400 -- loss = 36970.62109375\n",
      "111/400 -- loss = 36209.1015625\n",
      "121/400 -- loss = 35460.30078125\n",
      "131/400 -- loss = 34723.9921875\n",
      "141/400 -- loss = 34000.02734375\n",
      "151/400 -- loss = 33288.27734375\n",
      "161/400 -- loss = 32588.611328125\n",
      "171/400 -- loss = 31900.8515625\n",
      "181/400 -- loss = 31224.828125\n",
      "191/400 -- loss = 30560.50390625\n",
      "201/400 -- loss = 29907.625\n",
      "211/400 -- loss = 29266.138671875\n",
      "221/400 -- loss = 28635.87109375\n",
      "231/400 -- loss = 28016.6796875\n",
      "241/400 -- loss = 27408.46484375\n",
      "251/400 -- loss = 26811.052734375\n",
      "261/400 -- loss = 26224.341796875\n",
      "271/400 -- loss = 25648.171875\n",
      "281/400 -- loss = 25082.46875\n",
      "291/400 -- loss = 24527.017578125\n",
      "301/400 -- loss = 23981.771484375\n",
      "311/400 -- loss = 23446.546875\n",
      "321/400 -- loss = 22921.240234375\n",
      "331/400 -- loss = 22405.740234375\n",
      "341/400 -- loss = 21899.875\n",
      "351/400 -- loss = 21403.564453125\n",
      "361/400 -- loss = 20916.673828125\n",
      "371/400 -- loss = 20439.068359375\n",
      "381/400 -- loss = 19970.623046875\n",
      "391/400 -- loss = 19511.224609375\n"
     ]
    },
    {
     "name": "stderr",
     "output_type": "stream",
     "text": [
      " 68%|██████▊   | 13/19 [03:25<01:32, 15.37s/it]"
     ]
    },
    {
     "name": "stdout",
     "output_type": "stream",
     "text": [
      "400/400 -- loss = 19105.4375\n",
      "1/400 -- loss = 15711.0\n",
      "11/400 -- loss = 15406.310546875\n",
      "21/400 -- loss = 15105.2412109375\n",
      "31/400 -- loss = 14809.1630859375\n",
      "41/400 -- loss = 14517.5703125\n",
      "51/400 -- loss = 14229.0966796875\n",
      "61/400 -- loss = 13944.015625\n",
      "71/400 -- loss = 13662.837890625\n",
      "81/400 -- loss = 13386.6708984375\n",
      "91/400 -- loss = 13115.646484375\n",
      "101/400 -- loss = 12849.548828125\n",
      "111/400 -- loss = 12588.216796875\n",
      "121/400 -- loss = 12331.48046875\n",
      "131/400 -- loss = 12079.298828125\n",
      "141/400 -- loss = 11831.5390625\n",
      "151/400 -- loss = 11588.16015625\n",
      "161/400 -- loss = 11349.1123046875\n",
      "171/400 -- loss = 11114.30859375\n",
      "181/400 -- loss = 10883.685546875\n",
      "191/400 -- loss = 10657.2001953125\n",
      "201/400 -- loss = 10434.783203125\n",
      "211/400 -- loss = 10216.4345703125\n",
      "221/400 -- loss = 10001.9912109375\n",
      "231/400 -- loss = 9791.505859375\n",
      "241/400 -- loss = 9584.8779296875\n",
      "251/400 -- loss = 9382.0625\n",
      "261/400 -- loss = 9182.978515625\n",
      "271/400 -- loss = 8987.6572265625\n",
      "281/400 -- loss = 8795.9326171875\n",
      "291/400 -- loss = 8607.802734375\n",
      "301/400 -- loss = 8423.2744140625\n",
      "311/400 -- loss = 8242.2275390625\n",
      "321/400 -- loss = 8064.64013671875\n",
      "331/400 -- loss = 7890.46923828125\n",
      "341/400 -- loss = 7719.666015625\n",
      "351/400 -- loss = 7552.1572265625\n",
      "361/400 -- loss = 7387.94384765625\n",
      "371/400 -- loss = 7226.919921875\n",
      "381/400 -- loss = 7069.1025390625\n",
      "391/400 -- loss = 6914.40966796875\n"
     ]
    },
    {
     "name": "stderr",
     "output_type": "stream",
     "text": [
      " 74%|███████▎  | 14/19 [03:40<01:16, 15.36s/it]"
     ]
    },
    {
     "name": "stdout",
     "output_type": "stream",
     "text": [
      "400/400 -- loss = 6777.83447265625\n",
      "1/400 -- loss = 158574.0\n",
      "11/400 -- loss = 155506.9375\n",
      "21/400 -- loss = 152474.625\n",
      "31/400 -- loss = 149481.671875\n",
      "41/400 -- loss = 146531.6875\n",
      "51/400 -- loss = 143626.09375\n",
      "61/400 -- loss = 140765.296875\n",
      "71/400 -- loss = 137949.25\n",
      "81/400 -- loss = 135177.71875\n",
      "91/400 -- loss = 132450.34375\n",
      "101/400 -- loss = 129766.734375\n",
      "111/400 -- loss = 127126.453125\n",
      "121/400 -- loss = 124529.09375\n",
      "131/400 -- loss = 121974.1953125\n",
      "141/400 -- loss = 119461.296875\n",
      "151/400 -- loss = 116989.96875\n",
      "161/400 -- loss = 114559.7734375\n",
      "171/400 -- loss = 112170.2578125\n",
      "181/400 -- loss = 109820.984375\n",
      "191/400 -- loss = 107511.4921875\n",
      "201/400 -- loss = 105241.3515625\n",
      "211/400 -- loss = 103010.1484375\n",
      "221/400 -- loss = 100817.390625\n",
      "231/400 -- loss = 98662.6875\n",
      "241/400 -- loss = 96545.5703125\n",
      "251/400 -- loss = 94465.625\n",
      "261/400 -- loss = 92422.4140625\n",
      "271/400 -- loss = 90415.4921875\n",
      "281/400 -- loss = 88444.4296875\n",
      "291/400 -- loss = 86508.828125\n",
      "301/400 -- loss = 84608.2421875\n",
      "311/400 -- loss = 82742.2421875\n",
      "321/400 -- loss = 80910.421875\n",
      "331/400 -- loss = 79112.34375\n",
      "341/400 -- loss = 77347.609375\n",
      "351/400 -- loss = 75615.7890625\n",
      "361/400 -- loss = 73916.46875\n",
      "371/400 -- loss = 72249.2578125\n",
      "381/400 -- loss = 70613.7265625\n",
      "391/400 -- loss = 69009.4609375\n"
     ]
    },
    {
     "name": "stderr",
     "output_type": "stream",
     "text": [
      " 79%|███████▉  | 15/19 [03:55<01:01, 15.30s/it]"
     ]
    },
    {
     "name": "stdout",
     "output_type": "stream",
     "text": [
      "400/400 -- loss = 67592.03125\n",
      "1/400 -- loss = 174838.0\n",
      "11/400 -- loss = 171481.15625\n",
      "21/400 -- loss = 168162.234375\n",
      "31/400 -- loss = 164886.109375\n",
      "41/400 -- loss = 161656.546875\n",
      "51/400 -- loss = 158474.953125\n",
      "61/400 -- loss = 155341.921875\n",
      "71/400 -- loss = 152257.484375\n",
      "81/400 -- loss = 149221.390625\n",
      "91/400 -- loss = 146233.28125\n",
      "101/400 -- loss = 143292.75\n",
      "111/400 -- loss = 140399.359375\n",
      "121/400 -- loss = 137552.625\n",
      "131/400 -- loss = 134752.046875\n",
      "141/400 -- loss = 131997.234375\n",
      "151/400 -- loss = 129287.65625\n",
      "161/400 -- loss = 126622.890625\n",
      "171/400 -- loss = 124002.4296875\n",
      "181/400 -- loss = 121425.8125\n",
      "191/400 -- loss = 118892.5703125\n",
      "201/400 -- loss = 116402.2421875\n",
      "211/400 -- loss = 113954.328125\n",
      "221/400 -- loss = 111548.390625\n",
      "231/400 -- loss = 109183.96875\n",
      "241/400 -- loss = 106860.5703125\n",
      "251/400 -- loss = 104577.7421875\n",
      "261/400 -- loss = 102335.015625\n",
      "271/400 -- loss = 100131.9453125\n",
      "281/400 -- loss = 97968.0625\n",
      "291/400 -- loss = 95842.921875\n",
      "301/400 -- loss = 93756.03125\n",
      "311/400 -- loss = 91706.953125\n",
      "321/400 -- loss = 89695.25\n",
      "331/400 -- loss = 87720.4609375\n",
      "341/400 -- loss = 85782.140625\n",
      "351/400 -- loss = 83879.828125\n",
      "361/400 -- loss = 82013.1015625\n",
      "371/400 -- loss = 80181.484375\n",
      "381/400 -- loss = 78384.5625\n",
      "391/400 -- loss = 76621.890625\n"
     ]
    },
    {
     "name": "stderr",
     "output_type": "stream",
     "text": [
      " 84%|████████▍ | 16/19 [04:11<00:45, 15.29s/it]"
     ]
    },
    {
     "name": "stdout",
     "output_type": "stream",
     "text": [
      "400/400 -- loss = 75064.3984375\n",
      "1/400 -- loss = 70780.0\n",
      "11/400 -- loss = 69391.8984375\n",
      "21/400 -- loss = 68020.4375\n",
      "31/400 -- loss = 66667.1875\n",
      "41/400 -- loss = 65331.9375\n",
      "51/400 -- loss = 64015.84375\n",
      "61/400 -- loss = 62719.85546875\n",
      "71/400 -- loss = 61444.25\n",
      "81/400 -- loss = 60188.9609375\n",
      "91/400 -- loss = 58953.87109375\n",
      "101/400 -- loss = 57738.76171875\n",
      "111/400 -- loss = 56543.34765625\n",
      "121/400 -- loss = 55367.41796875\n",
      "131/400 -- loss = 54210.78125\n",
      "141/400 -- loss = 53073.16796875\n",
      "151/400 -- loss = 51954.37890625\n",
      "161/400 -- loss = 50854.2734375\n",
      "171/400 -- loss = 49772.578125\n",
      "181/400 -- loss = 48709.12890625\n",
      "191/400 -- loss = 47663.70703125\n",
      "201/400 -- loss = 46636.11328125\n",
      "211/400 -- loss = 45626.15234375\n",
      "221/400 -- loss = 44633.60546875\n",
      "231/400 -- loss = 43658.30078125\n",
      "241/400 -- loss = 42700.0390625\n",
      "251/400 -- loss = 41758.62109375\n",
      "261/400 -- loss = 40833.8203125\n",
      "271/400 -- loss = 39925.45703125\n",
      "281/400 -- loss = 39033.35546875\n",
      "291/400 -- loss = 38157.3046875\n",
      "301/400 -- loss = 37297.11328125\n",
      "311/400 -- loss = 36452.6015625\n",
      "321/400 -- loss = 35623.5390625\n",
      "331/400 -- loss = 34809.76953125\n",
      "341/400 -- loss = 34011.1171875\n",
      "351/400 -- loss = 33227.3515625\n",
      "361/400 -- loss = 32458.333984375\n",
      "371/400 -- loss = 31703.826171875\n",
      "381/400 -- loss = 30963.6640625\n",
      "391/400 -- loss = 30237.69921875\n"
     ]
    },
    {
     "name": "stderr",
     "output_type": "stream",
     "text": [
      " 89%|████████▉ | 17/19 [04:26<00:30, 15.24s/it]"
     ]
    },
    {
     "name": "stdout",
     "output_type": "stream",
     "text": [
      "400/400 -- loss = 29596.275390625\n",
      "1/400 -- loss = 32409.0\n",
      "11/400 -- loss = 31774.984375\n",
      "21/400 -- loss = 31148.701171875\n",
      "31/400 -- loss = 30530.177734375\n",
      "41/400 -- loss = 29920.939453125\n",
      "51/400 -- loss = 29321.287109375\n",
      "61/400 -- loss = 28730.58984375\n",
      "71/400 -- loss = 28148.91796875\n",
      "81/400 -- loss = 27576.05078125\n",
      "91/400 -- loss = 27012.7265625\n",
      "101/400 -- loss = 26459.115234375\n",
      "111/400 -- loss = 25915.041015625\n",
      "121/400 -- loss = 25380.30078125\n",
      "131/400 -- loss = 24854.681640625\n",
      "141/400 -- loss = 24338.087890625\n",
      "151/400 -- loss = 23830.412109375\n",
      "161/400 -- loss = 23331.546875\n",
      "171/400 -- loss = 22841.337890625\n",
      "181/400 -- loss = 22359.71484375\n",
      "191/400 -- loss = 21886.53125\n",
      "201/400 -- loss = 21421.689453125\n",
      "211/400 -- loss = 20965.1171875\n",
      "221/400 -- loss = 20516.705078125\n",
      "231/400 -- loss = 20076.326171875\n",
      "241/400 -- loss = 19643.892578125\n",
      "251/400 -- loss = 19219.296875\n",
      "261/400 -- loss = 18802.45703125\n",
      "271/400 -- loss = 18393.271484375\n",
      "281/400 -- loss = 17991.60546875\n",
      "291/400 -- loss = 17597.3671875\n",
      "301/400 -- loss = 17210.482421875\n",
      "311/400 -- loss = 16830.876953125\n",
      "321/400 -- loss = 16458.427734375\n",
      "331/400 -- loss = 16093.015625\n",
      "341/400 -- loss = 15734.595703125\n",
      "351/400 -- loss = 15383.0263671875\n",
      "361/400 -- loss = 15038.2373046875\n",
      "371/400 -- loss = 14700.1123046875\n",
      "381/400 -- loss = 14368.6240234375\n",
      "391/400 -- loss = 14043.6357421875\n"
     ]
    },
    {
     "name": "stderr",
     "output_type": "stream",
     "text": [
      " 95%|█████████▍| 18/19 [04:41<00:15, 15.30s/it]"
     ]
    },
    {
     "name": "stdout",
     "output_type": "stream",
     "text": [
      "400/400 -- loss = 13756.6396484375\n",
      "1/400 -- loss = 7108.0\n",
      "11/400 -- loss = 6988.078125\n",
      "21/400 -- loss = 6869.2529296875\n",
      "31/400 -- loss = 6753.07177734375\n",
      "41/400 -- loss = 6641.2666015625\n",
      "51/400 -- loss = 6534.30419921875\n",
      "61/400 -- loss = 6432.03515625\n",
      "71/400 -- loss = 6333.37548828125\n",
      "81/400 -- loss = 6238.728515625\n",
      "91/400 -- loss = 6148.185546875\n",
      "101/400 -- loss = 6061.544921875\n",
      "111/400 -- loss = 5978.66552734375\n",
      "121/400 -- loss = 5899.48388671875\n",
      "131/400 -- loss = 5823.98388671875\n",
      "141/400 -- loss = 5751.904296875\n",
      "151/400 -- loss = 5683.04248046875\n",
      "161/400 -- loss = 5617.17431640625\n",
      "171/400 -- loss = 5554.21923828125\n",
      "181/400 -- loss = 5494.00390625\n",
      "191/400 -- loss = 5436.4013671875\n",
      "201/400 -- loss = 5381.263671875\n",
      "211/400 -- loss = 5328.50048828125\n",
      "221/400 -- loss = 5278.01123046875\n",
      "231/400 -- loss = 5229.65966796875\n",
      "241/400 -- loss = 5183.36865234375\n",
      "251/400 -- loss = 5139.0302734375\n",
      "261/400 -- loss = 5096.5654296875\n",
      "271/400 -- loss = 5055.88720703125\n",
      "281/400 -- loss = 5016.896484375\n",
      "291/400 -- loss = 4979.5458984375\n",
      "301/400 -- loss = 4943.70458984375\n",
      "311/400 -- loss = 4909.388671875\n",
      "321/400 -- loss = 4876.49853515625\n",
      "331/400 -- loss = 4844.921875\n",
      "341/400 -- loss = 4814.66357421875\n",
      "351/400 -- loss = 4785.67138671875\n",
      "361/400 -- loss = 4757.82275390625\n",
      "371/400 -- loss = 4731.09326171875\n",
      "381/400 -- loss = 4705.484375\n",
      "391/400 -- loss = 4680.89599609375\n"
     ]
    },
    {
     "name": "stderr",
     "output_type": "stream",
     "text": [
      "100%|██████████| 19/19 [04:59<00:00, 15.76s/it]"
     ]
    },
    {
     "name": "stdout",
     "output_type": "stream",
     "text": [
      "400/400 -- loss = 4659.61669921875\n"
     ]
    },
    {
     "name": "stderr",
     "output_type": "stream",
     "text": [
      "\n"
     ]
    }
   ],
   "source": [
    "# super resolution parameters\n",
    "learning_rate = 1e-3\n",
    "lambda_eng = 0.0001 * NUM_AUG\n",
    "lambda_tv = 0.002 * NUM_AUG\n",
    "num_iter = 400\n",
    "\n",
    "superresolution = Superresolution(\n",
    "    lambda_tv=lambda_tv,\n",
    "    lambda_eng=lambda_eng,\n",
    "    num_iter=num_iter,\n",
    "    num_aug=NUM_AUG,\n",
    "    learning_rate=learning_rate\n",
    ")\n",
    "\n",
    "precomputed_root_dir = os.path.join(DATA_DIR, \"precomputed_features\")\n",
    "output_folder = os.path.join(DATA_DIR, \"superres_output\")\n",
    "\n",
    "superres_masks_dict, losses = compute_save_final_output(superresolution, valid_filenames, precomputed_root_dir, output_folder, num_aug=NUM_AUG)"
   ],
   "metadata": {
    "collapsed": false,
    "pycharm": {
     "name": "#%%\n"
    }
   }
  },
  {
   "cell_type": "markdown",
   "source": [
    "# Evaluation"
   ],
   "metadata": {
    "collapsed": false,
    "pycharm": {
     "name": "#%% md\n"
    }
   }
  },
  {
   "cell_type": "code",
   "execution_count": 13,
   "outputs": [],
   "source": [
    "def Mean_IOU(y_true, y_pred):\n",
    "    nb_classes = 21  # TODO: set this as a parameter\n",
    "    ious = []\n",
    "    for i in range(0, nb_classes):  # exclude last label (void)\n",
    "        y_true_squeeze = tf.squeeze(y_true)\n",
    "        y_pred_squeeze = tf.squeeze(y_pred)\n",
    "        true_labels = tf.equal(y_true_squeeze, i)\n",
    "        pred_labels = tf.equal(y_pred_squeeze, i)\n",
    "        inter = tf.cast(true_labels & pred_labels, tf.int32)\n",
    "        union = tf.cast(true_labels | pred_labels, tf.int32)\n",
    "\n",
    "        iou = tf.reduce_sum(inter) / tf.reduce_sum(union)\n",
    "        # returns average IoU of the same objects\n",
    "        ious.append(iou)\n",
    "\n",
    "    ious = tf.stack(ious)\n",
    "    legal_labels = ~tf.math.is_nan(ious)\n",
    "    ious = tf.gather(ious, indices=tf.where(legal_labels))\n",
    "    return tf.reduce_mean(ious)\n",
    "\n",
    "\n",
    "def custom_IOU(y_true, y_pred, class_id):\n",
    "    y_true_squeeze = tf.squeeze(y_true)\n",
    "    y_pred_squeeze = tf.squeeze(y_pred)\n",
    "    classes = [0, class_id] # Only check in background and given class\n",
    "\n",
    "    y_true_squeeze = tf.where(y_true_squeeze != class_id, 0, y_true_squeeze)\n",
    "\n",
    "    ious = []\n",
    "    for i in classes:\n",
    "        true_labels = tf.equal(y_true_squeeze, i)\n",
    "        pred_labels = tf.equal(y_pred_squeeze, i)\n",
    "        inter = tf.cast(true_labels & pred_labels, tf.int32)\n",
    "        union = tf.cast(true_labels | pred_labels, tf.int32)\n",
    "\n",
    "        iou = tf.reduce_sum(inter) / tf.reduce_sum(union)\n",
    "        ious.append(iou)\n",
    "\n",
    "    ious = tf.stack(ious)\n",
    "    legal_labels = ~tf.math.is_nan(ious)\n",
    "    ious = tf.gather(ious, indices=tf.where(legal_labels))\n",
    "    return tf.reduce_mean(ious)\n",
    "\n",
    "\n",
    "def evaluate_IOU(true_mask, standard_mask, superres_mask, img_size=(512, 512)):\n",
    "    true_mask = tf.reshape(true_mask, (img_size[0] * img_size[1], 1))\n",
    "    standard_mask = tf.reshape(standard_mask, (img_size[0] * img_size[1], 1))\n",
    "    superres_mask = tf.reshape(superres_mask, (img_size[0] * img_size[1], 1))\n",
    "\n",
    "    # standard_IOU = Mean_IOU(true_mask, standard_mask)\n",
    "    # superres_IOU = Mean_IOU(true_mask, superres_mask)\n",
    "\n",
    "    standard_IOU = custom_IOU(true_mask, standard_mask, class_id=CLASS_ID)\n",
    "    superres_IOU = custom_IOU(true_mask, superres_mask, class_id=CLASS_ID)\n",
    "\n",
    "    return standard_IOU.numpy(), superres_IOU.numpy()\n",
    "\n",
    "def compare_results(image_dict, standard_dict, superres_dict, image_size=(512, 512)):\n",
    "    standard_IOUs = []\n",
    "    superres_IOUs = []\n",
    "\n",
    "    for key in image_dict:\n",
    "        true_mask_path = os.path.join(DATA_DIR, \"VOCdevkit/VOC2012/SegmentationClassAug\", f\"{key}.png\")\n",
    "        true_mask = load_image(true_mask_path, image_size=image_size, normalize=False,\n",
    "                               is_png=True, resize_method=\"nearest\")\n",
    "\n",
    "        standard_mask = standard_dict[key]\n",
    "        superres_image = superres_dict[key]\n",
    "\n",
    "        standard_IOU, superres_IOU = evaluate_IOU(true_mask, standard_mask, superres_image, img_size=image_size)\n",
    "        standard_IOUs.append(standard_IOU)\n",
    "        superres_IOUs.append(superres_IOU)\n",
    "        print(f\"IOUs for image {key} - Standard: {str(standard_IOU)}, Superres: {str(superres_IOU)}\")\n",
    "\n",
    "    return standard_IOUs, superres_IOUs"
   ],
   "metadata": {
    "collapsed": false,
    "pycharm": {
     "name": "#%%\n"
    }
   }
  },
  {
   "cell_type": "code",
   "execution_count": 14,
   "outputs": [
    {
     "name": "stdout",
     "output_type": "stream",
     "text": [
      "IOUs for image 2008_002152 - Standard: 0.9085044608441453, Superres: 0.8785154176785852\n",
      "IOUs for image 2007_008815 - Standard: 0.8569716559605662, Superres: 0.8741334572472753\n",
      "IOUs for image 2008_000345 - Standard: 0.9379868804976746, Superres: 0.9282654059331144\n",
      "IOUs for image 2010_005421 - Standard: 0.8882681156496353, Superres: 0.8795964839128017\n",
      "IOUs for image 2010_002531 - Standard: 0.9380899481960936, Superres: 0.9183538439434562\n",
      "IOUs for image 2010_001351 - Standard: 0.9413018640887326, Superres: 0.9238459305879041\n",
      "IOUs for image 2010_002025 - Standard: 0.9285347152054473, Superres: 0.9152976890914408\n",
      "IOUs for image 2011_000661 - Standard: 0.8515296926500249, Superres: 0.7888941627223187\n",
      "IOUs for image 2009_000080 - Standard: 0.9089036926950496, Superres: 0.8707403819896253\n",
      "IOUs for image 2010_000724 - Standard: 0.7795417381062342, Superres: 0.7452689934024626\n",
      "IOUs for image 2007_009346 - Standard: 0.918779741187651, Superres: 0.9062308822417484\n",
      "IOUs for image 2010_001913 - Standard: 0.8584569419036516, Superres: 0.8507731182668056\n",
      "IOUs for image 2011_001601 - Standard: 0.9407006014680921, Superres: 0.915986019386059\n",
      "IOUs for image 2010_002693 - Standard: 0.8883833362646514, Superres: 0.8657831528197728\n",
      "IOUs for image 2010_004369 - Standard: 0.8856536873972256, Superres: 0.826637008332191\n",
      "IOUs for image 2011_002685 - Standard: 0.6381338670848543, Superres: 0.587708239775402\n",
      "IOUs for image 2010_004104 - Standard: 0.9600671768655475, Superres: 0.954068470921159\n",
      "IOUs for image 2010_003468 - Standard: 0.8913754028538565, Superres: 0.8951427307360816\n",
      "IOUs for image 2008_002623 - Standard: 0.8175911370997948, Superres: 0.782688047268429\n"
     ]
    }
   ],
   "source": [
    "superres_masks_dict_th = {}\n",
    "\n",
    "for key in superres_masks_dict:\n",
    "    sample_th = tf.cast(tf.reduce_max(superres_masks_dict[key]), tf.float32) * 0.15\n",
    "    th_mask = tf.where(superres_masks_dict[key] > sample_th, CLASS_ID, 0)\n",
    "    superres_masks_dict_th[key] = th_mask\n",
    "\n",
    "standard_IOUs, superres_IOUs = compare_results(images_dict, standard_masks_dict, superres_masks_dict_th, image_size=IMG_SIZE)"
   ],
   "metadata": {
    "collapsed": false,
    "pycharm": {
     "name": "#%%\n"
    }
   }
  },
  {
   "cell_type": "code",
   "execution_count": 15,
   "outputs": [
    {
     "data": {
      "text/plain": "0.8809881397904697"
     },
     "execution_count": 15,
     "metadata": {},
     "output_type": "execute_result"
    }
   ],
   "source": [
    "np.mean(standard_IOUs)"
   ],
   "metadata": {
    "collapsed": false,
    "pycharm": {
     "name": "#%%\n"
    }
   }
  },
  {
   "cell_type": "code",
   "execution_count": 16,
   "outputs": [
    {
     "data": {
      "text/plain": "0.8583120755924544"
     },
     "execution_count": 16,
     "metadata": {},
     "output_type": "execute_result"
    }
   ],
   "source": [
    "np.mean(superres_IOUs)"
   ],
   "metadata": {
    "collapsed": false,
    "pycharm": {
     "name": "#%%\n"
    }
   }
  },
  {
   "cell_type": "markdown",
   "source": [
    "# Tests"
   ],
   "metadata": {
    "collapsed": false,
    "pycharm": {
     "name": "#%% md\n"
    }
   }
  },
  {
   "cell_type": "code",
   "execution_count": null,
   "outputs": [],
   "source": [
    "def plot_standard_superres(input_image, standard_mask, superres_mask):\n",
    "    plt.figure(figsize=(18, 18))\n",
    "\n",
    "    plt.subplot(1, 3, 1)\n",
    "    plt.title(\"Input Image\")\n",
    "    plt.imshow(tf.keras.preprocessing.image.array_to_img(input_image))\n",
    "    plt.axis('off')\n",
    "\n",
    "    plt.subplot(1, 3, 2)\n",
    "    plt.title(\"Sandard predicted Mask\")\n",
    "    plt.imshow(tf.keras.preprocessing.image.array_to_img(input_image))\n",
    "    plt.imshow(tf.keras.preprocessing.image.array_to_img(standard_mask), alpha=0.5)\n",
    "    plt.axis('off')\n",
    "\n",
    "    plt.subplot(1, 3, 3)\n",
    "    plt.title(\"Superresolution Mask\")\n",
    "    plt.imshow(tf.keras.preprocessing.image.array_to_img(input_image))\n",
    "    plt.imshow(tf.keras.preprocessing.image.array_to_img(superres_mask), alpha=0.5)\n",
    "    plt.axis('off')\n",
    "\n",
    "    plt.show()\n",
    "\n",
    "\n",
    "def plot_histogram(image):\n",
    "    plt.figure(figsize=(18, 18))\n",
    "    vals = image.flatten()\n",
    "    b, bins, patches = plt.hist(vals, 255)\n",
    "    plt.show()\n",
    "\n",
    "\n",
    "def print_labels(masks):\n",
    "    title = [\"Standard Labels: \", \"Superres Labels: \"]\n",
    "    for i in range(2):\n",
    "        values, count = np.unique(masks[i], return_counts=True)\n",
    "        print(title[i] + str(dict(zip(values, count))))"
   ],
   "metadata": {
    "collapsed": false,
    "pycharm": {
     "name": "#%%\n"
    }
   }
  },
  {
   "cell_type": "code",
   "execution_count": null,
   "outputs": [],
   "source": [
    "sample_key = random.choice(valid_filenames)\n",
    "sample_image = images_dict[sample_key]\n",
    "sample_standard = standard_masks_dict[sample_key]\n",
    "sample_superres = superres_masks_dict_th[sample_key]\n",
    "\n",
    "true_mask_path = os.path.join(DATA_DIR, \"VOCdevkit/VOC2012/SegmentationClassAug\", f\"{sample_key}.png\")\n",
    "true_mask = load_image(true_mask_path, image_size=IMG_SIZE, normalize=False, is_png=True, resize_method=\"nearest\")\n",
    "\n",
    "plot_prediction([sample_image, true_mask, sample_standard], only_prediction=False, show_overlay=True)\n",
    "print_labels([true_mask, sample_standard])"
   ],
   "metadata": {
    "collapsed": false,
    "pycharm": {
     "name": "#%%\n"
    }
   }
  },
  {
   "cell_type": "code",
   "execution_count": null,
   "outputs": [],
   "source": [
    "plot_standard_superres(sample_image, sample_standard, sample_superres)"
   ],
   "metadata": {
    "collapsed": false,
    "pycharm": {
     "name": "#%%\n"
    }
   }
  },
  {
   "cell_type": "code",
   "execution_count": null,
   "outputs": [],
   "source": [
    "superres_numpy = sample_superres\n",
    "plot_histogram(superres_numpy)"
   ],
   "metadata": {
    "collapsed": false,
    "pycharm": {
     "name": "#%%\n"
    }
   }
  },
  {
   "cell_type": "code",
   "execution_count": null,
   "outputs": [],
   "source": [
    "sample_th = np.max(superres_numpy) * 0.15\n",
    "th_mask = tf.where(sample_superres > sample_th, sample_superres, 0).numpy()\n",
    "th_mask_class = tf.where(sample_superres > sample_th, CLASS_ID, 0).numpy()"
   ],
   "metadata": {
    "collapsed": false,
    "pycharm": {
     "name": "#%%\n"
    }
   }
  },
  {
   "cell_type": "code",
   "execution_count": null,
   "outputs": [],
   "source": [
    "plot_histogram(th_mask)"
   ],
   "metadata": {
    "collapsed": false,
    "pycharm": {
     "name": "#%%\n"
    }
   }
  },
  {
   "cell_type": "code",
   "execution_count": null,
   "outputs": [],
   "source": [
    "plot_standard_superres(sample_image, sample_standard, sample_superres)\n",
    "plot_standard_superres(sample_image, sample_standard, th_mask_class)"
   ],
   "metadata": {
    "collapsed": false,
    "pycharm": {
     "name": "#%%\n"
    }
   }
  },
  {
   "cell_type": "code",
   "execution_count": null,
   "outputs": [],
   "source": [
    "evaluate_IOU(true_mask, sample_standard, sample_superres)"
   ],
   "metadata": {
    "collapsed": false,
    "pycharm": {
     "name": "#%%\n"
    }
   }
  },
  {
   "cell_type": "code",
   "execution_count": null,
   "outputs": [],
   "source": [
    "np.unique(true_mask)"
   ],
   "metadata": {
    "collapsed": false,
    "pycharm": {
     "name": "#%%\n"
    }
   }
  }
 ],
 "metadata": {
  "kernelspec": {
   "display_name": "Python 3",
   "language": "python",
   "name": "python3"
  },
  "language_info": {
   "codemirror_mode": {
    "name": "ipython",
    "version": 2
   },
   "file_extension": ".py",
   "mimetype": "text/x-python",
   "name": "python",
   "nbconvert_exporter": "python",
   "pygments_lexer": "ipython2",
   "version": "2.7.6"
  }
 },
 "nbformat": 4,
 "nbformat_minor": 0
}