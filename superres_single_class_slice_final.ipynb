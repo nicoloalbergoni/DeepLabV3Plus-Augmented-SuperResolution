{
 "cells": [
  {
   "cell_type": "code",
   "execution_count": 1,
   "outputs": [],
   "source": [
    "# from kaggle_secrets import UserSecretsClient\n",
    "# user_secrets = UserSecretsClient()\n",
    "# TOKEN = user_secrets.get_secret(\"GITHUB_TOKEN\")\n",
    "#\n",
    "# !git clone https://{TOKEN}@github.com/nicoloalbergoni/DeeplabV3Plus-TF2.git\n",
    "# %load_ext tensorboard\n",
    "# %cd ./DeeplabV3Plus-TF2"
   ],
   "metadata": {
    "collapsed": false,
    "pycharm": {
     "name": "#%%\n"
    }
   }
  },
  {
   "cell_type": "code",
   "execution_count": 2,
   "outputs": [],
   "source": [
    "#!python download_and_prepare_voc.py --remove_cmap --download_berkley"
   ],
   "metadata": {
    "collapsed": false,
    "pycharm": {
     "name": "#%%\n"
    }
   }
  },
  {
   "cell_type": "code",
   "execution_count": 3,
   "metadata": {
    "collapsed": true
   },
   "outputs": [],
   "source": [
    "import os\n",
    "import random\n",
    "import h5py\n",
    "import numpy as np\n",
    "import seaborn as sns\n",
    "from tqdm import tqdm\n",
    "import tensorflow as tf\n",
    "from model import DeeplabV3Plus\n",
    "import tensorflow_addons as tfa\n",
    "from matplotlib import pyplot as plt\n",
    "from superresolution import Superresolution\n",
    "from utils import load_image, get_prediction, create_mask, plot_prediction\n",
    "from superres_utils import get_img_paths, filter_by_class, min_max_normalization, plot_image, plot_histogram, list_precomputed_data_paths, check_hdf5_validity"
   ]
  },
  {
   "cell_type": "code",
   "execution_count": 4,
   "outputs": [],
   "source": [
    "BASE_DIR = os.getcwd()\n",
    "DATA_DIR = os.path.join(BASE_DIR, \"data\")\n",
    "PASCAL_ROOT = os.path.join(DATA_DIR, \"VOCdevkit\", \"VOC2012\")\n",
    "IMGS_PATH = os.path.join(PASCAL_ROOT, \"JPEGImages\")\n",
    "\n",
    "SUPERRES_ROOT = os.path.join(DATA_DIR, \"superres_root\")\n",
    "PRECOMPUTED_OUTPUT_DIR = os.path.join(SUPERRES_ROOT, \"precomputed_features\")\n",
    "STANDARD_OUTPUT_DIR = os.path.join(SUPERRES_ROOT, \"standard_output\")\n",
    "SUPERRES_OUTPUT_DIR = os.path.join(SUPERRES_ROOT, \"superres_output\")\n",
    "\n",
    "# SEED = np.random.randint(0, 1000)\n",
    "SEED = 1234\n",
    "IMG_SIZE = (512, 512)\n",
    "BATCH_SIZE = 2\n",
    "BUFFER_SIZE = 1000\n",
    "EPOCHS = 30\n",
    "CLASSES = 21\n",
    "RESHAPE_MASKS = True\n",
    "NUM_AUG = 50\n",
    "CLASS_ID = 8\n",
    "NUM_SAMPLES = 300"
   ],
   "metadata": {
    "collapsed": false,
    "pycharm": {
     "name": "#%%\n"
    }
   }
  },
  {
   "cell_type": "code",
   "execution_count": 5,
   "outputs": [
    {
     "name": "stdout",
     "output_type": "stream",
     "text": [
      "Valid images: 26 (Initial:  300)\n"
     ]
    }
   ],
   "source": [
    "image_list_path = os.path.join(DATA_DIR, \"augmented_file_lists\", \"valaug.txt\")\n",
    "image_paths = get_img_paths(image_list_path, IMGS_PATH)\n",
    "\n",
    "if NUM_SAMPLES is not None:\n",
    "    image_paths = image_paths[:NUM_SAMPLES]\n",
    "\n",
    "images_dict = filter_by_class(image_paths, class_id=CLASS_ID)\n",
    "\n",
    "print(f\"Valid images: {len(images_dict)} (Initial:  {len(image_paths)})\")\n",
    "\n",
    "valid_filenames = list(images_dict.keys())\n",
    "\n",
    "model_no_upsample = DeeplabV3Plus(\n",
    "    input_shape=(512, 512, 3),\n",
    "    classes=21,\n",
    "    OS=16,\n",
    "    last_activation=None,\n",
    "    load_weights=True,\n",
    "    backbone=\"mobilenet\",\n",
    "    alpha=1.).build_model(final_upsample=False)\n",
    "\n",
    "model_standard = DeeplabV3Plus(\n",
    "    input_shape=(512, 512, 3),\n",
    "    classes=21,\n",
    "    OS=16,\n",
    "    last_activation=None,\n",
    "    load_weights=True,\n",
    "    backbone=\"mobilenet\",\n",
    "    alpha=1.).build_model(final_upsample=True)"
   ],
   "metadata": {
    "collapsed": false,
    "pycharm": {
     "name": "#%%\n"
    }
   }
  },
  {
   "cell_type": "markdown",
   "source": [
    "# Compute standard output for comparison"
   ],
   "metadata": {
    "collapsed": false,
    "pycharm": {
     "name": "#%% md\n"
    }
   }
  },
  {
   "cell_type": "code",
   "execution_count": 6,
   "outputs": [],
   "source": [
    "def compute_standard_output(image_dict, model, dest_folder, filter_class_id=None):\n",
    "    standard_masks = {}\n",
    "    if not os.path.exists(dest_folder):\n",
    "        os.makedirs(dest_folder)\n",
    "\n",
    "    for key in tqdm(image_dict):\n",
    "        standard_mask = get_prediction(model, image_dict[key])\n",
    "        if filter_class_id is not None:\n",
    "            standard_mask = tf.where(standard_mask == filter_class_id, standard_mask, 0) # Set to 0 all predictions different from the given class\n",
    "        tf.keras.utils.save_img(f\"{dest_folder}/{key}.png\", standard_mask, scale=False)\n",
    "        standard_masks[key] = standard_mask\n",
    "\n",
    "    return standard_masks"
   ],
   "metadata": {
    "collapsed": false,
    "pycharm": {
     "name": "#%%\n"
    }
   }
  },
  {
   "cell_type": "code",
   "execution_count": 7,
   "outputs": [
    {
     "name": "stderr",
     "output_type": "stream",
     "text": [
      "100%|██████████| 26/26 [00:06<00:00,  4.28it/s]\n"
     ]
    }
   ],
   "source": [
    "standard_masks_dict = compute_standard_output(images_dict, model_standard, dest_folder=STANDARD_OUTPUT_DIR, filter_class_id=CLASS_ID)"
   ],
   "metadata": {
    "collapsed": false,
    "pycharm": {
     "name": "#%%\n"
    }
   }
  },
  {
   "cell_type": "markdown",
   "source": [
    "# Precompute Augmented Output Features"
   ],
   "metadata": {
    "collapsed": false
   }
  },
  {
   "cell_type": "code",
   "execution_count": 8,
   "outputs": [],
   "source": [
    "def create_augmented_copies(image, num_aug, angle_max, shift_max):\n",
    "\n",
    "    batched_images = tf.tile(tf.expand_dims(image, axis=0), [num_aug, 1, 1, 1])  # Size [num_aug, 512, 512, 3]\n",
    "    angles = np.random.uniform(-angle_max, angle_max, num_aug)\n",
    "    shifts = np.random.uniform(-shift_max, shift_max, (num_aug, 2))\n",
    "    # First sample is not augmented\n",
    "    angles[0] = 0\n",
    "    shifts[0] = np.array([0, 0])\n",
    "    angles = angles.astype(\"float32\")\n",
    "    shifts = shifts.astype(\"float32\")\n",
    "\n",
    "    rotated_images = tfa.image.rotate(batched_images, angles, interpolation=\"bilinear\")\n",
    "    translated_images = tfa.image.translate(rotated_images, shifts, interpolation=\"bilinear\")\n",
    "\n",
    "    return translated_images, angles, shifts\n",
    "\n",
    "def compute_augmented_features(image_filenames, model, dest_folder, filter_class_id, mode=\"slice\", num_aug=100, angle_max=0.5, shift_max=30, save_output=False, relu_output=False):\n",
    "\n",
    "    augmented_features = {}\n",
    "\n",
    "    for filename in tqdm(image_filenames):\n",
    "\n",
    "        # Load image\n",
    "        image_path = os.path.join(IMGS_PATH, f\"{filename}.jpg\")\n",
    "        image = load_image(image_path, image_size=IMG_SIZE, normalize=True)\n",
    "\n",
    "        # Create augmented copies\n",
    "        augmented_images, angles, shifts = create_augmented_copies(image, num_aug=num_aug, angle_max=angle_max, shift_max=shift_max)\n",
    "\n",
    "        # Create destination folder\n",
    "        output_folder = os.path.join(dest_folder, filename)\n",
    "        if not os.path.exists(output_folder):\n",
    "            os.makedirs(output_folder)\n",
    "\n",
    "        # Get model prediction for each aumented copy\n",
    "        predictions = model.predict(augmented_images, batch_size=BATCH_SIZE)\n",
    "\n",
    "        class_masks = []\n",
    "        max_masks = []\n",
    "\n",
    "        for i, prediction in enumerate(predictions):\n",
    "\n",
    "            if mode == \"slice\":\n",
    "                class_slice = prediction[:, :, filter_class_id]\n",
    "                class_mask = class_slice[..., np.newaxis]\n",
    "\n",
    "                no_class_prediction = np.delete(prediction, filter_class_id, axis=-1)\n",
    "                max_mask = no_class_prediction.max(axis=-1)\n",
    "                max_mask = max_mask[..., np.newaxis]\n",
    "\n",
    "                # ReLU is only needed when working with slices\n",
    "                if relu_output:\n",
    "                    class_mask = (tf.nn.relu(class_mask)).numpy()\n",
    "                    max_mask = (tf.nn.relu(max_mask)).numpy()\n",
    "\n",
    "                max_masks.append(max_mask)\n",
    "\n",
    "            elif mode == \"argmax\":\n",
    "                class_mask = create_mask(prediction)\n",
    "                # Set to 0 all predictions different from the given class\n",
    "                class_mask = tf.where(class_mask == filter_class_id, class_mask, 0)\n",
    "                class_mask = tf.cast(class_mask, tf.float32) # Necessary for super-resolution operations\n",
    "                class_mask = class_mask.numpy()\n",
    "\n",
    "            class_masks.append(class_mask)\n",
    "\n",
    "            if save_output:\n",
    "                tf.keras.utils.save_img(f\"{output_folder}/{i}_class.png\", class_mask, scale=True)\n",
    "                if mode == \"slice\":\n",
    "                    tf.keras.utils.save_img(f\"{output_folder}/{i}_max.png\", max_mask, scale=True)\n",
    "\n",
    "            # np.save(os.path.join(output_folder, f\"{filename}_angles\"), angles)\n",
    "            # np.save(os.path.join(output_folder, f\"{filename}_shifts\"), shifts)\n",
    "\n",
    "        file = h5py.File(f\"{output_folder}/{filename}.hdf5\", \"w\")\n",
    "        file.create_dataset(\"class_masks\", data=class_masks)\n",
    "\n",
    "        if mode == \"slice\":\n",
    "            file.create_dataset(\"max_masks\", data=max_masks)\n",
    "\n",
    "        file.create_dataset(\"angles\", data=angles)\n",
    "        file.create_dataset(\"shifts\", data=shifts)\n",
    "        file.attrs[\"filename\"] = filename\n",
    "        file.attrs[\"mode\"] = mode\n",
    "\n",
    "        file.close()\n",
    "\n",
    "        augmented_features[filename] = { \"class\": class_masks, \"max\": max_masks }\n",
    "\n",
    "    return augmented_features"
   ],
   "metadata": {
    "collapsed": false,
    "pycharm": {
     "name": "#%%\n"
    }
   }
  },
  {
   "cell_type": "code",
   "execution_count": 9,
   "outputs": [
    {
     "name": "stderr",
     "output_type": "stream",
     "text": [
      "100%|██████████| 26/26 [01:35<00:00,  3.66s/it]\n"
     ]
    }
   ],
   "source": [
    "angle_max = 0.5  # in radians\n",
    "shift_max = 30\n",
    "\n",
    "augmented_features_dict = compute_augmented_features(images_dict, model_no_upsample, mode=\"argmax\", dest_folder=PRECOMPUTED_OUTPUT_DIR, filter_class_id=CLASS_ID, num_aug=NUM_AUG, angle_max=angle_max, shift_max=shift_max, save_output=True, relu_output=False)"
   ],
   "metadata": {
    "collapsed": false,
    "pycharm": {
     "name": "#%%\n"
    }
   }
  },
  {
   "cell_type": "code",
   "execution_count": 10,
   "outputs": [
    {
     "data": {
      "text/plain": "<Figure size 1440x1440 with 1 Axes>",
      "image/png": "[encoded data removed]"
     },
     "metadata": {
      "needs_background": "light"
     },
     "output_type": "display_data"
    }
   ],
   "source": [
    "plot_image(augmented_features_dict[\"2008_002623\"][\"class\"][0])"
   ],
   "metadata": {
    "collapsed": false,
    "pycharm": {
     "name": "#%%\n"
    }
   }
  },
  {
   "cell_type": "markdown",
   "source": [
    "# Compute Super-Resolution Output"
   ],
   "metadata": {
    "collapsed": false,
    "pycharm": {
     "name": "#%% md\n"
    }
   }
  },
  {
   "cell_type": "code",
   "execution_count": 11,
   "outputs": [],
   "source": [
    "def compute_superresolution_output(precomputed_data_paths, superresolution_obj, dest_folder, mode=\"slice\", num_aug=100, global_normalize=True, save_output=False):\n",
    "\n",
    "    superres_masks = {}\n",
    "    losses = {}\n",
    "\n",
    "    if not os.path.exists(dest_folder):\n",
    "        os.makedirs(dest_folder)\n",
    "\n",
    "    for file_path in tqdm(precomputed_data_paths):\n",
    "\n",
    "        file = h5py.File(f\"{file_path}\", \"r\")\n",
    "\n",
    "        if not check_hdf5_validity(file, num_aug=num_aug):\n",
    "            print(f\"File: {file_path} is invalid, skipping...\")\n",
    "            file.close()\n",
    "            continue\n",
    "\n",
    "\n",
    "        filename = file.attrs[\"filename\"]\n",
    "        angles = file[\"angles\"][:]\n",
    "        shifts = file[\"shifts\"][:]\n",
    "\n",
    "        class_masks = file[\"class_masks\"][:]\n",
    "        class_masks = tf.stack(class_masks)\n",
    "\n",
    "        if mode == \"slice\":\n",
    "            max_masks = file[\"max_masks\"][:]\n",
    "            max_masks = tf.stack(max_masks)\n",
    "\n",
    "        file.close()\n",
    "\n",
    "        global_min = tf.reduce_min(class_masks) if global_normalize else None\n",
    "        global_max = tf.reduce_max(class_masks) if global_normalize else None\n",
    "\n",
    "        class_masks = tf.map_fn(fn=lambda image: min_max_normalization(image.numpy(), new_min=0.0, new_max=1.0, global_min=global_min, global_max=global_max), elems=class_masks)\n",
    "\n",
    "        target_image_class, class_loss = superresolution_obj.compute_output(class_masks, angles, shifts)\n",
    "        target_image_class = (target_image_class[0]).numpy()\n",
    "        print(f\"Final class loss for image {filename}: {class_loss}\")\n",
    "\n",
    "        if mode == \"slice\":\n",
    "\n",
    "            global_min = tf.reduce_min(max_masks) if global_normalize else None\n",
    "            global_max = tf.reduce_max(max_masks) if global_normalize else None\n",
    "\n",
    "            max_masks = tf.map_fn(fn=lambda image: min_max_normalization(image.numpy(), new_min=0.0, new_max=1.0, global_min=global_min, global_max=global_max), elems=max_masks)\n",
    "\n",
    "\n",
    "            target_image_max, max_loss = superresolution_obj.compute_output(max_masks, angles, shifts)\n",
    "            target_image_max = (target_image_max[0]).numpy()\n",
    "            print(f\"Final max loss for image {filename}: {max_loss}\")\n",
    "\n",
    "\n",
    "        if save_output:\n",
    "            tf.keras.utils.save_img(f\"{dest_folder}/{filename}_class.png\", target_image_class, scale=True)\n",
    "            if mode == \"slice\":\n",
    "                tf.keras.utils.save_img(f\"{dest_folder}/{filename}_max.png\", target_image_max, scale=True)\n",
    "\n",
    "\n",
    "        superres_masks[filename] = { \"class\": target_image_class, \"max\": target_image_max } if mode == \"slice\" else target_image_class\n",
    "\n",
    "    return superres_masks, losses\n",
    "\n"
   ],
   "metadata": {
    "collapsed": false,
    "pycharm": {
     "name": "#%%\n"
    }
   }
  },
  {
   "cell_type": "code",
   "execution_count": 12,
   "outputs": [
    {
     "name": "stderr",
     "output_type": "stream",
     "text": [
      "  4%|▍         | 1/26 [00:16<06:45, 16.20s/it]"
     ]
    },
    {
     "name": "stdout",
     "output_type": "stream",
     "text": [
      "Final class loss for image 2007_008815: 11004.8505859375\n"
     ]
    },
    {
     "name": "stderr",
     "output_type": "stream",
     "text": [
      "  8%|▊         | 2/26 [00:30<06:08, 15.36s/it]"
     ]
    },
    {
     "name": "stdout",
     "output_type": "stream",
     "text": [
      "Final class loss for image 2007_009346: 14472.798828125\n"
     ]
    },
    {
     "name": "stderr",
     "output_type": "stream",
     "text": [
      " 12%|█▏        | 3/26 [00:45<05:46, 15.08s/it]"
     ]
    },
    {
     "name": "stdout",
     "output_type": "stream",
     "text": [
      "Final class loss for image 2008_000345: 18236.6953125\n"
     ]
    },
    {
     "name": "stderr",
     "output_type": "stream",
     "text": [
      " 15%|█▌        | 4/26 [01:00<05:28, 14.95s/it]"
     ]
    },
    {
     "name": "stdout",
     "output_type": "stream",
     "text": [
      "Final class loss for image 2008_002152: 17529.697265625\n"
     ]
    },
    {
     "name": "stderr",
     "output_type": "stream",
     "text": [
      " 19%|█▉        | 5/26 [01:15<05:12, 14.87s/it]"
     ]
    },
    {
     "name": "stdout",
     "output_type": "stream",
     "text": [
      "Final class loss for image 2008_002623: 3052.822998046875\n"
     ]
    },
    {
     "name": "stderr",
     "output_type": "stream",
     "text": [
      " 23%|██▎       | 6/26 [01:29<04:56, 14.82s/it]"
     ]
    },
    {
     "name": "stdout",
     "output_type": "stream",
     "text": [
      "Final class loss for image 2008_006341: 1277.846923828125\n"
     ]
    },
    {
     "name": "stderr",
     "output_type": "stream",
     "text": [
      " 27%|██▋       | 7/26 [01:44<04:41, 14.81s/it]"
     ]
    },
    {
     "name": "stdout",
     "output_type": "stream",
     "text": [
      "Final class loss for image 2008_007548: 11861.662109375\n"
     ]
    },
    {
     "name": "stderr",
     "output_type": "stream",
     "text": [
      " 31%|███       | 8/26 [01:59<04:26, 14.81s/it]"
     ]
    },
    {
     "name": "stdout",
     "output_type": "stream",
     "text": [
      "Final class loss for image 2009_000080: 10357.5810546875\n"
     ]
    },
    {
     "name": "stderr",
     "output_type": "stream",
     "text": [
      " 35%|███▍      | 9/26 [02:14<04:11, 14.78s/it]"
     ]
    },
    {
     "name": "stdout",
     "output_type": "stream",
     "text": [
      "Final class loss for image 2009_000716: 22557.89453125\n"
     ]
    },
    {
     "name": "stderr",
     "output_type": "stream",
     "text": [
      " 38%|███▊      | 10/26 [02:29<03:56, 14.80s/it]"
     ]
    },
    {
     "name": "stdout",
     "output_type": "stream",
     "text": [
      "Final class loss for image 2010_000724: 7334.3779296875\n"
     ]
    },
    {
     "name": "stderr",
     "output_type": "stream",
     "text": [
      " 42%|████▏     | 11/26 [02:44<03:42, 14.86s/it]"
     ]
    },
    {
     "name": "stdout",
     "output_type": "stream",
     "text": [
      "Final class loss for image 2010_001351: 16226.5\n"
     ]
    },
    {
     "name": "stderr",
     "output_type": "stream",
     "text": [
      " 46%|████▌     | 12/26 [02:59<03:29, 14.99s/it]"
     ]
    },
    {
     "name": "stdout",
     "output_type": "stream",
     "text": [
      "Final class loss for image 2010_001913: 3994.928955078125\n"
     ]
    },
    {
     "name": "stderr",
     "output_type": "stream",
     "text": [
      " 50%|█████     | 13/26 [03:14<03:14, 14.93s/it]"
     ]
    },
    {
     "name": "stdout",
     "output_type": "stream",
     "text": [
      "Final class loss for image 2010_002025: 34397.22265625\n"
     ]
    },
    {
     "name": "stderr",
     "output_type": "stream",
     "text": [
      " 54%|█████▍    | 14/26 [03:28<02:58, 14.89s/it]"
     ]
    },
    {
     "name": "stdout",
     "output_type": "stream",
     "text": [
      "Final class loss for image 2010_002531: 17026.296875\n"
     ]
    },
    {
     "name": "stderr",
     "output_type": "stream",
     "text": [
      " 58%|█████▊    | 15/26 [03:43<02:43, 14.87s/it]"
     ]
    },
    {
     "name": "stdout",
     "output_type": "stream",
     "text": [
      "Final class loss for image 2010_002693: 6810.67431640625\n"
     ]
    },
    {
     "name": "stderr",
     "output_type": "stream",
     "text": [
      " 62%|██████▏   | 16/26 [03:58<02:28, 14.85s/it]"
     ]
    },
    {
     "name": "stdout",
     "output_type": "stream",
     "text": [
      "Final class loss for image 2010_003468: 13783.80078125\n"
     ]
    },
    {
     "name": "stderr",
     "output_type": "stream",
     "text": [
      " 65%|██████▌   | 17/26 [04:13<02:13, 14.83s/it]"
     ]
    },
    {
     "name": "stdout",
     "output_type": "stream",
     "text": [
      "Final class loss for image 2010_003675: 25826.283203125\n"
     ]
    },
    {
     "name": "stderr",
     "output_type": "stream",
     "text": [
      " 69%|██████▉   | 18/26 [04:28<01:58, 14.80s/it]"
     ]
    },
    {
     "name": "stdout",
     "output_type": "stream",
     "text": [
      "Final class loss for image 2010_004104: 29502.79296875\n"
     ]
    },
    {
     "name": "stderr",
     "output_type": "stream",
     "text": [
      " 73%|███████▎  | 19/26 [04:42<01:43, 14.82s/it]"
     ]
    },
    {
     "name": "stdout",
     "output_type": "stream",
     "text": [
      "Final class loss for image 2010_004369: 66605.7109375\n"
     ]
    },
    {
     "name": "stderr",
     "output_type": "stream",
     "text": [
      " 77%|███████▋  | 20/26 [04:57<01:28, 14.79s/it]"
     ]
    },
    {
     "name": "stdout",
     "output_type": "stream",
     "text": [
      "Final class loss for image 2010_005421: 5958.68603515625\n"
     ]
    },
    {
     "name": "stderr",
     "output_type": "stream",
     "text": [
      " 81%|████████  | 21/26 [05:12<01:13, 14.79s/it]"
     ]
    },
    {
     "name": "stdout",
     "output_type": "stream",
     "text": [
      "Final class loss for image 2010_005606: 9898.9091796875\n"
     ]
    },
    {
     "name": "stderr",
     "output_type": "stream",
     "text": [
      " 85%|████████▍ | 22/26 [05:27<00:59, 14.80s/it]"
     ]
    },
    {
     "name": "stdout",
     "output_type": "stream",
     "text": [
      "Final class loss for image 2010_005709: 285.1997375488281\n"
     ]
    },
    {
     "name": "stderr",
     "output_type": "stream",
     "text": [
      " 88%|████████▊ | 23/26 [05:42<00:44, 14.80s/it]"
     ]
    },
    {
     "name": "stdout",
     "output_type": "stream",
     "text": [
      "Final class loss for image 2011_000661: 16021.78515625\n"
     ]
    },
    {
     "name": "stderr",
     "output_type": "stream",
     "text": [
      " 92%|█████████▏| 24/26 [05:56<00:29, 14.80s/it]"
     ]
    },
    {
     "name": "stdout",
     "output_type": "stream",
     "text": [
      "Final class loss for image 2011_001292: 35945.24609375\n"
     ]
    },
    {
     "name": "stderr",
     "output_type": "stream",
     "text": [
      " 96%|█████████▌| 25/26 [06:11<00:14, 14.80s/it]"
     ]
    },
    {
     "name": "stdout",
     "output_type": "stream",
     "text": [
      "Final class loss for image 2011_001601: 19112.380859375\n"
     ]
    },
    {
     "name": "stderr",
     "output_type": "stream",
     "text": [
      "100%|██████████| 26/26 [06:26<00:00, 14.87s/it]"
     ]
    },
    {
     "name": "stdout",
     "output_type": "stream",
     "text": [
      "Final class loss for image 2011_002685: 75619.0\n"
     ]
    },
    {
     "name": "stderr",
     "output_type": "stream",
     "text": [
      "\n"
     ]
    }
   ],
   "source": [
    "# super resolution parameters\n",
    "learning_rate = 1e-3\n",
    "lambda_eng = 0.0001 * NUM_AUG\n",
    "lambda_tv = 0.002 * NUM_AUG\n",
    "num_iter = 400\n",
    "\n",
    "superresolution = Superresolution(\n",
    "    lambda_tv=lambda_tv,\n",
    "    lambda_eng=lambda_eng,\n",
    "    num_iter=num_iter,\n",
    "    num_aug=NUM_AUG,\n",
    "    learning_rate=learning_rate,\n",
    "    verbose=False\n",
    ")\n",
    "\n",
    "precomputed_data_paths = list_precomputed_data_paths(PRECOMPUTED_OUTPUT_DIR)\n",
    "\n",
    "superres_masks_dict, losses = compute_superresolution_output(precomputed_data_paths, superresolution, mode=\"argmax\", dest_folder=SUPERRES_OUTPUT_DIR, num_aug=NUM_AUG, global_normalize=False, save_output=True)"
   ],
   "metadata": {
    "collapsed": false,
    "pycharm": {
     "name": "#%%\n"
    }
   }
  },
  {
   "cell_type": "code",
   "execution_count": 45,
   "outputs": [],
   "source": [
    "superres_masks_dict_th = {}\n",
    "\n",
    "for key in superres_masks_dict:\n",
    "    target_dict = superres_masks_dict[key]\n",
    "    th_mask = tf.where(target_dict[\"class\"] >= target_dict[\"max\"], CLASS_ID, 0)\n",
    "    superres_masks_dict_th[key] = th_mask.numpy()"
   ],
   "metadata": {
    "collapsed": false,
    "pycharm": {
     "name": "#%%\n"
    }
   }
  },
  {
   "cell_type": "markdown",
   "source": [],
   "metadata": {
    "collapsed": false
   }
  },
  {
   "cell_type": "code",
   "execution_count": 13,
   "outputs": [],
   "source": [
    "superres_masks_dict_th = {}\n",
    "\n",
    "for key in superres_masks_dict:\n",
    "    sample_th = tf.cast(tf.reduce_max(superres_masks_dict[key]), tf.float32) * 0.15\n",
    "    th_mask = tf.where(superres_masks_dict[key] > sample_th, CLASS_ID, 0)\n",
    "    superres_masks_dict_th[key] = th_mask"
   ],
   "metadata": {
    "collapsed": false,
    "pycharm": {
     "name": "#%%\n"
    }
   }
  },
  {
   "cell_type": "markdown",
   "source": [
    "# Evaluation"
   ],
   "metadata": {
    "collapsed": false,
    "pycharm": {
     "name": "#%% md\n"
    }
   }
  },
  {
   "cell_type": "code",
   "execution_count": 14,
   "outputs": [],
   "source": [
    "def custom_IOU(y_true, y_pred, class_id):\n",
    "    y_true_squeeze = tf.squeeze(y_true)\n",
    "    y_pred_squeeze = tf.squeeze(y_pred)\n",
    "    classes = [0, class_id] # Only check in background and given class\n",
    "\n",
    "    y_true_squeeze = tf.where(y_true_squeeze != class_id, 0, y_true_squeeze)\n",
    "\n",
    "    ious = []\n",
    "    for i in classes:\n",
    "        true_labels = tf.equal(y_true_squeeze, i)\n",
    "        pred_labels = tf.equal(y_pred_squeeze, i)\n",
    "        inter = tf.cast(true_labels & pred_labels, tf.int32)\n",
    "        union = tf.cast(true_labels | pred_labels, tf.int32)\n",
    "\n",
    "        iou = tf.reduce_sum(inter) / tf.reduce_sum(union)\n",
    "        ious.append(iou)\n",
    "\n",
    "    ious = tf.stack(ious)\n",
    "    legal_labels = ~tf.math.is_nan(ious)\n",
    "    ious = tf.gather(ious, indices=tf.where(legal_labels))\n",
    "    return tf.reduce_mean(ious)\n",
    "\n",
    "\n",
    "def evaluate_IOU(true_mask, standard_mask, superres_mask, img_size=(512, 512)):\n",
    "    true_mask = tf.reshape(true_mask, (img_size[0] * img_size[1], 1))\n",
    "    standard_mask = tf.reshape(standard_mask, (img_size[0] * img_size[1], 1))\n",
    "    superres_mask = tf.reshape(superres_mask, (img_size[0] * img_size[1], 1))\n",
    "\n",
    "    # standard_IOU = Mean_IOU(true_mask, standard_mask)\n",
    "    # superres_IOU = Mean_IOU(true_mask, superres_mask)\n",
    "\n",
    "    standard_IOU = custom_IOU(true_mask, standard_mask, class_id=CLASS_ID)\n",
    "    superres_IOU = custom_IOU(true_mask, superres_mask, class_id=CLASS_ID)\n",
    "\n",
    "    return standard_IOU.numpy(), superres_IOU.numpy()\n",
    "\n",
    "def compare_results(image_dict, standard_dict, superres_dict, image_size=(512, 512), verbose=False):\n",
    "    standard_IOUs = []\n",
    "    superres_IOUs = []\n",
    "\n",
    "    for key in image_dict:\n",
    "        true_mask_path = os.path.join(DATA_DIR, \"VOCdevkit/VOC2012/SegmentationClassAug\", f\"{key}.png\")\n",
    "        true_mask = load_image(true_mask_path, image_size=image_size, normalize=False,\n",
    "                               is_png=True, resize_method=\"nearest\")\n",
    "\n",
    "        standard_mask = standard_dict[key]\n",
    "        superres_image = superres_dict[key]\n",
    "\n",
    "        standard_IOU, superres_IOU = evaluate_IOU(true_mask, standard_mask, superres_image, img_size=image_size)\n",
    "        standard_IOUs.append(standard_IOU)\n",
    "        superres_IOUs.append(superres_IOU)\n",
    "\n",
    "        if verbose:\n",
    "            print(f\"IOUs for image {key} - Standard: {str(standard_IOU)}, Superres: {str(superres_IOU)}\")\n",
    "\n",
    "    return standard_IOUs, superres_IOUs"
   ],
   "metadata": {
    "collapsed": false,
    "pycharm": {
     "name": "#%%\n"
    }
   }
  },
  {
   "cell_type": "code",
   "execution_count": 15,
   "outputs": [],
   "source": [
    "standard_IOUs, superres_IOUs = compare_results(images_dict, standard_masks_dict, superres_masks_dict_th, image_size=IMG_SIZE, verbose=False)"
   ],
   "metadata": {
    "collapsed": false,
    "pycharm": {
     "name": "#%%\n"
    }
   }
  },
  {
   "cell_type": "code",
   "execution_count": 16,
   "outputs": [
    {
     "name": "stdout",
     "output_type": "stream",
     "text": [
      "Standard mean IOU: 0.8432970924901599,  Superres mean IOU: 0.8232844974653806\n"
     ]
    }
   ],
   "source": [
    "print(f\"Standard mean IOU: {np.mean(standard_IOUs)},  Superres mean IOU: {np.mean(superres_IOUs)}\")"
   ],
   "metadata": {
    "collapsed": false,
    "pycharm": {
     "name": "#%%\n"
    }
   }
  },
  {
   "cell_type": "markdown",
   "source": [
    "# Tests"
   ],
   "metadata": {
    "collapsed": false,
    "pycharm": {
     "name": "#%% md\n"
    }
   }
  },
  {
   "cell_type": "code",
   "execution_count": null,
   "outputs": [],
   "source": [
    "def plot_standard_superres(input_image, ground_truth, standard_mask, superres_mask):\n",
    "    plt.figure(figsize=(18, 18))\n",
    "\n",
    "    plt.subplot(1, 3, 1)\n",
    "    plt.title(\"Ground Truth\")\n",
    "    plt.imshow(tf.keras.preprocessing.image.array_to_img(input_image))\n",
    "    plt.imshow(tf.keras.preprocessing.image.array_to_img(ground_truth), alpha=0.5)\n",
    "    plt.axis('off')\n",
    "\n",
    "    plt.subplot(1, 3, 2)\n",
    "    plt.title(\"Sandard predicted Mask\")\n",
    "    plt.imshow(tf.keras.preprocessing.image.array_to_img(input_image))\n",
    "    plt.imshow(tf.keras.preprocessing.image.array_to_img(standard_mask), alpha=0.5)\n",
    "    plt.axis('off')\n",
    "\n",
    "    plt.subplot(1, 3, 3)\n",
    "    plt.title(\"Superresolution Mask\")\n",
    "    plt.imshow(tf.keras.preprocessing.image.array_to_img(input_image))\n",
    "    plt.imshow(tf.keras.preprocessing.image.array_to_img(superres_mask), alpha=0.5)\n",
    "    plt.axis('off')\n",
    "\n",
    "\n",
    "    plt.show()"
   ],
   "metadata": {
    "collapsed": false,
    "pycharm": {
     "name": "#%%\n"
    }
   }
  },
  {
   "cell_type": "code",
   "execution_count": null,
   "outputs": [],
   "source": [
    "sample_key = random.choice(valid_filenames)\n",
    "sample_image = images_dict[sample_key]\n",
    "sample_standard = standard_masks_dict[sample_key]\n",
    "sample_superres = superres_masks_dict[sample_key][\"class\"]\n",
    "sample_superres_th = superres_masks_dict_th[sample_key]\n",
    "\n",
    "true_mask_path = os.path.join(DATA_DIR, \"VOCdevkit/VOC2012/SegmentationClassAug\", f\"{sample_key}.png\")\n",
    "true_mask = load_image(true_mask_path, image_size=IMG_SIZE, normalize=False, is_png=True, resize_method=\"nearest\")\n",
    "\n",
    "#plot_prediction([sample_image, true_mask, sample_standard], only_prediction=False, show_overlay=True)\n",
    "#print_labels([true_mask, sample_standard])"
   ],
   "metadata": {
    "collapsed": false,
    "pycharm": {
     "name": "#%%\n"
    }
   }
  },
  {
   "cell_type": "code",
   "execution_count": null,
   "outputs": [],
   "source": [
    "#plot_image(sample_superres_th)"
   ],
   "metadata": {
    "collapsed": false,
    "pycharm": {
     "name": "#%%\n"
    }
   }
  },
  {
   "cell_type": "code",
   "execution_count": null,
   "outputs": [],
   "source": [
    "plot_standard_superres(sample_image, true_mask, sample_standard, sample_superres)\n",
    "plot_standard_superres(sample_image, true_mask, sample_standard, sample_superres_th)\n",
    "evaluate_IOU(true_mask, sample_standard, sample_superres_th)"
   ],
   "metadata": {
    "collapsed": false,
    "pycharm": {
     "name": "#%%\n"
    }
   }
  },
  {
   "cell_type": "code",
   "execution_count": 20,
   "outputs": [
    {
     "ename": "IndexError",
     "evalue": "only integers, slices (`:`), ellipsis (`...`), numpy.newaxis (`None`) and integer or boolean arrays are valid indices",
     "output_type": "error",
     "traceback": [
      "\u001B[1;31m---------------------------------------------------------------------------\u001B[0m",
      "\u001B[1;31mIndexError\u001B[0m                                Traceback (most recent call last)",
      "\u001B[1;32m~\\AppData\\Local\\Temp/ipykernel_5096/1112307316.py\u001B[0m in \u001B[0;36m<module>\u001B[1;34m\u001B[0m\n\u001B[0;32m      6\u001B[0m     \u001B[1;32mfor\u001B[0m \u001B[0mkey\u001B[0m \u001B[1;32min\u001B[0m \u001B[0msuperres_masks_dict\u001B[0m\u001B[1;33m:\u001B[0m\u001B[1;33m\u001B[0m\u001B[1;33m\u001B[0m\u001B[0m\n\u001B[0;32m      7\u001B[0m         \u001B[0mtarget_dict\u001B[0m \u001B[1;33m=\u001B[0m \u001B[0msuperres_masks_dict\u001B[0m\u001B[1;33m[\u001B[0m\u001B[0mkey\u001B[0m\u001B[1;33m]\u001B[0m\u001B[1;33m\u001B[0m\u001B[1;33m\u001B[0m\u001B[0m\n\u001B[1;32m----> 8\u001B[1;33m         \u001B[0mtarget_mask\u001B[0m \u001B[1;33m=\u001B[0m \u001B[0mtarget_dict\u001B[0m\u001B[1;33m[\u001B[0m\u001B[1;34m\"class\"\u001B[0m\u001B[1;33m]\u001B[0m\u001B[1;33m\u001B[0m\u001B[1;33m\u001B[0m\u001B[0m\n\u001B[0m\u001B[0;32m      9\u001B[0m \u001B[1;33m\u001B[0m\u001B[0m\n\u001B[0;32m     10\u001B[0m         \u001B[0mth_mask_value\u001B[0m \u001B[1;33m=\u001B[0m \u001B[0mtf\u001B[0m\u001B[1;33m.\u001B[0m\u001B[0mcast\u001B[0m\u001B[1;33m(\u001B[0m\u001B[0mtf\u001B[0m\u001B[1;33m.\u001B[0m\u001B[0mreduce_max\u001B[0m\u001B[1;33m(\u001B[0m\u001B[0mtarget_mask\u001B[0m\u001B[1;33m)\u001B[0m\u001B[1;33m,\u001B[0m \u001B[0mtf\u001B[0m\u001B[1;33m.\u001B[0m\u001B[0mfloat32\u001B[0m\u001B[1;33m)\u001B[0m \u001B[1;33m*\u001B[0m \u001B[0mth_value\u001B[0m\u001B[1;33m\u001B[0m\u001B[1;33m\u001B[0m\u001B[0m\n",
      "\u001B[1;31mIndexError\u001B[0m: only integers, slices (`:`), ellipsis (`...`), numpy.newaxis (`None`) and integer or boolean arrays are valid indices"
     ]
    }
   ],
   "source": [
    "th_ranges = np.arange(0.50, 1.0, 0.05)\n",
    "results = {}\n",
    "\n",
    "for th_value in th_ranges:\n",
    "    superres_masks_dict_th_test = {}\n",
    "    for key in superres_masks_dict:\n",
    "        target_dict = superres_masks_dict[key]\n",
    "        target_mask = target_dict[\"class\"]\n",
    "\n",
    "        th_mask_value = tf.cast(tf.reduce_max(target_mask), tf.float32) * th_value\n",
    "        th_mask = tf.where(target_mask > th_mask_value, CLASS_ID, 0)\n",
    "        superres_masks_dict_th_test[key] = th_mask.numpy()\n",
    "\n",
    "    standard_IOUs, superres_IOUs = compare_results(images_dict, standard_masks_dict, superres_masks_dict_th_test, image_size=IMG_SIZE, verbose=False)\n",
    "\n",
    "    mean_standard_IOUs = np.mean(standard_IOUs)\n",
    "    mean_superres_IOUs = np.mean(superres_IOUs)\n",
    "    results[th_value] = (mean_standard_IOUs, mean_superres_IOUs)\n",
    "    print(f\"Threshold Value: {th_value} -- Standard mean IOU: {np.mean(standard_IOUs)},  Superres mean IOU: {np.mean(superres_IOUs)}\")"
   ],
   "metadata": {
    "collapsed": false,
    "pycharm": {
     "name": "#%%\n"
    }
   }
  },
  {
   "cell_type": "code",
   "execution_count": null,
   "outputs": [],
   "source": [
    "plot_image(augmented_features_dict[sample_key][\"class\"][0])"
   ],
   "metadata": {
    "collapsed": false,
    "pycharm": {
     "name": "#%%\n"
    }
   }
  },
  {
   "cell_type": "markdown",
   "source": [],
   "metadata": {
    "collapsed": false
   }
  },
  {
   "cell_type": "code",
   "execution_count": null,
   "outputs": [],
   "source": [
    "plt.figure(figsize=(40, 40))\n",
    "ax = sns.heatmap(a[..., -1], annot=True, cbar=False, fmt=\".2f\")"
   ],
   "metadata": {
    "collapsed": false,
    "pycharm": {
     "name": "#%%\n"
    }
   }
  }
 ],
 "metadata": {
  "kernelspec": {
   "display_name": "Python 3",
   "language": "python",
   "name": "python3"
  },
  "language_info": {
   "codemirror_mode": {
    "name": "ipython",
    "version": 2
   },
   "file_extension": ".py",
   "mimetype": "text/x-python",
   "name": "python",
   "nbconvert_exporter": "python",
   "pygments_lexer": "ipython2",
   "version": "2.7.6"
  }
 },
 "nbformat": 4,
 "nbformat_minor": 0
}