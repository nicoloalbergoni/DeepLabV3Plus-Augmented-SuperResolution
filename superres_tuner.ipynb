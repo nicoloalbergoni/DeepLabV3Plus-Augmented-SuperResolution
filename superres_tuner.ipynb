{
 "cells": [
  {
   "cell_type": "code",
   "execution_count": 1,
   "outputs": [],
   "source": [
    "# from kaggle_secrets import UserSecretsClient\n",
    "# user_secrets = UserSecretsClient()\n",
    "# TOKEN = user_secrets.get_secret(\"GITHUB_TOKEN\")\n",
    "#\n",
    "# !git clone -b parameters_search https://{TOKEN}@github.com/nicoloalbergoni/DeeplabV3Plus-TF2.git\n",
    "# %load_ext tensorboard\n",
    "# %cd ./DeeplabV3Plus-TF2"
   ],
   "metadata": {
    "collapsed": false,
    "pycharm": {
     "name": "#%%\n"
    }
   }
  },
  {
   "cell_type": "code",
   "execution_count": 2,
   "outputs": [],
   "source": [
    "#!python download_and_prepare_voc.py --remove_cmap --download_berkley"
   ],
   "metadata": {
    "collapsed": false,
    "pycharm": {
     "name": "#%%\n"
    }
   }
  },
  {
   "cell_type": "code",
   "execution_count": 3,
   "metadata": {
    "collapsed": true
   },
   "outputs": [],
   "source": [
    "import os\n",
    "import random\n",
    "import h5py\n",
    "import numpy as np\n",
    "import seaborn as sns\n",
    "from tqdm import tqdm\n",
    "import tensorflow as tf\n",
    "from model import DeeplabV3Plus\n",
    "import tensorflow_addons as tfa\n",
    "from matplotlib import pyplot as plt\n",
    "from superresolution import Superresolution\n",
    "from utils import load_image, get_prediction, create_mask, plot_prediction\n",
    "from superres_utils import get_img_paths, filter_by_class, min_max_normalization, plot_image, plot_histogram, list_precomputed_data_paths, check_hdf5_validity\n",
    "import keras_tuner as kt"
   ]
  },
  {
   "cell_type": "code",
   "execution_count": 4,
   "outputs": [],
   "source": [
    "BASE_DIR = os.getcwd()\n",
    "DATA_DIR = os.path.join(BASE_DIR, \"data\")\n",
    "PASCAL_ROOT = os.path.join(DATA_DIR, \"VOCdevkit\", \"VOC2012\")\n",
    "IMGS_PATH = os.path.join(PASCAL_ROOT, \"JPEGImages\")\n",
    "\n",
    "SUPERRES_ROOT = os.path.join(DATA_DIR, \"superres_root\")\n",
    "PRECOMPUTED_OUTPUT_DIR = os.path.join(SUPERRES_ROOT, \"precomputed_features\")\n",
    "STANDARD_OUTPUT_DIR = os.path.join(SUPERRES_ROOT, \"standard_output\")\n",
    "SUPERRES_OUTPUT_DIR = os.path.join(SUPERRES_ROOT, \"superres_output\")\n",
    "\n",
    "# SEED = np.random.randint(0, 1000)\n",
    "SEED = 1234\n",
    "IMG_SIZE = (512, 512)\n",
    "BATCH_SIZE = 1\n",
    "BUFFER_SIZE = 1000\n",
    "EPOCHS = 30\n",
    "CLASSES = 21\n",
    "RESHAPE_MASKS = True\n",
    "NUM_AUG = 150\n",
    "CLASS_ID = 8\n",
    "NUM_SAMPLES = 500"
   ],
   "metadata": {
    "collapsed": false,
    "pycharm": {
     "name": "#%%\n"
    }
   }
  },
  {
   "cell_type": "code",
   "execution_count": 5,
   "outputs": [
    {
     "name": "stdout",
     "output_type": "stream",
     "text": [
      "Valid images: 47 (Initial:  500)\n"
     ]
    }
   ],
   "source": [
    "image_list_path = os.path.join(DATA_DIR, \"augmented_file_lists\", \"trainaug.txt\")\n",
    "image_paths = get_img_paths(image_list_path, IMGS_PATH)\n",
    "\n",
    "if NUM_SAMPLES is not None:\n",
    "    image_paths = image_paths[:NUM_SAMPLES]\n",
    "\n",
    "images_dict = filter_by_class(image_paths, class_id=CLASS_ID)\n",
    "\n",
    "print(f\"Valid images: {len(images_dict)} (Initial:  {len(image_paths)})\")\n",
    "\n",
    "valid_filenames = list(images_dict.keys())\n",
    "\n",
    "model_no_upsample = DeeplabV3Plus(\n",
    "    input_shape=(512, 512, 3),\n",
    "    classes=21,\n",
    "    OS=16,\n",
    "    last_activation=None,\n",
    "    load_weights=True,\n",
    "    backbone=\"mobilenet\",\n",
    "    alpha=1.).build_model(final_upsample=False)\n",
    "\n",
    "model_standard = DeeplabV3Plus(\n",
    "    input_shape=(512, 512, 3),\n",
    "    classes=21,\n",
    "    OS=16,\n",
    "    last_activation=None,\n",
    "    load_weights=True,\n",
    "    backbone=\"mobilenet\",\n",
    "    alpha=1.).build_model(final_upsample=True)"
   ],
   "metadata": {
    "collapsed": false,
    "pycharm": {
     "name": "#%%\n"
    }
   }
  },
  {
   "cell_type": "markdown",
   "source": [
    "# Compute standard output for comparison"
   ],
   "metadata": {
    "collapsed": false,
    "pycharm": {
     "name": "#%% md\n"
    }
   }
  },
  {
   "cell_type": "code",
   "execution_count": 6,
   "outputs": [],
   "source": [
    "def compute_standard_output(image_dict, model, dest_folder, filter_class_id=None):\n",
    "    standard_masks = {}\n",
    "    if not os.path.exists(dest_folder):\n",
    "        os.makedirs(dest_folder)\n",
    "\n",
    "    for key in tqdm(image_dict):\n",
    "        standard_mask = get_prediction(model, image_dict[key])\n",
    "        if filter_class_id is not None:\n",
    "            standard_mask = tf.where(standard_mask == filter_class_id, standard_mask, 0) # Set to 0 all predictions different from the given class\n",
    "        tf.keras.utils.save_img(f\"{dest_folder}/{key}.png\", standard_mask, scale=False)\n",
    "        standard_masks[key] = standard_mask\n",
    "\n",
    "    return standard_masks"
   ],
   "metadata": {
    "collapsed": false,
    "pycharm": {
     "name": "#%%\n"
    }
   }
  },
  {
   "cell_type": "code",
   "execution_count": 7,
   "outputs": [
    {
     "name": "stderr",
     "output_type": "stream",
     "text": [
      "100%|██████████| 47/47 [00:22<00:00,  2.10it/s]\n"
     ]
    }
   ],
   "source": [
    "standard_masks_dict = compute_standard_output(images_dict, model_standard, dest_folder=STANDARD_OUTPUT_DIR, filter_class_id=CLASS_ID)"
   ],
   "metadata": {
    "collapsed": false,
    "pycharm": {
     "name": "#%%\n"
    }
   }
  },
  {
   "cell_type": "markdown",
   "source": [
    "# Precompute Augmented Output Features"
   ],
   "metadata": {
    "collapsed": false
   }
  },
  {
   "cell_type": "code",
   "execution_count": 8,
   "outputs": [],
   "source": [
    "def create_augmented_copies(image, num_aug, angle_max, shift_max, chunk_size=20):\n",
    "\n",
    "    if (num_aug % chunk_size) != 0:\n",
    "        raise Exception(\"Num aug must be a multiple of 50\")\n",
    "\n",
    "    num_chunks = num_aug // chunk_size\n",
    "\n",
    "    angles = np.random.uniform(-angle_max, angle_max, num_aug)\n",
    "    shifts = np.random.uniform(-shift_max, shift_max, (num_aug, 2))\n",
    "    angles[0] = 0\n",
    "    shifts[0] = np.array([0, 0])\n",
    "    angles = angles.astype(\"float32\")\n",
    "    shifts = shifts.astype(\"float32\")\n",
    "\n",
    "    angles_chunks = np.split(angles, num_chunks)\n",
    "    shifts_chunks = np.split(shifts, num_chunks)\n",
    "\n",
    "    augmented_chunks = []\n",
    "\n",
    "    for i in range(num_chunks):\n",
    "        images_chunk = tf.tile(tf.expand_dims(image, axis=0), [chunk_size, 1, 1, 1])\n",
    "        rotated_chunk = tfa.image.rotate(images_chunk, angles_chunks[i], interpolation=\"bilinear\")\n",
    "        translated_chunk= tfa.image.translate(rotated_chunk, shifts_chunks[i], interpolation=\"bilinear\")\n",
    "        augmented_chunks.append(translated_chunk.numpy())\n",
    "\n",
    "    #augmented_copies = np.concatenate(augmented_chunks, axis=0)\n",
    "\n",
    "    return augmented_chunks, angles, shifts\n",
    "\n",
    "def compute_augmented_features(image_filenames, model, dest_folder, filter_class_id, mode=\"slice\", num_aug=100, angle_max=0.5, shift_max=30, save_output=False, relu_output=False):\n",
    "\n",
    "    augmented_features = {}\n",
    "\n",
    "    for filename in tqdm(image_filenames):\n",
    "\n",
    "        # Load image\n",
    "        image_path = os.path.join(IMGS_PATH, f\"{filename}.jpg\")\n",
    "        image = load_image(image_path, image_size=IMG_SIZE, normalize=True)\n",
    "\n",
    "        # Create augmented copies\n",
    "        augmented_images, angles, shifts = create_augmented_copies(image, num_aug=num_aug, angle_max=angle_max, shift_max=shift_max, chunk_size=1)\n",
    "\n",
    "        # Create destination folder\n",
    "        output_folder = os.path.join(dest_folder, filename)\n",
    "        if not os.path.exists(output_folder):\n",
    "            os.makedirs(output_folder)\n",
    "\n",
    "        class_masks = []\n",
    "        max_masks = []\n",
    "\n",
    "        for i, augmented_copy in enumerate(augmented_images):\n",
    "            predictions = model.predict(augmented_copy, batch_size=BATCH_SIZE)\n",
    "            prediction = predictions[0]\n",
    "\n",
    "            if mode == \"slice\":\n",
    "                class_slice = prediction[:, :, filter_class_id]\n",
    "                class_mask = class_slice[..., np.newaxis]\n",
    "\n",
    "                no_class_prediction = np.delete(prediction, filter_class_id, axis=-1)\n",
    "                max_mask = no_class_prediction.max(axis=-1)\n",
    "                max_mask = max_mask[..., np.newaxis]\n",
    "\n",
    "                # ReLU is only needed when working with slices\n",
    "                if relu_output:\n",
    "                    class_mask = (tf.nn.relu(class_mask)).numpy()\n",
    "                    max_mask = (tf.nn.relu(max_mask)).numpy()\n",
    "\n",
    "                max_masks.append(max_mask)\n",
    "\n",
    "            elif mode == \"argmax\":\n",
    "                class_mask = create_mask(prediction)\n",
    "                # Set to 0 all predictions different from the given class\n",
    "                class_mask = tf.where(class_mask == filter_class_id, class_mask, 0)\n",
    "                class_mask = tf.cast(class_mask, tf.float32) # Necessary for super-resolution operations\n",
    "                class_mask = class_mask.numpy()\n",
    "\n",
    "            class_masks.append(class_mask)\n",
    "\n",
    "            if save_output:\n",
    "                tf.keras.utils.save_img(f\"{output_folder}/{i}_class.png\", class_mask, scale=True)\n",
    "                if mode == \"slice\":\n",
    "                    tf.keras.utils.save_img(f\"{output_folder}/{i}_max.png\", max_mask, scale=True)\n",
    "\n",
    "            # np.save(os.path.join(output_folder, f\"{filename}_angles\"), angles)\n",
    "            # np.save(os.path.join(output_folder, f\"{filename}_shifts\"), shifts)\n",
    "\n",
    "        file = h5py.File(f\"{output_folder}/{filename}.hdf5\", \"w\")\n",
    "        file.create_dataset(\"class_masks\", data=class_masks)\n",
    "\n",
    "        if mode == \"slice\":\n",
    "            file.create_dataset(\"max_masks\", data=max_masks)\n",
    "\n",
    "        file.create_dataset(\"angles\", data=angles)\n",
    "        file.create_dataset(\"shifts\", data=shifts)\n",
    "        file.attrs[\"filename\"] = filename\n",
    "        file.attrs[\"mode\"] = mode\n",
    "\n",
    "        file.close()\n",
    "\n",
    "        augmented_features[filename] = { \"class\": class_masks, \"max\": max_masks }\n",
    "\n",
    "    return augmented_features"
   ],
   "metadata": {
    "collapsed": false,
    "pycharm": {
     "name": "#%%\n"
    }
   }
  },
  {
   "cell_type": "code",
   "execution_count": 9,
   "outputs": [
    {
     "name": "stderr",
     "output_type": "stream",
     "text": [
      "100%|██████████| 47/47 [16:19<00:00, 20.83s/it]\n"
     ]
    }
   ],
   "source": [
    "angle_max = 0.5  # in radians\n",
    "shift_max = 30\n",
    "\n",
    "augmented_features_dict = compute_augmented_features(images_dict, model_no_upsample, mode=\"slice\", dest_folder=PRECOMPUTED_OUTPUT_DIR, filter_class_id=CLASS_ID, num_aug=NUM_AUG, angle_max=angle_max, shift_max=shift_max, save_output=True, relu_output=False)"
   ],
   "metadata": {
    "collapsed": false,
    "pycharm": {
     "name": "#%%\n"
    }
   }
  },
  {
   "cell_type": "markdown",
   "source": [
    "# Compute Super-Resolution Output"
   ],
   "metadata": {
    "collapsed": false,
    "pycharm": {
     "name": "#%% md\n"
    }
   }
  },
  {
   "cell_type": "code",
   "execution_count": 10,
   "outputs": [],
   "source": [
    "def threshold_image(class_mask, max_mask=None, th_val=.15):\n",
    "    if max_mask is not None:\n",
    "        th_mask = tf.where(class_mask >= max_mask, CLASS_ID, 0)\n",
    "    else:\n",
    "        sample_th = tf.cast(tf.reduce_max(class_mask), tf.float32) * th_val\n",
    "        th_mask = tf.where(class_mask > sample_th, CLASS_ID, 0)\n",
    "\n",
    "    return th_mask.numpy()\n",
    "\n",
    "\n",
    "def custom_IOU(y_true, y_pred, class_id):\n",
    "    y_true_squeeze = tf.squeeze(y_true)\n",
    "    y_pred_squeeze = tf.squeeze(y_pred)\n",
    "    classes = [0, class_id] # Only check in background and given class\n",
    "\n",
    "    y_true_squeeze = tf.where(y_true_squeeze != class_id, 0, y_true_squeeze)\n",
    "\n",
    "    ious = []\n",
    "    for i in classes:\n",
    "        true_labels = tf.equal(y_true_squeeze, i)\n",
    "        pred_labels = tf.equal(y_pred_squeeze, i)\n",
    "        inter = tf.cast(true_labels & pred_labels, tf.int32)\n",
    "        union = tf.cast(true_labels | pred_labels, tf.int32)\n",
    "\n",
    "        iou = tf.reduce_sum(inter) / tf.reduce_sum(union)\n",
    "        ious.append(iou)\n",
    "\n",
    "    ious = tf.stack(ious)\n",
    "    legal_labels = ~tf.math.is_nan(ious)\n",
    "    ious = tf.gather(ious, indices=tf.where(legal_labels))\n",
    "    return tf.reduce_mean(ious)\n",
    "\n",
    "\n",
    "def evaluate_IOU(true_mask, superres_mask, img_size=(512, 512)):\n",
    "    true_mask = tf.reshape(true_mask, (img_size[0] * img_size[1], 1))\n",
    "    superres_mask = tf.reshape(superres_mask, (img_size[0] * img_size[1], 1))\n",
    "\n",
    "    superres_IOU = custom_IOU(true_mask, superres_mask, class_id=CLASS_ID)\n",
    "\n",
    "    return superres_IOU.numpy()"
   ],
   "metadata": {
    "collapsed": false,
    "pycharm": {
     "name": "#%%\n"
    }
   }
  },
  {
   "cell_type": "code",
   "execution_count": 11,
   "outputs": [],
   "source": [
    "def compute_superresolution_output(precomputed_data_paths, superres_args, dest_folder, mode=\"slice\", num_aug=100, global_normalize=True, save_output=False):\n",
    "\n",
    "    superres_masks = {}\n",
    "    class_losses = {}\n",
    "    ious = {}\n",
    "\n",
    "    if not os.path.exists(dest_folder):\n",
    "        os.makedirs(dest_folder)\n",
    "\n",
    "    for file_path in tqdm(precomputed_data_paths):\n",
    "\n",
    "        file = h5py.File(f\"{file_path}\", \"r\")\n",
    "\n",
    "        if not check_hdf5_validity(file, num_aug=num_aug):\n",
    "            print(f\"File: {file_path} is invalid, skipping...\")\n",
    "            file.close()\n",
    "            continue\n",
    "\n",
    "\n",
    "        filename = file.attrs[\"filename\"]\n",
    "        angles = file[\"angles\"][:]\n",
    "        shifts = file[\"shifts\"][:]\n",
    "\n",
    "        class_masks = file[\"class_masks\"][:]\n",
    "        class_masks = tf.stack(class_masks)\n",
    "\n",
    "        if mode == \"slice\":\n",
    "            max_masks = file[\"max_masks\"][:]\n",
    "            max_masks = tf.stack(max_masks)\n",
    "\n",
    "        file.close()\n",
    "\n",
    "\n",
    "        superresolution_obj = Superresolution(\n",
    "            **superres_args,\n",
    "            num_aug=NUM_AUG,\n",
    "            verbose=False\n",
    "        )\n",
    "\n",
    "\n",
    "        global_min = tf.reduce_min(class_masks) if global_normalize else None\n",
    "        global_max = tf.reduce_max(class_masks) if global_normalize else None\n",
    "\n",
    "        class_masks = tf.map_fn(fn=lambda image: min_max_normalization(image.numpy(), new_min=0.0, new_max=1.0, global_min=global_min, global_max=global_max), elems=class_masks)\n",
    "\n",
    "        target_image_class, class_loss = superresolution_obj.compute_output(class_masks, angles, shifts)\n",
    "        target_image_class = (target_image_class[0]).numpy()\n",
    "        print(f\"Final class loss for image {filename}: {class_loss}\")\n",
    "\n",
    "        if mode == \"slice\":\n",
    "\n",
    "            global_min = tf.reduce_min(max_masks) if global_normalize else None\n",
    "            global_max = tf.reduce_max(max_masks) if global_normalize else None\n",
    "\n",
    "            max_masks = tf.map_fn(fn=lambda image: min_max_normalization(image.numpy(), new_min=0.0, new_max=1.0, global_min=global_min, global_max=global_max), elems=max_masks)\n",
    "\n",
    "\n",
    "            target_image_max, max_loss = superresolution_obj.compute_output(max_masks, angles, shifts)\n",
    "            target_image_max = (target_image_max[0]).numpy()\n",
    "            print(f\"Final max loss for image {filename}: {max_loss}\")\n",
    "\n",
    "\n",
    "\n",
    "        class_losses[filename] = class_loss\n",
    "\n",
    "        th_image = threshold_image(target_image_class, max_mask= None if mode == \"argmax\" else target_image_max)\n",
    "\n",
    "        true_mask_path = os.path.join(DATA_DIR, \"VOCdevkit/VOC2012/SegmentationClassAug\", f\"{filename}.png\")\n",
    "        true_mask = load_image(true_mask_path, image_size=IMG_SIZE, normalize=False,\n",
    "                               is_png=True, resize_method=\"nearest\")\n",
    "\n",
    "        iou = evaluate_IOU(true_mask, th_image)\n",
    "        ious[filename] = iou\n",
    "\n",
    "        # superres_masks[filename] = { \"class\": target_image_class, \"max\": target_image_max } if mode == \"slice\" else target_image_class\n",
    "\n",
    "        if save_output:\n",
    "            tf.keras.utils.save_img(f\"{dest_folder}/{filename}_th_{mode}.png\", th_image, scale=True)\n",
    "\n",
    "\n",
    "\n",
    "    mean_iou = np.mean(np.fromiter(ious.values(), dtype=float))\n",
    "\n",
    "    with open(os.path.join(DATA_DIR, \"ious.txt\"), \"a\") as f:\n",
    "        f.write(str(mean_iou))\n",
    "\n",
    "    print(f\"Final Mean IOU: {mean_iou}\")\n",
    "\n",
    "    return 1.0 - mean_iou"
   ],
   "metadata": {
    "collapsed": false,
    "pycharm": {
     "name": "#%%\n"
    }
   }
  },
  {
   "cell_type": "code",
   "execution_count": 12,
   "outputs": [],
   "source": [
    "class SuperresTuner(kt.RandomSearch):\n",
    "\n",
    "    precomputed_data_paths = list_precomputed_data_paths(PRECOMPUTED_OUTPUT_DIR)\n",
    "\n",
    "    def run_trial(self, trial, **kwargs):\n",
    "        hp = trial.hyperparameters\n",
    "\n",
    "        superres_args = {\n",
    "            \"lambda_tv\": hp.Float(\"lambda_tv\", min_value=0.01, max_value= 2.0),\n",
    "            \"lambda_eng\": hp.Float(\"lambda_eng\", min_value=0.01, max_value= 4.0),\n",
    "            # \"num_iter\": hp.Int(\"num_iter\", min_value=400, max_value=800, step=50),\n",
    "            \"num_iter\": 450,\n",
    "            \"learning_rate\" : 1e-3,\n",
    "            \"loss_coeff\": False\n",
    "        }\n",
    "\n",
    "        global_normalize = hp.Boolean(\"global_normalize\")\n",
    "\n",
    "        return compute_superresolution_output(self.precomputed_data_paths, superres_args, dest_folder=SUPERRES_OUTPUT_DIR, mode=\"slice\",  num_aug=NUM_AUG, global_normalize=global_normalize, save_output=False)"
   ],
   "metadata": {
    "collapsed": false,
    "pycharm": {
     "name": "#%%\n"
    }
   }
  },
  {
   "cell_type": "code",
   "execution_count": 13,
   "outputs": [
    {
     "name": "stdout",
     "output_type": "stream",
     "text": [
      "Trial 9 Complete [01h 15m 32s]\n",
      "default_objective: 0.19258085407634706\n",
      "\n",
      "Best default_objective So Far: 0.19252010934839425\n",
      "Total elapsed time: 11h 33m 56s\n",
      "\n",
      "Search: Running Trial #10\n",
      "\n",
      "Hyperparameter    |Value             |Best Value So Far \n",
      "lambda_tv         |1.455             |0.64807           \n",
      "lambda_eng        |1.7508            |3.2873            \n",
      "global_normalize  |False             |True              \n",
      "\n"
     ]
    },
    {
     "name": "stderr",
     "output_type": "stream",
     "text": [
      "  0%|          | 0/47 [00:00<?, ?it/s]"
     ]
    },
    {
     "name": "stdout",
     "output_type": "stream",
     "text": [
      "Final class loss for image 2007_000549: 115478.0703125\n"
     ]
    },
    {
     "name": "stderr",
     "output_type": "stream",
     "text": [
      "  2%|▏         | 1/47 [01:41<1:17:48, 101.50s/it]"
     ]
    },
    {
     "name": "stdout",
     "output_type": "stream",
     "text": [
      "Final max loss for image 2007_000549: 96140.125\n",
      "Final class loss for image 2007_008575: 111697.09375\n"
     ]
    },
    {
     "name": "stderr",
     "output_type": "stream",
     "text": [
      "  4%|▍         | 2/47 [03:24<1:16:46, 102.38s/it]"
     ]
    },
    {
     "name": "stdout",
     "output_type": "stream",
     "text": [
      "Final max loss for image 2007_008575: 103427.5\n",
      "Final class loss for image 2008_003045: 57006.66015625\n"
     ]
    },
    {
     "name": "stderr",
     "output_type": "stream",
     "text": [
      "  6%|▋         | 3/47 [05:06<1:15:05, 102.40s/it]"
     ]
    },
    {
     "name": "stdout",
     "output_type": "stream",
     "text": [
      "Final max loss for image 2008_003045: 104134.4296875\n",
      "Final class loss for image 2008_003303: 80741.1953125\n"
     ]
    },
    {
     "name": "stderr",
     "output_type": "stream",
     "text": [
      "  9%|▊         | 4/47 [06:48<1:13:08, 102.05s/it]"
     ]
    },
    {
     "name": "stdout",
     "output_type": "stream",
     "text": [
      "Final max loss for image 2008_003303: 101143.078125\n",
      "Final class loss for image 2008_005134: 85563.71875\n"
     ]
    },
    {
     "name": "stderr",
     "output_type": "stream",
     "text": [
      " 11%|█         | 5/47 [08:31<1:11:43, 102.47s/it]"
     ]
    },
    {
     "name": "stdout",
     "output_type": "stream",
     "text": [
      "Final max loss for image 2008_005134: 96781.015625\n",
      "Final class loss for image 2008_005247: 81417.296875\n"
     ]
    },
    {
     "name": "stderr",
     "output_type": "stream",
     "text": [
      " 13%|█▎        | 6/47 [10:14<1:10:12, 102.75s/it]"
     ]
    },
    {
     "name": "stdout",
     "output_type": "stream",
     "text": [
      "Final max loss for image 2008_005247: 104669.1484375\n",
      "Final class loss for image 2008_005337: 65533.6484375\n"
     ]
    },
    {
     "name": "stderr",
     "output_type": "stream",
     "text": [
      " 15%|█▍        | 7/47 [11:58<1:08:46, 103.17s/it]"
     ]
    },
    {
     "name": "stdout",
     "output_type": "stream",
     "text": [
      "Final max loss for image 2008_005337: 82504.03125\n",
      "Final class loss for image 2008_005566: 65017.21875\n"
     ]
    },
    {
     "name": "stderr",
     "output_type": "stream",
     "text": [
      " 17%|█▋        | 8/47 [13:42<1:07:10, 103.36s/it]"
     ]
    },
    {
     "name": "stdout",
     "output_type": "stream",
     "text": [
      "Final max loss for image 2008_005566: 73830.5390625\n",
      "Final class loss for image 2008_005600: 49153.890625\n"
     ]
    },
    {
     "name": "stderr",
     "output_type": "stream",
     "text": [
      " 19%|█▉        | 9/47 [15:25<1:05:23, 103.25s/it]"
     ]
    },
    {
     "name": "stdout",
     "output_type": "stream",
     "text": [
      "Final max loss for image 2008_005600: 111111.1015625\n",
      "Final class loss for image 2008_006099: 102411.5\n"
     ]
    },
    {
     "name": "stderr",
     "output_type": "stream",
     "text": [
      " 21%|██▏       | 10/47 [17:04<1:02:49, 101.88s/it]"
     ]
    },
    {
     "name": "stdout",
     "output_type": "stream",
     "text": [
      "Final max loss for image 2008_006099: 92926.9609375\n",
      "Final class loss for image 2008_007085: 49882.109375\n"
     ]
    },
    {
     "name": "stderr",
     "output_type": "stream",
     "text": [
      " 23%|██▎       | 11/47 [18:40<59:57, 99.92s/it]   "
     ]
    },
    {
     "name": "stdout",
     "output_type": "stream",
     "text": [
      "Final max loss for image 2008_007085: 96853.09375\n",
      "Final class loss for image 2008_007130: 112320.359375\n"
     ]
    },
    {
     "name": "stderr",
     "output_type": "stream",
     "text": [
      " 26%|██▌       | 12/47 [20:15<57:30, 98.58s/it]"
     ]
    },
    {
     "name": "stdout",
     "output_type": "stream",
     "text": [
      "Final max loss for image 2008_007130: 79084.828125\n",
      "Final class loss for image 2008_007324: 69137.6015625\n"
     ]
    },
    {
     "name": "stderr",
     "output_type": "stream",
     "text": [
      " 28%|██▊       | 13/47 [21:51<55:29, 97.93s/it]"
     ]
    },
    {
     "name": "stdout",
     "output_type": "stream",
     "text": [
      "Final max loss for image 2008_007324: 109762.046875\n",
      "Final class loss for image 2009_000150: 63699.56640625\n"
     ]
    },
    {
     "name": "stderr",
     "output_type": "stream",
     "text": [
      " 30%|██▉       | 14/47 [23:28<53:33, 97.38s/it]"
     ]
    },
    {
     "name": "stdout",
     "output_type": "stream",
     "text": [
      "Final max loss for image 2009_000150: 112030.3984375\n",
      "Final class loss for image 2009_000304: 54090.48046875\n"
     ]
    },
    {
     "name": "stderr",
     "output_type": "stream",
     "text": [
      " 32%|███▏      | 15/47 [25:04<51:45, 97.03s/it]"
     ]
    },
    {
     "name": "stdout",
     "output_type": "stream",
     "text": [
      "Final max loss for image 2009_000304: 129774.296875\n",
      "Final class loss for image 2009_002053: 91448.421875\n"
     ]
    },
    {
     "name": "stderr",
     "output_type": "stream",
     "text": [
      " 34%|███▍      | 16/47 [26:41<50:05, 96.96s/it]"
     ]
    },
    {
     "name": "stdout",
     "output_type": "stream",
     "text": [
      "Final max loss for image 2009_002053: 105071.3046875\n",
      "Final class loss for image 2009_002813: 75594.859375\n"
     ]
    },
    {
     "name": "stderr",
     "output_type": "stream",
     "text": [
      " 36%|███▌      | 17/47 [28:16<48:16, 96.55s/it]"
     ]
    },
    {
     "name": "stdout",
     "output_type": "stream",
     "text": [
      "Final max loss for image 2009_002813: 84229.828125\n",
      "Final class loss for image 2009_002972: 51719.24609375\n"
     ]
    },
    {
     "name": "stderr",
     "output_type": "stream",
     "text": [
      " 38%|███▊      | 18/47 [29:53<46:44, 96.69s/it]"
     ]
    },
    {
     "name": "stdout",
     "output_type": "stream",
     "text": [
      "Final max loss for image 2009_002972: 102494.515625\n",
      "Final class loss for image 2009_003697: 39724.9140625\n"
     ]
    },
    {
     "name": "stderr",
     "output_type": "stream",
     "text": [
      " 40%|████      | 19/47 [31:30<45:04, 96.59s/it]"
     ]
    },
    {
     "name": "stdout",
     "output_type": "stream",
     "text": [
      "Final max loss for image 2009_003697: 126783.6484375\n",
      "Final class loss for image 2009_003698: 90656.65625\n"
     ]
    },
    {
     "name": "stderr",
     "output_type": "stream",
     "text": [
      " 43%|████▎     | 20/47 [33:06<43:27, 96.58s/it]"
     ]
    },
    {
     "name": "stdout",
     "output_type": "stream",
     "text": [
      "Final max loss for image 2009_003698: 104470.171875\n",
      "Final class loss for image 2009_005177: 100651.6328125\n"
     ]
    },
    {
     "name": "stderr",
     "output_type": "stream",
     "text": [
      " 45%|████▍     | 21/47 [34:42<41:48, 96.47s/it]"
     ]
    },
    {
     "name": "stdout",
     "output_type": "stream",
     "text": [
      "Final max loss for image 2009_005177: 100323.5625\n",
      "Final class loss for image 2010_000054: 130455.21875\n"
     ]
    },
    {
     "name": "stderr",
     "output_type": "stream",
     "text": [
      " 47%|████▋     | 22/47 [36:17<40:01, 96.07s/it]"
     ]
    },
    {
     "name": "stdout",
     "output_type": "stream",
     "text": [
      "Final max loss for image 2010_000054: 103454.4453125\n",
      "Final class loss for image 2010_000157: 109937.3984375\n"
     ]
    },
    {
     "name": "stderr",
     "output_type": "stream",
     "text": [
      " 49%|████▉     | 23/47 [37:54<38:27, 96.13s/it]"
     ]
    },
    {
     "name": "stdout",
     "output_type": "stream",
     "text": [
      "Final max loss for image 2010_000157: 81159.953125\n",
      "Final class loss for image 2010_000172: 40770.22265625\n"
     ]
    },
    {
     "name": "stderr",
     "output_type": "stream",
     "text": [
      " 51%|█████     | 24/47 [39:30<36:48, 96.04s/it]"
     ]
    },
    {
     "name": "stdout",
     "output_type": "stream",
     "text": [
      "Final max loss for image 2010_000172: 126644.65625\n",
      "Final class loss for image 2010_000586: 90273.078125\n"
     ]
    },
    {
     "name": "stderr",
     "output_type": "stream",
     "text": [
      " 53%|█████▎    | 25/47 [41:05<35:11, 95.96s/it]"
     ]
    },
    {
     "name": "stdout",
     "output_type": "stream",
     "text": [
      "Final max loss for image 2010_000586: 112090.4453125\n",
      "Final class loss for image 2010_000661: 65435.9296875\n"
     ]
    },
    {
     "name": "stderr",
     "output_type": "stream",
     "text": [
      " 55%|█████▌    | 26/47 [42:43<33:47, 96.55s/it]"
     ]
    },
    {
     "name": "stdout",
     "output_type": "stream",
     "text": [
      "Final max loss for image 2010_000661: 98763.296875\n",
      "Final class loss for image 2010_001555: 110490.8046875\n"
     ]
    },
    {
     "name": "stderr",
     "output_type": "stream",
     "text": [
      " 57%|█████▋    | 27/47 [44:20<32:09, 96.48s/it]"
     ]
    },
    {
     "name": "stdout",
     "output_type": "stream",
     "text": [
      "Final max loss for image 2010_001555: 100347.9921875\n",
      "Final class loss for image 2010_001647: 77252.9296875\n"
     ]
    },
    {
     "name": "stderr",
     "output_type": "stream",
     "text": [
      " 60%|█████▉    | 28/47 [45:56<30:31, 96.41s/it]"
     ]
    },
    {
     "name": "stdout",
     "output_type": "stream",
     "text": [
      "Final max loss for image 2010_001647: 115035.078125\n",
      "Final class loss for image 2010_001884: 44815.97265625\n"
     ]
    },
    {
     "name": "stderr",
     "output_type": "stream",
     "text": [
      " 62%|██████▏   | 29/47 [47:36<29:17, 97.63s/it]"
     ]
    },
    {
     "name": "stdout",
     "output_type": "stream",
     "text": [
      "Final max loss for image 2010_001884: 138669.734375\n",
      "Final class loss for image 2010_002040: 127950.390625\n"
     ]
    },
    {
     "name": "stderr",
     "output_type": "stream",
     "text": [
      " 62%|██████▏   | 29/47 [49:16<30:34, 101.93s/it]\n"
     ]
    },
    {
     "ename": "KeyboardInterrupt",
     "evalue": "",
     "output_type": "error",
     "traceback": [
      "\u001B[1;31m---------------------------------------------------------------------------\u001B[0m",
      "\u001B[1;31mKeyboardInterrupt\u001B[0m                         Traceback (most recent call last)",
      "\u001B[1;32m~\\AppData\\Local\\Temp/ipykernel_51948/1610068662.py\u001B[0m in \u001B[0;36m<module>\u001B[1;34m\u001B[0m\n\u001B[0;32m      7\u001B[0m )\n\u001B[0;32m      8\u001B[0m \u001B[1;33m\u001B[0m\u001B[0m\n\u001B[1;32m----> 9\u001B[1;33m \u001B[0mtuner\u001B[0m\u001B[1;33m.\u001B[0m\u001B[0msearch\u001B[0m\u001B[1;33m(\u001B[0m\u001B[1;33m)\u001B[0m\u001B[1;33m\u001B[0m\u001B[1;33m\u001B[0m\u001B[0m\n\u001B[0m",
      "\u001B[1;32mc:\\users\\alber\\desktop\\deeplabv3plus-tf2\\venv\\lib\\site-packages\\keras_tuner\\engine\\base_tuner.py\u001B[0m in \u001B[0;36msearch\u001B[1;34m(self, *fit_args, **fit_kwargs)\u001B[0m\n\u001B[0;32m    177\u001B[0m \u001B[1;33m\u001B[0m\u001B[0m\n\u001B[0;32m    178\u001B[0m             \u001B[0mself\u001B[0m\u001B[1;33m.\u001B[0m\u001B[0mon_trial_begin\u001B[0m\u001B[1;33m(\u001B[0m\u001B[0mtrial\u001B[0m\u001B[1;33m)\u001B[0m\u001B[1;33m\u001B[0m\u001B[1;33m\u001B[0m\u001B[0m\n\u001B[1;32m--> 179\u001B[1;33m             \u001B[0mresults\u001B[0m \u001B[1;33m=\u001B[0m \u001B[0mself\u001B[0m\u001B[1;33m.\u001B[0m\u001B[0mrun_trial\u001B[0m\u001B[1;33m(\u001B[0m\u001B[0mtrial\u001B[0m\u001B[1;33m,\u001B[0m \u001B[1;33m*\u001B[0m\u001B[0mfit_args\u001B[0m\u001B[1;33m,\u001B[0m \u001B[1;33m**\u001B[0m\u001B[0mfit_kwargs\u001B[0m\u001B[1;33m)\u001B[0m\u001B[1;33m\u001B[0m\u001B[1;33m\u001B[0m\u001B[0m\n\u001B[0m\u001B[0;32m    180\u001B[0m             \u001B[1;31m# `results` is None indicates user updated oracle in `run_trial()`.\u001B[0m\u001B[1;33m\u001B[0m\u001B[1;33m\u001B[0m\u001B[0m\n\u001B[0;32m    181\u001B[0m             \u001B[1;32mif\u001B[0m \u001B[0mresults\u001B[0m \u001B[1;32mis\u001B[0m \u001B[1;32mNone\u001B[0m\u001B[1;33m:\u001B[0m\u001B[1;33m\u001B[0m\u001B[1;33m\u001B[0m\u001B[0m\n",
      "\u001B[1;32m~\\AppData\\Local\\Temp/ipykernel_51948/92457109.py\u001B[0m in \u001B[0;36mrun_trial\u001B[1;34m(self, trial, **kwargs)\u001B[0m\n\u001B[0;32m     17\u001B[0m         \u001B[0mglobal_normalize\u001B[0m \u001B[1;33m=\u001B[0m \u001B[0mhp\u001B[0m\u001B[1;33m.\u001B[0m\u001B[0mBoolean\u001B[0m\u001B[1;33m(\u001B[0m\u001B[1;34m\"global_normalize\"\u001B[0m\u001B[1;33m)\u001B[0m\u001B[1;33m\u001B[0m\u001B[1;33m\u001B[0m\u001B[0m\n\u001B[0;32m     18\u001B[0m \u001B[1;33m\u001B[0m\u001B[0m\n\u001B[1;32m---> 19\u001B[1;33m         \u001B[1;32mreturn\u001B[0m \u001B[0mcompute_superresolution_output\u001B[0m\u001B[1;33m(\u001B[0m\u001B[0mself\u001B[0m\u001B[1;33m.\u001B[0m\u001B[0mprecomputed_data_paths\u001B[0m\u001B[1;33m,\u001B[0m \u001B[0msuperres_args\u001B[0m\u001B[1;33m,\u001B[0m \u001B[0mdest_folder\u001B[0m\u001B[1;33m=\u001B[0m\u001B[0mSUPERRES_OUTPUT_DIR\u001B[0m\u001B[1;33m,\u001B[0m \u001B[0mmode\u001B[0m\u001B[1;33m=\u001B[0m\u001B[1;34m\"slice\"\u001B[0m\u001B[1;33m,\u001B[0m  \u001B[0mnum_aug\u001B[0m\u001B[1;33m=\u001B[0m\u001B[0mNUM_AUG\u001B[0m\u001B[1;33m,\u001B[0m \u001B[0mglobal_normalize\u001B[0m\u001B[1;33m=\u001B[0m\u001B[0mglobal_normalize\u001B[0m\u001B[1;33m,\u001B[0m \u001B[0msave_output\u001B[0m\u001B[1;33m=\u001B[0m\u001B[1;32mFalse\u001B[0m\u001B[1;33m)\u001B[0m\u001B[1;33m\u001B[0m\u001B[1;33m\u001B[0m\u001B[0m\n\u001B[0m",
      "\u001B[1;32m~\\AppData\\Local\\Temp/ipykernel_51948/1201431551.py\u001B[0m in \u001B[0;36mcompute_superresolution_output\u001B[1;34m(precomputed_data_paths, superres_args, dest_folder, mode, num_aug, global_normalize, save_output)\u001B[0m\n\u001B[0;32m     56\u001B[0m \u001B[1;33m\u001B[0m\u001B[0m\n\u001B[0;32m     57\u001B[0m \u001B[1;33m\u001B[0m\u001B[0m\n\u001B[1;32m---> 58\u001B[1;33m             \u001B[0mtarget_image_max\u001B[0m\u001B[1;33m,\u001B[0m \u001B[0mmax_loss\u001B[0m \u001B[1;33m=\u001B[0m \u001B[0msuperresolution_obj\u001B[0m\u001B[1;33m.\u001B[0m\u001B[0mcompute_output\u001B[0m\u001B[1;33m(\u001B[0m\u001B[0mmax_masks\u001B[0m\u001B[1;33m,\u001B[0m \u001B[0mangles\u001B[0m\u001B[1;33m,\u001B[0m \u001B[0mshifts\u001B[0m\u001B[1;33m)\u001B[0m\u001B[1;33m\u001B[0m\u001B[1;33m\u001B[0m\u001B[0m\n\u001B[0m\u001B[0;32m     59\u001B[0m             \u001B[0mtarget_image_max\u001B[0m \u001B[1;33m=\u001B[0m \u001B[1;33m(\u001B[0m\u001B[0mtarget_image_max\u001B[0m\u001B[1;33m[\u001B[0m\u001B[1;36m0\u001B[0m\u001B[1;33m]\u001B[0m\u001B[1;33m)\u001B[0m\u001B[1;33m.\u001B[0m\u001B[0mnumpy\u001B[0m\u001B[1;33m(\u001B[0m\u001B[1;33m)\u001B[0m\u001B[1;33m\u001B[0m\u001B[1;33m\u001B[0m\u001B[0m\n\u001B[0;32m     60\u001B[0m             \u001B[0mprint\u001B[0m\u001B[1;33m(\u001B[0m\u001B[1;34mf\"Final max loss for image {filename}: {max_loss}\"\u001B[0m\u001B[1;33m)\u001B[0m\u001B[1;33m\u001B[0m\u001B[1;33m\u001B[0m\u001B[0m\n",
      "\u001B[1;32m~\\Desktop\\DeeplabV3Plus-TF2\\superresolution.py\u001B[0m in \u001B[0;36mcompute_output\u001B[1;34m(self, augmented_samples, angles, shifts)\u001B[0m\n\u001B[0;32m     62\u001B[0m                     \u001B[0mprint\u001B[0m\u001B[1;33m(\u001B[0m\u001B[1;34mf\"{i + 1}/{self.num_iter} -- loss = {loss}\"\u001B[0m\u001B[1;33m)\u001B[0m\u001B[1;33m\u001B[0m\u001B[1;33m\u001B[0m\u001B[0m\n\u001B[0;32m     63\u001B[0m \u001B[1;33m\u001B[0m\u001B[0m\n\u001B[1;32m---> 64\u001B[1;33m             \u001B[0mgradients\u001B[0m \u001B[1;33m=\u001B[0m \u001B[0mtape\u001B[0m\u001B[1;33m.\u001B[0m\u001B[0mgradient\u001B[0m\u001B[1;33m(\u001B[0m\u001B[0mloss\u001B[0m\u001B[1;33m,\u001B[0m \u001B[0mtrainable_vars\u001B[0m\u001B[1;33m)\u001B[0m\u001B[1;33m\u001B[0m\u001B[1;33m\u001B[0m\u001B[0m\n\u001B[0m\u001B[0;32m     65\u001B[0m             \u001B[0moptimizer\u001B[0m\u001B[1;33m.\u001B[0m\u001B[0mapply_gradients\u001B[0m\u001B[1;33m(\u001B[0m\u001B[0mzip\u001B[0m\u001B[1;33m(\u001B[0m\u001B[0mgradients\u001B[0m\u001B[1;33m,\u001B[0m \u001B[0mtrainable_vars\u001B[0m\u001B[1;33m)\u001B[0m\u001B[1;33m)\u001B[0m\u001B[1;33m\u001B[0m\u001B[1;33m\u001B[0m\u001B[0m\n\u001B[0;32m     66\u001B[0m \u001B[1;33m\u001B[0m\u001B[0m\n",
      "\u001B[1;32mc:\\users\\alber\\desktop\\deeplabv3plus-tf2\\venv\\lib\\site-packages\\tensorflow\\python\\eager\\backprop.py\u001B[0m in \u001B[0;36mgradient\u001B[1;34m(self, target, sources, output_gradients, unconnected_gradients)\u001B[0m\n\u001B[0;32m   1082\u001B[0m                           for x in nest.flatten(output_gradients)]\n\u001B[0;32m   1083\u001B[0m \u001B[1;33m\u001B[0m\u001B[0m\n\u001B[1;32m-> 1084\u001B[1;33m     flat_grad = imperative_grad.imperative_grad(\n\u001B[0m\u001B[0;32m   1085\u001B[0m         \u001B[0mself\u001B[0m\u001B[1;33m.\u001B[0m\u001B[0m_tape\u001B[0m\u001B[1;33m,\u001B[0m\u001B[1;33m\u001B[0m\u001B[1;33m\u001B[0m\u001B[0m\n\u001B[0;32m   1086\u001B[0m         \u001B[0mflat_targets\u001B[0m\u001B[1;33m,\u001B[0m\u001B[1;33m\u001B[0m\u001B[1;33m\u001B[0m\u001B[0m\n",
      "\u001B[1;32mc:\\users\\alber\\desktop\\deeplabv3plus-tf2\\venv\\lib\\site-packages\\tensorflow\\python\\eager\\imperative_grad.py\u001B[0m in \u001B[0;36mimperative_grad\u001B[1;34m(tape, target, sources, output_gradients, sources_raw, unconnected_gradients)\u001B[0m\n\u001B[0;32m     69\u001B[0m         \"Unknown value for unconnected_gradients: %r\" % unconnected_gradients)\n\u001B[0;32m     70\u001B[0m \u001B[1;33m\u001B[0m\u001B[0m\n\u001B[1;32m---> 71\u001B[1;33m   return pywrap_tfe.TFE_Py_TapeGradient(\n\u001B[0m\u001B[0;32m     72\u001B[0m       \u001B[0mtape\u001B[0m\u001B[1;33m.\u001B[0m\u001B[0m_tape\u001B[0m\u001B[1;33m,\u001B[0m  \u001B[1;31m# pylint: disable=protected-access\u001B[0m\u001B[1;33m\u001B[0m\u001B[1;33m\u001B[0m\u001B[0m\n\u001B[0;32m     73\u001B[0m       \u001B[0mtarget\u001B[0m\u001B[1;33m,\u001B[0m\u001B[1;33m\u001B[0m\u001B[1;33m\u001B[0m\u001B[0m\n",
      "\u001B[1;32mc:\\users\\alber\\desktop\\deeplabv3plus-tf2\\venv\\lib\\site-packages\\tensorflow\\python\\eager\\function.py\u001B[0m in \u001B[0;36m_backward_function_wrapper\u001B[1;34m(*args)\u001B[0m\n\u001B[0;32m   1304\u001B[0m         \u001B[1;32mif\u001B[0m \u001B[0minput_index\u001B[0m \u001B[1;33m>=\u001B[0m \u001B[0mbackward_function_inputs\u001B[0m\u001B[1;33m:\u001B[0m\u001B[1;33m\u001B[0m\u001B[1;33m\u001B[0m\u001B[0m\n\u001B[0;32m   1305\u001B[0m           \u001B[1;32mbreak\u001B[0m\u001B[1;33m\u001B[0m\u001B[1;33m\u001B[0m\u001B[0m\n\u001B[1;32m-> 1306\u001B[1;33m       return backward._call_flat(  # pylint: disable=protected-access\n\u001B[0m\u001B[0;32m   1307\u001B[0m           processed_args, remapped_captures)\n\u001B[0;32m   1308\u001B[0m \u001B[1;33m\u001B[0m\u001B[0m\n",
      "\u001B[1;32mc:\\users\\alber\\desktop\\deeplabv3plus-tf2\\venv\\lib\\site-packages\\tensorflow\\python\\eager\\function.py\u001B[0m in \u001B[0;36m_call_flat\u001B[1;34m(self, args, captured_inputs, cancellation_manager)\u001B[0m\n\u001B[0;32m   1957\u001B[0m         and executing_eagerly):\n\u001B[0;32m   1958\u001B[0m       \u001B[1;31m# No tape is watching; skip to running the function.\u001B[0m\u001B[1;33m\u001B[0m\u001B[1;33m\u001B[0m\u001B[0m\n\u001B[1;32m-> 1959\u001B[1;33m       return self._build_call_outputs(self._inference_function.call(\n\u001B[0m\u001B[0;32m   1960\u001B[0m           ctx, args, cancellation_manager=cancellation_manager))\n\u001B[0;32m   1961\u001B[0m     forward_backward = self._select_forward_and_backward_functions(\n",
      "\u001B[1;32mc:\\users\\alber\\desktop\\deeplabv3plus-tf2\\venv\\lib\\site-packages\\tensorflow\\python\\eager\\function.py\u001B[0m in \u001B[0;36mcall\u001B[1;34m(self, ctx, args, cancellation_manager)\u001B[0m\n\u001B[0;32m    596\u001B[0m       \u001B[1;32mwith\u001B[0m \u001B[0m_InterpolateFunctionError\u001B[0m\u001B[1;33m(\u001B[0m\u001B[0mself\u001B[0m\u001B[1;33m)\u001B[0m\u001B[1;33m:\u001B[0m\u001B[1;33m\u001B[0m\u001B[1;33m\u001B[0m\u001B[0m\n\u001B[0;32m    597\u001B[0m         \u001B[1;32mif\u001B[0m \u001B[0mcancellation_manager\u001B[0m \u001B[1;32mis\u001B[0m \u001B[1;32mNone\u001B[0m\u001B[1;33m:\u001B[0m\u001B[1;33m\u001B[0m\u001B[1;33m\u001B[0m\u001B[0m\n\u001B[1;32m--> 598\u001B[1;33m           outputs = execute.execute(\n\u001B[0m\u001B[0;32m    599\u001B[0m               \u001B[0mstr\u001B[0m\u001B[1;33m(\u001B[0m\u001B[0mself\u001B[0m\u001B[1;33m.\u001B[0m\u001B[0msignature\u001B[0m\u001B[1;33m.\u001B[0m\u001B[0mname\u001B[0m\u001B[1;33m)\u001B[0m\u001B[1;33m,\u001B[0m\u001B[1;33m\u001B[0m\u001B[1;33m\u001B[0m\u001B[0m\n\u001B[0;32m    600\u001B[0m               \u001B[0mnum_outputs\u001B[0m\u001B[1;33m=\u001B[0m\u001B[0mself\u001B[0m\u001B[1;33m.\u001B[0m\u001B[0m_num_outputs\u001B[0m\u001B[1;33m,\u001B[0m\u001B[1;33m\u001B[0m\u001B[1;33m\u001B[0m\u001B[0m\n",
      "\u001B[1;32mc:\\users\\alber\\desktop\\deeplabv3plus-tf2\\venv\\lib\\site-packages\\tensorflow\\python\\eager\\execute.py\u001B[0m in \u001B[0;36mquick_execute\u001B[1;34m(op_name, num_outputs, inputs, attrs, ctx, name)\u001B[0m\n\u001B[0;32m     56\u001B[0m   \u001B[1;32mtry\u001B[0m\u001B[1;33m:\u001B[0m\u001B[1;33m\u001B[0m\u001B[1;33m\u001B[0m\u001B[0m\n\u001B[0;32m     57\u001B[0m     \u001B[0mctx\u001B[0m\u001B[1;33m.\u001B[0m\u001B[0mensure_initialized\u001B[0m\u001B[1;33m(\u001B[0m\u001B[1;33m)\u001B[0m\u001B[1;33m\u001B[0m\u001B[1;33m\u001B[0m\u001B[0m\n\u001B[1;32m---> 58\u001B[1;33m     tensors = pywrap_tfe.TFE_Py_Execute(ctx._handle, device_name, op_name,\n\u001B[0m\u001B[0;32m     59\u001B[0m                                         inputs, attrs, num_outputs)\n\u001B[0;32m     60\u001B[0m   \u001B[1;32mexcept\u001B[0m \u001B[0mcore\u001B[0m\u001B[1;33m.\u001B[0m\u001B[0m_NotOkStatusException\u001B[0m \u001B[1;32mas\u001B[0m \u001B[0me\u001B[0m\u001B[1;33m:\u001B[0m\u001B[1;33m\u001B[0m\u001B[1;33m\u001B[0m\u001B[0m\n",
      "\u001B[1;31mKeyboardInterrupt\u001B[0m: "
     ]
    }
   ],
   "source": [
    "tuner = SuperresTuner(\n",
    "    # No hypermodel or objective specified.\n",
    "    max_trials=30,\n",
    "    overwrite=True,\n",
    "    directory=DATA_DIR,\n",
    "    project_name=\"Tuner_Trials\",\n",
    ")\n",
    "\n",
    "tuner.search()"
   ],
   "metadata": {
    "collapsed": false,
    "pycharm": {
     "name": "#%%\n"
    }
   }
  },
  {
   "cell_type": "code",
   "execution_count": null,
   "outputs": [],
   "source": [
    "print(tuner.get_best_hyperparameters()[0].get(\"lambda_tv\"))\n",
    "print(tuner.get_best_hyperparameters()[0].get(\"lambda_eng\"))\n",
    "print(tuner.get_best_hyperparameters()[0].get(\"global_normalize\"))"
   ],
   "metadata": {
    "collapsed": false,
    "pycharm": {
     "name": "#%%\n"
    }
   }
  }
 ],
 "metadata": {
  "kernelspec": {
   "display_name": "Python 3",
   "language": "python",
   "name": "python3"
  },
  "language_info": {
   "codemirror_mode": {
    "name": "ipython",
    "version": 2
   },
   "file_extension": ".py",
   "mimetype": "text/x-python",
   "name": "python",
   "nbconvert_exporter": "python",
   "pygments_lexer": "ipython2",
   "version": "2.7.6"
  }
 },
 "nbformat": 4,
 "nbformat_minor": 0
}